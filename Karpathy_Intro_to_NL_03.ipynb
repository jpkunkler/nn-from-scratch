{
 "cells": [
  {
   "cell_type": "code",
   "execution_count": 1,
   "metadata": {},
   "outputs": [],
   "source": [
    "import torch\n",
    "import torch.nn.functional as F\n",
    "import matplotlib.pyplot as plt\n",
    "%matplotlib inline"
   ]
  },
  {
   "cell_type": "code",
   "execution_count": 2,
   "metadata": {},
   "outputs": [
    {
     "data": {
      "text/plain": [
       "['emma', 'olivia', 'ava', 'isabella', 'sophia', 'charlotte', 'mia', 'amelia']"
      ]
     },
     "execution_count": 2,
     "metadata": {},
     "output_type": "execute_result"
    }
   ],
   "source": [
    "# read in all words\n",
    "words = open(\"names.txt\").read().splitlines()\n",
    "words[:8]"
   ]
  },
  {
   "cell_type": "code",
   "execution_count": 3,
   "metadata": {},
   "outputs": [
    {
     "data": {
      "text/plain": [
       "32033"
      ]
     },
     "execution_count": 3,
     "metadata": {},
     "output_type": "execute_result"
    }
   ],
   "source": [
    "len(words)"
   ]
  },
  {
   "cell_type": "code",
   "execution_count": 4,
   "metadata": {},
   "outputs": [
    {
     "name": "stdout",
     "output_type": "stream",
     "text": [
      "{1: 'a', 2: 'b', 3: 'c', 4: 'd', 5: 'e', 6: 'f', 7: 'g', 8: 'h', 9: 'i', 10: 'j', 11: 'k', 12: 'l', 13: 'm', 14: 'n', 15: 'o', 16: 'p', 17: 'q', 18: 'r', 19: 's', 20: 't', 21: 'u', 22: 'v', 23: 'w', 24: 'x', 25: 'y', 26: 'z', 0: '.'}\n"
     ]
    }
   ],
   "source": [
    "# mapping from each letter to integer and vice versa\n",
    "chars = sorted(list(set(\"\".join(words))))\n",
    "stoi = {s:i+1 for i, s in enumerate(chars)}\n",
    "stoi[\".\"] = 0\n",
    "itos = {i:s for s,i in stoi.items()}\n",
    "print(itos)"
   ]
  },
  {
   "cell_type": "code",
   "execution_count": 5,
   "metadata": {},
   "outputs": [
    {
     "name": "stdout",
     "output_type": "stream",
     "text": [
      "emma\n",
      "... ---> e\n",
      "..e ---> m\n",
      ".em ---> m\n",
      "emm ---> a\n",
      "mma ---> .\n",
      "olivia\n",
      "... ---> o\n",
      "..o ---> l\n",
      ".ol ---> i\n",
      "oli ---> v\n",
      "liv ---> i\n",
      "ivi ---> a\n",
      "via ---> .\n",
      "ava\n",
      "... ---> a\n",
      "..a ---> v\n",
      ".av ---> a\n",
      "ava ---> .\n",
      "isabella\n",
      "... ---> i\n",
      "..i ---> s\n",
      ".is ---> a\n",
      "isa ---> b\n",
      "sab ---> e\n",
      "abe ---> l\n",
      "bel ---> l\n",
      "ell ---> a\n",
      "lla ---> .\n",
      "sophia\n",
      "... ---> s\n",
      "..s ---> o\n",
      ".so ---> p\n",
      "sop ---> h\n",
      "oph ---> i\n",
      "phi ---> a\n",
      "hia ---> .\n"
     ]
    }
   ],
   "source": [
    "# build the dataset\n",
    "\n",
    "block_size = 3 # context_length; how many characters do we use to support our prediction of the next character?\n",
    "X, Y = [], []\n",
    "\n",
    "for w in words[:5]:\n",
    "    print(w)\n",
    "    context = [0] * block_size # padded context of 0-tokens (i.e. \".\")\n",
    "    for ch in w + \".\":\n",
    "        ix = stoi[ch]\n",
    "        X.append(context)\n",
    "        Y.append(ix)\n",
    "        print(\"\".join(itos[i] for i in context), \"--->\", itos[ix])\n",
    "        context = context[1:] + [ix] # shift/move the context window one character to the right --> rolling window of context\n",
    "\n",
    "X = torch.tensor(X)\n",
    "Y = torch.tensor(Y)"
   ]
  },
  {
   "cell_type": "code",
   "execution_count": 6,
   "metadata": {},
   "outputs": [],
   "source": [
    "# We have 32 Input character sequences of block size 3 for these 5 Words\n",
    "# Each of these 32 sequences is represented by 3 integers (one index for each character)"
   ]
  },
  {
   "cell_type": "code",
   "execution_count": 7,
   "metadata": {},
   "outputs": [
    {
     "data": {
      "text/plain": [
       "tensor([[ 0,  0,  0],\n",
       "        [ 0,  0,  5],\n",
       "        [ 0,  5, 13],\n",
       "        [ 5, 13, 13],\n",
       "        [13, 13,  1],\n",
       "        [ 0,  0,  0],\n",
       "        [ 0,  0, 15],\n",
       "        [ 0, 15, 12],\n",
       "        [15, 12,  9],\n",
       "        [12,  9, 22],\n",
       "        [ 9, 22,  9],\n",
       "        [22,  9,  1],\n",
       "        [ 0,  0,  0],\n",
       "        [ 0,  0,  1],\n",
       "        [ 0,  1, 22],\n",
       "        [ 1, 22,  1],\n",
       "        [ 0,  0,  0],\n",
       "        [ 0,  0,  9],\n",
       "        [ 0,  9, 19],\n",
       "        [ 9, 19,  1],\n",
       "        [19,  1,  2],\n",
       "        [ 1,  2,  5],\n",
       "        [ 2,  5, 12],\n",
       "        [ 5, 12, 12],\n",
       "        [12, 12,  1],\n",
       "        [ 0,  0,  0],\n",
       "        [ 0,  0, 19],\n",
       "        [ 0, 19, 15],\n",
       "        [19, 15, 16],\n",
       "        [15, 16,  8],\n",
       "        [16,  8,  9],\n",
       "        [ 8,  9,  1]])"
      ]
     },
     "execution_count": 7,
     "metadata": {},
     "output_type": "execute_result"
    }
   ],
   "source": [
    "X"
   ]
  },
  {
   "cell_type": "code",
   "execution_count": 8,
   "metadata": {},
   "outputs": [
    {
     "data": {
      "text/plain": [
       "(torch.Size([32, 3]), torch.int64, torch.Size([32]), torch.int64)"
      ]
     },
     "execution_count": 8,
     "metadata": {},
     "output_type": "execute_result"
    }
   ],
   "source": [
    "X.shape, X.dtype, Y.shape, Y.dtype"
   ]
  },
  {
   "cell_type": "code",
   "execution_count": 9,
   "metadata": {},
   "outputs": [],
   "source": [
    "# Let's create the embedding space and initialize it randomly\n",
    "# Here, we start by embedding all 27 characters in as small as 2 dimensions, i.e. a 2-dimensional space\n",
    "C = torch.randn((27, 2))"
   ]
  },
  {
   "cell_type": "code",
   "execution_count": 10,
   "metadata": {},
   "outputs": [
    {
     "data": {
      "text/plain": [
       "tensor([ 1.2401, -0.0377])"
      ]
     },
     "execution_count": 10,
     "metadata": {},
     "output_type": "execute_result"
    }
   ],
   "source": [
    "# Start by an individual example, i.e. character 5\n",
    "C[5]"
   ]
  },
  {
   "cell_type": "code",
   "execution_count": 11,
   "metadata": {},
   "outputs": [
    {
     "data": {
      "text/plain": [
       "tensor([[-0.0725,  0.6984],\n",
       "        [-2.0324,  0.1152],\n",
       "        [ 1.2419, -1.9337],\n",
       "        [ 0.6401,  0.7690],\n",
       "        [-0.3368, -1.5828],\n",
       "        [ 1.2401, -0.0377],\n",
       "        [ 1.6449,  1.4060],\n",
       "        [ 0.2537,  1.3225],\n",
       "        [ 0.2521,  0.0083],\n",
       "        [-1.7709, -0.2120],\n",
       "        [-0.9364, -1.3593],\n",
       "        [-1.2271, -0.3828],\n",
       "        [-0.4699, -0.6034],\n",
       "        [ 1.1369, -0.8860],\n",
       "        [-0.1748,  1.5073],\n",
       "        [-0.8042,  1.1424],\n",
       "        [ 1.3403,  0.3918],\n",
       "        [ 0.7747, -0.4452],\n",
       "        [-2.1699, -0.6762],\n",
       "        [ 0.3731, -0.4980],\n",
       "        [ 0.1442, -1.2048],\n",
       "        [-0.9659, -0.1710],\n",
       "        [-1.4328, -1.9461],\n",
       "        [-0.8252, -0.2312],\n",
       "        [ 0.0157,  0.3363],\n",
       "        [ 0.5891, -0.8919],\n",
       "        [ 0.3722, -0.1270]])"
      ]
     },
     "execution_count": 11,
     "metadata": {},
     "output_type": "execute_result"
    }
   ],
   "source": [
    "# Each alphabetic character is represented by a 2D vector\n",
    "C"
   ]
  },
  {
   "cell_type": "code",
   "execution_count": 12,
   "metadata": {},
   "outputs": [
    {
     "data": {
      "text/plain": [
       "tensor([ 1.2401, -0.0377])"
      ]
     },
     "execution_count": 12,
     "metadata": {},
     "output_type": "execute_result"
    }
   ],
   "source": [
    "# Using one-hot encoding --> the results are identical!!\n",
    "# i.e. we can index for the vecto representation of each character using its one-hot encoding\n",
    "# since all 0 values in the encoding will serve as masks and only the 1 active bit will be used in the dot product\n",
    "F.one_hot(torch.tensor(5), num_classes=27).float() @ C"
   ]
  },
  {
   "cell_type": "code",
   "execution_count": 13,
   "metadata": {},
   "outputs": [
    {
     "data": {
      "text/plain": [
       "tensor([[ 1.2401, -0.0377],\n",
       "        [ 1.6449,  1.4060],\n",
       "        [ 0.2537,  1.3225],\n",
       "        [ 0.2537,  1.3225],\n",
       "        [ 0.2537,  1.3225],\n",
       "        [ 0.2537,  1.3225]])"
      ]
     },
     "execution_count": 13,
     "metadata": {},
     "output_type": "execute_result"
    }
   ],
   "source": [
    "# We will continue by simply using the Index method C[5] instead of the One Hot Encoder because its faster to write\n",
    "# NOTE: Python Indexing is incredibly flexible\n",
    "# We can index using integers, lists and even tensors. We can even repeatedly index the same element\n",
    "C[torch.tensor([5,6,7, 7, 7, 7])]"
   ]
  },
  {
   "cell_type": "code",
   "execution_count": 14,
   "metadata": {},
   "outputs": [
    {
     "data": {
      "text/plain": [
       "tensor([[ 0,  0,  0],\n",
       "        [ 0,  0,  5],\n",
       "        [ 0,  5, 13],\n",
       "        [ 5, 13, 13],\n",
       "        [13, 13,  1],\n",
       "        [ 0,  0,  0],\n",
       "        [ 0,  0, 15],\n",
       "        [ 0, 15, 12],\n",
       "        [15, 12,  9],\n",
       "        [12,  9, 22],\n",
       "        [ 9, 22,  9],\n",
       "        [22,  9,  1],\n",
       "        [ 0,  0,  0],\n",
       "        [ 0,  0,  1],\n",
       "        [ 0,  1, 22],\n",
       "        [ 1, 22,  1],\n",
       "        [ 0,  0,  0],\n",
       "        [ 0,  0,  9],\n",
       "        [ 0,  9, 19],\n",
       "        [ 9, 19,  1],\n",
       "        [19,  1,  2],\n",
       "        [ 1,  2,  5],\n",
       "        [ 2,  5, 12],\n",
       "        [ 5, 12, 12],\n",
       "        [12, 12,  1],\n",
       "        [ 0,  0,  0],\n",
       "        [ 0,  0, 19],\n",
       "        [ 0, 19, 15],\n",
       "        [19, 15, 16],\n",
       "        [15, 16,  8],\n",
       "        [16,  8,  9],\n",
       "        [ 8,  9,  1]])"
      ]
     },
     "execution_count": 14,
     "metadata": {},
     "output_type": "execute_result"
    }
   ],
   "source": [
    "X"
   ]
  },
  {
   "cell_type": "code",
   "execution_count": 15,
   "metadata": {},
   "outputs": [
    {
     "data": {
      "text/plain": [
       "tensor([[[-0.0725,  0.6984],\n",
       "         [-0.0725,  0.6984],\n",
       "         [-0.0725,  0.6984]],\n",
       "\n",
       "        [[-0.0725,  0.6984],\n",
       "         [-0.0725,  0.6984],\n",
       "         [ 1.2401, -0.0377]],\n",
       "\n",
       "        [[-0.0725,  0.6984],\n",
       "         [ 1.2401, -0.0377],\n",
       "         [ 1.1369, -0.8860]],\n",
       "\n",
       "        [[ 1.2401, -0.0377],\n",
       "         [ 1.1369, -0.8860],\n",
       "         [ 1.1369, -0.8860]],\n",
       "\n",
       "        [[ 1.1369, -0.8860],\n",
       "         [ 1.1369, -0.8860],\n",
       "         [-2.0324,  0.1152]],\n",
       "\n",
       "        [[-0.0725,  0.6984],\n",
       "         [-0.0725,  0.6984],\n",
       "         [-0.0725,  0.6984]],\n",
       "\n",
       "        [[-0.0725,  0.6984],\n",
       "         [-0.0725,  0.6984],\n",
       "         [-0.8042,  1.1424]],\n",
       "\n",
       "        [[-0.0725,  0.6984],\n",
       "         [-0.8042,  1.1424],\n",
       "         [-0.4699, -0.6034]],\n",
       "\n",
       "        [[-0.8042,  1.1424],\n",
       "         [-0.4699, -0.6034],\n",
       "         [-1.7709, -0.2120]],\n",
       "\n",
       "        [[-0.4699, -0.6034],\n",
       "         [-1.7709, -0.2120],\n",
       "         [-1.4328, -1.9461]],\n",
       "\n",
       "        [[-1.7709, -0.2120],\n",
       "         [-1.4328, -1.9461],\n",
       "         [-1.7709, -0.2120]],\n",
       "\n",
       "        [[-1.4328, -1.9461],\n",
       "         [-1.7709, -0.2120],\n",
       "         [-2.0324,  0.1152]],\n",
       "\n",
       "        [[-0.0725,  0.6984],\n",
       "         [-0.0725,  0.6984],\n",
       "         [-0.0725,  0.6984]],\n",
       "\n",
       "        [[-0.0725,  0.6984],\n",
       "         [-0.0725,  0.6984],\n",
       "         [-2.0324,  0.1152]],\n",
       "\n",
       "        [[-0.0725,  0.6984],\n",
       "         [-2.0324,  0.1152],\n",
       "         [-1.4328, -1.9461]],\n",
       "\n",
       "        [[-2.0324,  0.1152],\n",
       "         [-1.4328, -1.9461],\n",
       "         [-2.0324,  0.1152]],\n",
       "\n",
       "        [[-0.0725,  0.6984],\n",
       "         [-0.0725,  0.6984],\n",
       "         [-0.0725,  0.6984]],\n",
       "\n",
       "        [[-0.0725,  0.6984],\n",
       "         [-0.0725,  0.6984],\n",
       "         [-1.7709, -0.2120]],\n",
       "\n",
       "        [[-0.0725,  0.6984],\n",
       "         [-1.7709, -0.2120],\n",
       "         [ 0.3731, -0.4980]],\n",
       "\n",
       "        [[-1.7709, -0.2120],\n",
       "         [ 0.3731, -0.4980],\n",
       "         [-2.0324,  0.1152]],\n",
       "\n",
       "        [[ 0.3731, -0.4980],\n",
       "         [-2.0324,  0.1152],\n",
       "         [ 1.2419, -1.9337]],\n",
       "\n",
       "        [[-2.0324,  0.1152],\n",
       "         [ 1.2419, -1.9337],\n",
       "         [ 1.2401, -0.0377]],\n",
       "\n",
       "        [[ 1.2419, -1.9337],\n",
       "         [ 1.2401, -0.0377],\n",
       "         [-0.4699, -0.6034]],\n",
       "\n",
       "        [[ 1.2401, -0.0377],\n",
       "         [-0.4699, -0.6034],\n",
       "         [-0.4699, -0.6034]],\n",
       "\n",
       "        [[-0.4699, -0.6034],\n",
       "         [-0.4699, -0.6034],\n",
       "         [-2.0324,  0.1152]],\n",
       "\n",
       "        [[-0.0725,  0.6984],\n",
       "         [-0.0725,  0.6984],\n",
       "         [-0.0725,  0.6984]],\n",
       "\n",
       "        [[-0.0725,  0.6984],\n",
       "         [-0.0725,  0.6984],\n",
       "         [ 0.3731, -0.4980]],\n",
       "\n",
       "        [[-0.0725,  0.6984],\n",
       "         [ 0.3731, -0.4980],\n",
       "         [-0.8042,  1.1424]],\n",
       "\n",
       "        [[ 0.3731, -0.4980],\n",
       "         [-0.8042,  1.1424],\n",
       "         [ 1.3403,  0.3918]],\n",
       "\n",
       "        [[-0.8042,  1.1424],\n",
       "         [ 1.3403,  0.3918],\n",
       "         [ 0.2521,  0.0083]],\n",
       "\n",
       "        [[ 1.3403,  0.3918],\n",
       "         [ 0.2521,  0.0083],\n",
       "         [-1.7709, -0.2120]],\n",
       "\n",
       "        [[ 0.2521,  0.0083],\n",
       "         [-1.7709, -0.2120],\n",
       "         [-2.0324,  0.1152]]])"
      ]
     },
     "execution_count": 15,
     "metadata": {},
     "output_type": "execute_result"
    }
   ],
   "source": [
    "# We can even index using 2D tensors\n",
    "C[X]"
   ]
  },
  {
   "cell_type": "code",
   "execution_count": 16,
   "metadata": {},
   "outputs": [
    {
     "data": {
      "text/plain": [
       "torch.Size([32, 3, 2])"
      ]
     },
     "execution_count": 16,
     "metadata": {},
     "output_type": "execute_result"
    }
   ],
   "source": [
    "C[X].shape # for each of the original [32, 3] tensor entries, retrieve and add the 2D embedding vector as additional dimension"
   ]
  },
  {
   "cell_type": "code",
   "execution_count": 17,
   "metadata": {},
   "outputs": [
    {
     "data": {
      "text/plain": [
       "tensor(1)"
      ]
     },
     "execution_count": 17,
     "metadata": {},
     "output_type": "execute_result"
    }
   ],
   "source": [
    "X[13, 2] # give me the third character for the 13th sequence, which should be \"a\" or index 1"
   ]
  },
  {
   "cell_type": "code",
   "execution_count": 18,
   "metadata": {},
   "outputs": [
    {
     "data": {
      "text/plain": [
       "tensor([-2.0324,  0.1152])"
      ]
     },
     "execution_count": 18,
     "metadata": {},
     "output_type": "execute_result"
    }
   ],
   "source": [
    "C[X][13,2] # please give me the vector encoding of the character \"a\" found in the third character of the 13th sequence"
   ]
  },
  {
   "cell_type": "code",
   "execution_count": 19,
   "metadata": {},
   "outputs": [
    {
     "data": {
      "text/plain": [
       "tensor([-2.0324,  0.1152])"
      ]
     },
     "execution_count": 19,
     "metadata": {},
     "output_type": "execute_result"
    }
   ],
   "source": [
    "C[1] # which is identical to the value of our lookup table at position index = 1"
   ]
  },
  {
   "cell_type": "code",
   "execution_count": 20,
   "metadata": {},
   "outputs": [
    {
     "data": {
      "text/plain": [
       "torch.Size([32, 3, 2])"
      ]
     },
     "execution_count": 20,
     "metadata": {},
     "output_type": "execute_result"
    }
   ],
   "source": [
    "# EMBEDDING ------------->>>\n",
    "emb = C[X] # embed all input sequences simultaneously\n",
    "emb.shape"
   ]
  },
  {
   "cell_type": "code",
   "execution_count": 21,
   "metadata": {},
   "outputs": [],
   "source": [
    "# SETTING UP THE NEURAL NETWORK LAYER 1 ---------->>>\n",
    "# For each input, we have a sequence of three characters, where each character is embedded in a 2D Vector\n",
    "# Therefore, as input our network will receive 2 floats per character, for 3 characters = 3*2 = 6 Input values\n",
    "# In short: We have 2D embeddings and we have three of them\n",
    "W1 = torch.rand((6, 100)) # initialize weights for the first layer; 6 = 3 * 2 as Inputs and 100 neurons in hidden layer\n",
    "b1 = torch.rand(100)"
   ]
  },
  {
   "cell_type": "code",
   "execution_count": 22,
   "metadata": {},
   "outputs": [
    {
     "data": {
      "text/plain": [
       "torch.Size([32, 3, 2])"
      ]
     },
     "execution_count": 22,
     "metadata": {},
     "output_type": "execute_result"
    }
   ],
   "source": [
    "emb.shape # this does not work as we need [32, 6] as our input; see below"
   ]
  },
  {
   "cell_type": "code",
   "execution_count": 24,
   "metadata": {},
   "outputs": [],
   "source": [
    "# this will result in an error since the dimensions do not match up\n",
    "# emb @ W1 + b1"
   ]
  },
  {
   "cell_type": "code",
   "execution_count": 25,
   "metadata": {},
   "outputs": [],
   "source": [
    "# Short excourse on pyTorch Tensor Storage and the .view() operation\n",
    "# In order to reshape arrays efficiently\n",
    "# http://blog.ezyang.com/2019/05/pytorch-internals/"
   ]
  },
  {
   "cell_type": "code",
   "execution_count": 26,
   "metadata": {},
   "outputs": [
    {
     "data": {
      "text/plain": [
       "torch.Size([32, 6])"
      ]
     },
     "execution_count": 26,
     "metadata": {},
     "output_type": "execute_result"
    }
   ],
   "source": [
    "# we need to concatonate our dimensions\n",
    "# i.e. we need to pull out the individual embedding vectors for each of the three characters in a sequence\n",
    "# and do this for each of our 32 input samples\n",
    "# and then concatonate them together to receive a tensor [ch1_v1, ch1_v2, ch2_v1, ch2_v2, ch3_v1, ch3_v2]\n",
    "# which has the required input shape of [32, 6]\n",
    "# NOTE: This solution is ugly as it does not generalize!!! This only works for block_size = 3\n",
    "torch.concat([emb[:, 0, :], emb[:, 1, :], emb[:, 2, :]], dim=1).shape"
   ]
  },
  {
   "cell_type": "code",
   "execution_count": 27,
   "metadata": {},
   "outputs": [
    {
     "data": {
      "text/plain": [
       "torch.Size([32, 6])"
      ]
     },
     "execution_count": 27,
     "metadata": {},
     "output_type": "execute_result"
    }
   ],
   "source": [
    "# try the same thing in a general manner\n",
    "torch.cat(torch.unbind(emb, 1), 1).shape"
   ]
  },
  {
   "cell_type": "code",
   "execution_count": 28,
   "metadata": {},
   "outputs": [],
   "source": [
    "a = torch.arange(18)"
   ]
  },
  {
   "cell_type": "code",
   "execution_count": 29,
   "metadata": {},
   "outputs": [
    {
     "data": {
      "text/plain": [
       "tensor([[ 0,  1],\n",
       "        [ 2,  3],\n",
       "        [ 4,  5],\n",
       "        [ 6,  7],\n",
       "        [ 8,  9],\n",
       "        [10, 11],\n",
       "        [12, 13],\n",
       "        [14, 15],\n",
       "        [16, 17]])"
      ]
     },
     "execution_count": 29,
     "metadata": {},
     "output_type": "execute_result"
    }
   ],
   "source": [
    "a.view(9,2)"
   ]
  },
  {
   "cell_type": "code",
   "execution_count": 30,
   "metadata": {},
   "outputs": [
    {
     "data": {
      "text/plain": [
       "tensor([[[ 0,  1],\n",
       "         [ 2,  3],\n",
       "         [ 4,  5]],\n",
       "\n",
       "        [[ 6,  7],\n",
       "         [ 8,  9],\n",
       "         [10, 11]],\n",
       "\n",
       "        [[12, 13],\n",
       "         [14, 15],\n",
       "         [16, 17]]])"
      ]
     },
     "execution_count": 30,
     "metadata": {},
     "output_type": "execute_result"
    }
   ],
   "source": [
    "# as long as the total number of elements stays the same, i.e. 3*3*2 = 18 and 9*2 = 18 and 18*1 = 18 \n",
    "# we can arbitrarily decide the shape we want our tensor to have\n",
    "a.view(3,3,2)"
   ]
  },
  {
   "cell_type": "code",
   "execution_count": 31,
   "metadata": {},
   "outputs": [
    {
     "name": "stderr",
     "output_type": "stream",
     "text": [
      "/var/folders/ch/0_59jbfj3ysfnnbc0x5qr4z00000gp/T/ipykernel_66998/3687906448.py:4: UserWarning: TypedStorage is deprecated. It will be removed in the future and UntypedStorage will be the only storage class. This should only matter to you if you are using storages directly.  To access UntypedStorage directly, use tensor.untyped_storage() instead of tensor.storage()\n",
      "  a.storage()\n"
     ]
    },
    {
     "data": {
      "text/plain": [
       " 0\n",
       " 1\n",
       " 2\n",
       " 3\n",
       " 4\n",
       " 5\n",
       " 6\n",
       " 7\n",
       " 8\n",
       " 9\n",
       " 10\n",
       " 11\n",
       " 12\n",
       " 13\n",
       " 14\n",
       " 15\n",
       " 16\n",
       " 17\n",
       "[torch.storage.TypedStorage(dtype=torch.int64, device=cpu) of size 18]"
      ]
     },
     "execution_count": 31,
     "metadata": {},
     "output_type": "execute_result"
    }
   ],
   "source": [
    "# each tensor is always represented as a 1D array in the computer memory\n",
    "# therefore, the .view() operation is extremely efficient, as it does not change the memory\n",
    "# but only the representation that our values in memory will have\n",
    "a.storage()"
   ]
  },
  {
   "cell_type": "code",
   "execution_count": 32,
   "metadata": {},
   "outputs": [
    {
     "data": {
      "text/plain": [
       " -0.07254821062088013\n",
       " 0.6984353065490723\n",
       " -0.07254821062088013\n",
       " 0.6984353065490723\n",
       " -0.07254821062088013\n",
       " 0.6984353065490723\n",
       " -0.07254821062088013\n",
       " 0.6984353065490723\n",
       " -0.07254821062088013\n",
       " 0.6984353065490723\n",
       " 1.240068793296814\n",
       " -0.03771159425377846\n",
       " -0.07254821062088013\n",
       " 0.6984353065490723\n",
       " 1.240068793296814\n",
       " -0.03771159425377846\n",
       " 1.136930227279663\n",
       " -0.8860231041908264\n",
       " 1.240068793296814\n",
       " -0.03771159425377846\n",
       " 1.136930227279663\n",
       " -0.8860231041908264\n",
       " 1.136930227279663\n",
       " -0.8860231041908264\n",
       " 1.136930227279663\n",
       " -0.8860231041908264\n",
       " 1.136930227279663\n",
       " -0.8860231041908264\n",
       " -2.0324151515960693\n",
       " 0.1152297705411911\n",
       " -0.07254821062088013\n",
       " 0.6984353065490723\n",
       " -0.07254821062088013\n",
       " 0.6984353065490723\n",
       " -0.07254821062088013\n",
       " 0.6984353065490723\n",
       " -0.07254821062088013\n",
       " 0.6984353065490723\n",
       " -0.07254821062088013\n",
       " 0.6984353065490723\n",
       " -0.8042418360710144\n",
       " 1.1424105167388916\n",
       " -0.07254821062088013\n",
       " 0.6984353065490723\n",
       " -0.8042418360710144\n",
       " 1.1424105167388916\n",
       " -0.46989089250564575\n",
       " -0.6033931970596313\n",
       " -0.8042418360710144\n",
       " 1.1424105167388916\n",
       " -0.46989089250564575\n",
       " -0.6033931970596313\n",
       " -1.7709338665008545\n",
       " -0.21196486055850983\n",
       " -0.46989089250564575\n",
       " -0.6033931970596313\n",
       " -1.7709338665008545\n",
       " -0.21196486055850983\n",
       " -1.4327961206436157\n",
       " -1.9460760354995728\n",
       " -1.7709338665008545\n",
       " -0.21196486055850983\n",
       " -1.4327961206436157\n",
       " -1.9460760354995728\n",
       " -1.7709338665008545\n",
       " -0.21196486055850983\n",
       " -1.4327961206436157\n",
       " -1.9460760354995728\n",
       " -1.7709338665008545\n",
       " -0.21196486055850983\n",
       " -2.0324151515960693\n",
       " 0.1152297705411911\n",
       " -0.07254821062088013\n",
       " 0.6984353065490723\n",
       " -0.07254821062088013\n",
       " 0.6984353065490723\n",
       " -0.07254821062088013\n",
       " 0.6984353065490723\n",
       " -0.07254821062088013\n",
       " 0.6984353065490723\n",
       " -0.07254821062088013\n",
       " 0.6984353065490723\n",
       " -2.0324151515960693\n",
       " 0.1152297705411911\n",
       " -0.07254821062088013\n",
       " 0.6984353065490723\n",
       " -2.0324151515960693\n",
       " 0.1152297705411911\n",
       " -1.4327961206436157\n",
       " -1.9460760354995728\n",
       " -2.0324151515960693\n",
       " 0.1152297705411911\n",
       " -1.4327961206436157\n",
       " -1.9460760354995728\n",
       " -2.0324151515960693\n",
       " 0.1152297705411911\n",
       " -0.07254821062088013\n",
       " 0.6984353065490723\n",
       " -0.07254821062088013\n",
       " 0.6984353065490723\n",
       " -0.07254821062088013\n",
       " 0.6984353065490723\n",
       " -0.07254821062088013\n",
       " 0.6984353065490723\n",
       " -0.07254821062088013\n",
       " 0.6984353065490723\n",
       " -1.7709338665008545\n",
       " -0.21196486055850983\n",
       " -0.07254821062088013\n",
       " 0.6984353065490723\n",
       " -1.7709338665008545\n",
       " -0.21196486055850983\n",
       " 0.3731137812137604\n",
       " -0.4980236291885376\n",
       " -1.7709338665008545\n",
       " -0.21196486055850983\n",
       " 0.3731137812137604\n",
       " -0.4980236291885376\n",
       " -2.0324151515960693\n",
       " 0.1152297705411911\n",
       " 0.3731137812137604\n",
       " -0.4980236291885376\n",
       " -2.0324151515960693\n",
       " 0.1152297705411911\n",
       " 1.241900086402893\n",
       " -1.9337449073791504\n",
       " -2.0324151515960693\n",
       " 0.1152297705411911\n",
       " 1.241900086402893\n",
       " -1.9337449073791504\n",
       " 1.240068793296814\n",
       " -0.03771159425377846\n",
       " 1.241900086402893\n",
       " -1.9337449073791504\n",
       " 1.240068793296814\n",
       " -0.03771159425377846\n",
       " -0.46989089250564575\n",
       " -0.6033931970596313\n",
       " 1.240068793296814\n",
       " -0.03771159425377846\n",
       " -0.46989089250564575\n",
       " -0.6033931970596313\n",
       " -0.46989089250564575\n",
       " -0.6033931970596313\n",
       " -0.46989089250564575\n",
       " -0.6033931970596313\n",
       " -0.46989089250564575\n",
       " -0.6033931970596313\n",
       " -2.0324151515960693\n",
       " 0.1152297705411911\n",
       " -0.07254821062088013\n",
       " 0.6984353065490723\n",
       " -0.07254821062088013\n",
       " 0.6984353065490723\n",
       " -0.07254821062088013\n",
       " 0.6984353065490723\n",
       " -0.07254821062088013\n",
       " 0.6984353065490723\n",
       " -0.07254821062088013\n",
       " 0.6984353065490723\n",
       " 0.3731137812137604\n",
       " -0.4980236291885376\n",
       " -0.07254821062088013\n",
       " 0.6984353065490723\n",
       " 0.3731137812137604\n",
       " -0.4980236291885376\n",
       " -0.8042418360710144\n",
       " 1.1424105167388916\n",
       " 0.3731137812137604\n",
       " -0.4980236291885376\n",
       " -0.8042418360710144\n",
       " 1.1424105167388916\n",
       " 1.3403455018997192\n",
       " 0.39176419377326965\n",
       " -0.8042418360710144\n",
       " 1.1424105167388916\n",
       " 1.3403455018997192\n",
       " 0.39176419377326965\n",
       " 0.25213125348091125\n",
       " 0.008274498395621777\n",
       " 1.3403455018997192\n",
       " 0.39176419377326965\n",
       " 0.25213125348091125\n",
       " 0.008274498395621777\n",
       " -1.7709338665008545\n",
       " -0.21196486055850983\n",
       " 0.25213125348091125\n",
       " 0.008274498395621777\n",
       " -1.7709338665008545\n",
       " -0.21196486055850983\n",
       " -2.0324151515960693\n",
       " 0.1152297705411911\n",
       "[torch.storage.TypedStorage(dtype=torch.float32, device=cpu) of size 192]"
      ]
     },
     "execution_count": 32,
     "metadata": {},
     "output_type": "execute_result"
    }
   ],
   "source": [
    "# pyTorch Tensors are ALWAYS stored as 1D, single-dimension \"lists\" in memory!!!\n",
    "# every shape is therefore artificial\n",
    "emb.storage()"
   ]
  },
  {
   "cell_type": "code",
   "execution_count": 38,
   "metadata": {},
   "outputs": [],
   "source": [
    "# Long story short, we can do the following in order for our dot product to work:\n",
    "# We need [32, 6] * [6, 100] + [100]\n",
    "# and this will give us the hidden states for our 100 Neurons in our hidden layer that we are after\n",
    "\n",
    "# h = emb.view(32,6) @ W1 + b1 # hard-coded dimensions\n",
    "# h = emb.view(emb.shape[0], 6) @ W1 + b1 # dynamic dimensions\n",
    "h = emb.view(-1, 6) @ W1 + b1 # inferred dimensions, as the number of dimensions has to stay the same (see abobe)\n"
   ]
  },
  {
   "cell_type": "code",
   "execution_count": null,
   "metadata": {},
   "outputs": [],
   "source": [
    "# When adding the bias vector, check the broadcasting logic!!\n",
    "\n",
    "# Rule One: Align on the right\n",
    "# [32, 100]\n",
    "# [  , 100]\n",
    "\n",
    "# Rule two: check that all dimensions are either equal, one of them is 1 or one of them is None\n",
    "# --> True\n",
    "\n",
    "# Rule three: Fill up open dimensions by 1\n",
    "# [32, 100]\n",
    "# [ 1, 100]\n",
    "\n",
    "# HERE, THE BIAS VECTOR WILL BROADCAST/COPY VERTICALLY AND ADD PERFORM ELEMENT-WISE ADDITION\n",
    "# THEREFORE ADDING THE SAME BIAS TO ALL OF OUR NEURONS \n",
    "# THIS IS CORRECT AND THE BEHAVIOR WE WATN!! Good."
   ]
  },
  {
   "cell_type": "code",
   "execution_count": 39,
   "metadata": {},
   "outputs": [
    {
     "data": {
      "text/plain": [
       "torch.Size([32, 100])"
      ]
     },
     "execution_count": 39,
     "metadata": {},
     "output_type": "execute_result"
    }
   ],
   "source": [
    "h.shape"
   ]
  },
  {
   "cell_type": "code",
   "execution_count": 40,
   "metadata": {},
   "outputs": [],
   "source": [
    "h = h.tanh() # apply hyperbolic tangent to transform each value to between -1 and 1"
   ]
  },
  {
   "cell_type": "code",
   "execution_count": 42,
   "metadata": {},
   "outputs": [],
   "source": [
    "W2 = torch.randn((100, 27))\n",
    "b2 = torch.randn(27)"
   ]
  },
  {
   "cell_type": "code",
   "execution_count": 43,
   "metadata": {},
   "outputs": [],
   "source": [
    "logits = h @ W2 + b2"
   ]
  },
  {
   "cell_type": "code",
   "execution_count": 45,
   "metadata": {},
   "outputs": [
    {
     "data": {
      "text/plain": [
       "torch.Size([32, 27])"
      ]
     },
     "execution_count": 45,
     "metadata": {},
     "output_type": "execute_result"
    }
   ],
   "source": [
    "logits.shape"
   ]
  },
  {
   "cell_type": "code",
   "execution_count": 48,
   "metadata": {},
   "outputs": [],
   "source": [
    "counts = logits.exp()\n",
    "prob = counts / counts.sum(1, keepdim=True)"
   ]
  },
  {
   "cell_type": "code",
   "execution_count": 49,
   "metadata": {},
   "outputs": [
    {
     "data": {
      "text/plain": [
       "tensor(1.)"
      ]
     },
     "execution_count": 49,
     "metadata": {},
     "output_type": "execute_result"
    }
   ],
   "source": [
    "prob[0].sum()"
   ]
  },
  {
   "cell_type": "code",
   "execution_count": 51,
   "metadata": {},
   "outputs": [
    {
     "data": {
      "text/plain": [
       "tensor([1.6622e-08, 2.9352e-08, 1.6705e-06, 3.3116e-09, 1.4103e-05, 1.7486e-06,\n",
       "        1.0097e-09, 2.1496e-03, 1.1542e-09, 1.1598e-02, 7.9932e-07, 4.8496e-10,\n",
       "        2.0617e-08, 6.4601e-06, 2.7171e-08, 4.3480e-10, 8.1027e-11, 2.8212e-01,\n",
       "        1.4802e-06, 1.5983e-13, 1.1818e-03, 7.7408e-03, 4.0084e-03, 4.4328e-07,\n",
       "        1.1442e-09, 4.4271e-07, 6.4881e-07, 1.1285e-09, 5.9513e-12, 3.5976e-12,\n",
       "        1.3910e-05, 1.0661e-09])"
      ]
     },
     "execution_count": 51,
     "metadata": {},
     "output_type": "execute_result"
    }
   ],
   "source": [
    "# Extract the prediction of the network for the ACTUAL character we saved in Y\n",
    "prob[torch.arange(X.shape[0]), Y] # for each row of inputs, extract the probability at the correct index of Y"
   ]
  },
  {
   "cell_type": "code",
   "execution_count": 52,
   "metadata": {},
   "outputs": [],
   "source": [
    "loss = -prob[torch.arange(X.shape[0]), Y].log().mean()"
   ]
  },
  {
   "cell_type": "code",
   "execution_count": 53,
   "metadata": {},
   "outputs": [
    {
     "data": {
      "text/plain": [
       "tensor(15.6801)"
      ]
     },
     "execution_count": 53,
     "metadata": {},
     "output_type": "execute_result"
    }
   ],
   "source": [
    "loss"
   ]
  },
  {
   "cell_type": "code",
   "execution_count": 54,
   "metadata": {},
   "outputs": [],
   "source": [
    "# now refactor our code :)"
   ]
  },
  {
   "cell_type": "code",
   "execution_count": 55,
   "metadata": {},
   "outputs": [
    {
     "data": {
      "text/plain": [
       "(torch.Size([32, 3]), torch.Size([32]))"
      ]
     },
     "execution_count": 55,
     "metadata": {},
     "output_type": "execute_result"
    }
   ],
   "source": [
    "# dataset\n",
    "X.shape, Y.shape"
   ]
  },
  {
   "cell_type": "code",
   "execution_count": 57,
   "metadata": {},
   "outputs": [],
   "source": [
    "g = torch.Generator().manual_seed(42)\n",
    "C = torch.randn((27, 2), generator=g)\n",
    "W1 = torch.randn((6, 100), generator=g)\n",
    "b1 = torch.randn(100, generator=g)\n",
    "W2 = torch.randn((100, 27), generator=g)\n",
    "b2 = torch.randn(27, generator=g)\n",
    "parameters = [C, W1, b1, W2, b2]"
   ]
  },
  {
   "cell_type": "code",
   "execution_count": 60,
   "metadata": {},
   "outputs": [
    {
     "data": {
      "text/plain": [
       "3481"
      ]
     },
     "execution_count": 60,
     "metadata": {},
     "output_type": "execute_result"
    }
   ],
   "source": [
    "sum([p.nelement() for p in parameters])"
   ]
  },
  {
   "cell_type": "code",
   "execution_count": 64,
   "metadata": {},
   "outputs": [],
   "source": [
    "emb = C[X] # [32, 3, 2]\n",
    "h = torch.tanh(emb.view(-1, 6) @W1 + b1)\n",
    "logits = h @ W2 + b2\n",
    "# counts = logits.exp()\n",
    "# prob = counts / counts.sum(1, keepdim=True)\n",
    "# loss = -prob[torch.arange(X.shape[0]), Y].log().mean() # Negative Log Likelihood\n",
    "loss = F.cross_entropy(logits, Y) # even better and more efficient than the above"
   ]
  },
  {
   "cell_type": "code",
   "execution_count": 65,
   "metadata": {},
   "outputs": [
    {
     "data": {
      "text/plain": [
       "tensor(17.7758)"
      ]
     },
     "execution_count": 65,
     "metadata": {},
     "output_type": "execute_result"
    }
   ],
   "source": [
    "loss"
   ]
  },
  {
   "cell_type": "code",
   "execution_count": 69,
   "metadata": {},
   "outputs": [
    {
     "data": {
      "text/plain": [
       "tensor([2.8298e-04, 4.1998e-02, 1.1416e-01, 8.4356e-01])"
      ]
     },
     "execution_count": 69,
     "metadata": {},
     "output_type": "execute_result"
    }
   ],
   "source": [
    "# Case in Point of why F.cross_entropy() is superior to manual implementation\n",
    "logits = torch.tensor([-5, 0, 1, 3])\n",
    "counts = logits.exp()\n",
    "prob = counts / counts.sum()\n",
    "prob"
   ]
  },
  {
   "cell_type": "code",
   "execution_count": 70,
   "metadata": {},
   "outputs": [
    {
     "data": {
      "text/plain": [
       "tensor([1.4013e-45, 4.2010e-02, 1.1420e-01, 8.4379e-01])"
      ]
     },
     "execution_count": 70,
     "metadata": {},
     "output_type": "execute_result"
    }
   ],
   "source": [
    "# Case in Point of why F.cross_entropy() is superior to manual implementation\n",
    "# Large negative numbers will be fine, since these will result in very small values converging to 0\n",
    "logits = torch.tensor([-100, 0, 1, 3])\n",
    "counts = logits.exp()\n",
    "prob = counts / counts.sum()\n",
    "prob"
   ]
  },
  {
   "cell_type": "code",
   "execution_count": 73,
   "metadata": {},
   "outputs": [
    {
     "data": {
      "text/plain": [
       "tensor([0., 0., 0., nan])"
      ]
     },
     "execution_count": 73,
     "metadata": {},
     "output_type": "execute_result"
    }
   ],
   "source": [
    "# Case in Point of why F.cross_entropy() is superior to manual implementation\n",
    "# but here lies the issue with large POSITIVE numbers since we will run out of memory on our floating point numbers\n",
    "# resulting in Not a Number issues\n",
    "logits = torch.tensor([-100, 0, 1, 100])\n",
    "counts = logits.exp()\n",
    "prob = counts / counts.sum()\n",
    "prob\n",
    "\n",
    "# LEARN: NEGATIVE NUMBERS ARE OKAY WHILE POSITIVE NUMBERS CAN POTENTIALLY OVERFLOW"
   ]
  },
  {
   "cell_type": "code",
   "execution_count": 75,
   "metadata": {},
   "outputs": [
    {
     "data": {
      "text/plain": [
       "tensor([0.0000e+00, 3.7835e-44, 1.0089e-43, 1.0000e+00])"
      ]
     },
     "execution_count": 75,
     "metadata": {},
     "output_type": "execute_result"
    }
   ],
   "source": [
    "# Case in Point of why F.cross_entropy() is superior to manual implementation\n",
    "# PyTorch solves this elegantly within the cross_entropy() function\n",
    "# because it turns out that we can arbitrarily add or subtract a constant to our logits and the result stays the same\n",
    "# what pyTorch does it it \"normalizes\" the largest value by subtracting it, i.e. subtracting 100\n",
    "# therefore, the largest number will become 0 and all othe values will become negative\n",
    "# but since negative values are fine, we will never run into overflow issues\n",
    "# therefore, the result will always be mathematically well-behaved\n",
    "logits = torch.tensor([-100, 0, 1, 100]) - 100\n",
    "counts = logits.exp()\n",
    "prob = counts / counts.sum()\n",
    "prob"
   ]
  },
  {
   "cell_type": "code",
   "execution_count": null,
   "metadata": {},
   "outputs": [],
   "source": [
    "# Good reasons to call cross_entropy()\n",
    "# 1. It uses a fused kernel, therefore the forward pass will be much more efficient.\n",
    "# 2. It uses a fused kernel, therefore the backpropagation will be much more efficient.\n",
    "# 3. It will always create numerically well-behaved results"
   ]
  },
  {
   "cell_type": "code",
   "execution_count": 77,
   "metadata": {},
   "outputs": [],
   "source": [
    "for p in parameters:\n",
    "    p.requires_grad = True"
   ]
  },
  {
   "cell_type": "code",
   "execution_count": 82,
   "metadata": {},
   "outputs": [
    {
     "name": "stdout",
     "output_type": "stream",
     "text": [
      "0.26498541235923767\n",
      "0.2649219036102295\n",
      "0.26485905051231384\n",
      "0.26479673385620117\n",
      "0.26473504304885864\n",
      "0.26467394828796387\n",
      "0.26461338996887207\n",
      "0.264553427696228\n",
      "0.26449406147003174\n",
      "0.26443517208099365\n",
      "0.26437678933143616\n",
      "0.2643190622329712\n",
      "0.26426181197166443\n",
      "0.26420506834983826\n",
      "0.2641488313674927\n",
      "0.2640931308269501\n",
      "0.2640378773212433\n",
      "0.2639831602573395\n",
      "0.2639288902282715\n",
      "0.26387515664100647\n",
      "0.26382187008857727\n",
      "0.2637689709663391\n",
      "0.2637166678905487\n",
      "0.26366475224494934\n",
      "0.2636132836341858\n",
      "0.26356223225593567\n",
      "0.26351162791252136\n",
      "0.26346153020858765\n",
      "0.2634117603302002\n",
      "0.26336243748664856\n",
      "0.26331353187561035\n",
      "0.2632650136947632\n",
      "0.26321691274642944\n",
      "0.2631692588329315\n",
      "0.26312193274497986\n",
      "0.2630750238895416\n",
      "0.26302850246429443\n",
      "0.2629823684692383\n",
      "0.2629365622997284\n",
      "0.26289117336273193\n",
      "0.26284611225128174\n",
      "0.2628014385700226\n",
      "0.2627570331096649\n",
      "0.26271310448646545\n",
      "0.2626694440841675\n",
      "0.26262614130973816\n",
      "0.2625831961631775\n",
      "0.26254063844680786\n",
      "0.2624983489513397\n",
      "0.26245635747909546\n",
      "0.26241469383239746\n",
      "0.2623733878135681\n",
      "0.26233237981796265\n",
      "0.26229172945022583\n",
      "0.2622513175010681\n",
      "0.26221126317977905\n",
      "0.26217150688171387\n",
      "0.2621319890022278\n",
      "0.26209282875061035\n",
      "0.2620539367198944\n",
      "0.26201531291007996\n",
      "0.2619769871234894\n",
      "0.26193901896476746\n",
      "0.26190119981765747\n",
      "0.26186370849609375\n",
      "0.2618265151977539\n",
      "0.26178956031799316\n",
      "0.2617528736591339\n",
      "0.26171645522117615\n",
      "0.2616802752017975\n",
      "0.2616443932056427\n",
      "0.261608749628067\n",
      "0.26157331466674805\n",
      "0.26153820753097534\n",
      "0.26150327920913696\n",
      "0.26146870851516724\n",
      "0.26143425703048706\n",
      "0.2614000737667084\n",
      "0.26136618852615356\n",
      "0.2613324522972107\n",
      "0.2612989544868469\n",
      "0.26126572489738464\n",
      "0.2612327039241791\n",
      "0.2611998915672302\n",
      "0.2611673176288605\n",
      "0.2611349821090698\n",
      "0.2611028254032135\n",
      "0.2610709071159363\n",
      "0.26103919744491577\n",
      "0.26100772619247437\n",
      "0.2609764039516449\n",
      "0.26094532012939453\n",
      "0.26091447472572327\n",
      "0.26088377833366394\n",
      "0.2608533203601837\n",
      "0.26082301139831543\n",
      "0.26079294085502625\n",
      "0.2607630491256714\n",
      "0.26073336601257324\n",
      "0.2607038617134094\n"
     ]
    }
   ],
   "source": [
    "# NOTE: We are fitting our model on only 32 examples\n",
    "# by using 3481 parameters\n",
    "# therefore, we are heavily overfitting our data\n",
    "for _ in range(100):\n",
    "    # forward pass\n",
    "    emb = C[X] # [32, 3, 2]\n",
    "    h = torch.tanh(emb.view(-1, 6) @W1 + b1)\n",
    "    logits = h @ W2 + b2\n",
    "    loss = F.cross_entropy(logits, Y) # even better and more efficient than the above\n",
    "\n",
    "    # backward pass / backpropagation\n",
    "    for p in parameters:\n",
    "        p.grad = None # don't forget to .zero_grad() !!!\n",
    "    loss.backward()\n",
    "\n",
    "    # update\n",
    "    learning_rate = 0.1\n",
    "    for p in parameters:\n",
    "        p.data += -learning_rate * p.grad \n",
    "    \n",
    "    print(loss.item())"
   ]
  },
  {
   "cell_type": "code",
   "execution_count": 85,
   "metadata": {},
   "outputs": [
    {
     "data": {
      "text/plain": [
       "torch.return_types.max(\n",
       "values=tensor([10.0510, 13.5870, 12.2906, 13.9351, 20.5013, 10.0510, 13.7941, 18.0906,\n",
       "        11.1204, 14.8780,  9.9988, 20.4743, 10.0510, 15.6657, 12.2923, 16.6557,\n",
       "        10.0510, 10.7647, 12.8409, 15.3040, 15.6337, 14.8731, 17.8228, 15.1672,\n",
       "        17.6074, 10.0510, 11.9149, 12.4183, 13.2719, 16.4624, 11.8989, 22.0096],\n",
       "       grad_fn=<MaxBackward0>),\n",
       "indices=tensor([19, 13, 13,  1,  0, 19, 12,  9, 22,  9,  1,  0, 19, 22,  1,  0, 19, 19,\n",
       "         1,  2,  5, 12, 12,  1,  0, 19, 15, 16,  8,  9,  1,  0]))"
      ]
     },
     "execution_count": 85,
     "metadata": {},
     "output_type": "execute_result"
    }
   ],
   "source": [
    "logits.max(1)"
   ]
  },
  {
   "cell_type": "code",
   "execution_count": 86,
   "metadata": {},
   "outputs": [
    {
     "data": {
      "text/plain": [
       "tensor([ 5, 13, 13,  1,  0, 15, 12,  9, 22,  9,  1,  0,  1, 22,  1,  0,  9, 19,\n",
       "         1,  2,  5, 12, 12,  1,  0, 19, 15, 16,  8,  9,  1,  0])"
      ]
     },
     "execution_count": 86,
     "metadata": {},
     "output_type": "execute_result"
    }
   ],
   "source": [
    "Y"
   ]
  },
  {
   "cell_type": "markdown",
   "metadata": {},
   "source": [
    "# Full Dataset"
   ]
  },
  {
   "cell_type": "code",
   "execution_count": 88,
   "metadata": {},
   "outputs": [],
   "source": [
    "# build the dataset\n",
    "\n",
    "block_size = 3 # context_length; how many characters do we use to support our prediction of the next character?\n",
    "X, Y = [], []\n",
    "\n",
    "for w in words:\n",
    "    context = [0] * block_size # padded context of 0-tokens (i.e. \".\")\n",
    "    for ch in w + \".\":\n",
    "        ix = stoi[ch]\n",
    "        X.append(context)\n",
    "        Y.append(ix)\n",
    "        context = context[1:] + [ix] # shift/move the context window one character to the right --> rolling window of context\n",
    "\n",
    "X = torch.tensor(X)\n",
    "Y = torch.tensor(Y)"
   ]
  },
  {
   "cell_type": "code",
   "execution_count": 89,
   "metadata": {},
   "outputs": [
    {
     "data": {
      "text/plain": [
       "(torch.Size([228146, 3]), torch.Size([228146]))"
      ]
     },
     "execution_count": 89,
     "metadata": {},
     "output_type": "execute_result"
    }
   ],
   "source": [
    "# dataset\n",
    "X.shape, Y.shape"
   ]
  },
  {
   "cell_type": "code",
   "execution_count": 90,
   "metadata": {},
   "outputs": [],
   "source": [
    "g = torch.Generator().manual_seed(42)\n",
    "C = torch.randn((27, 2), generator=g)\n",
    "W1 = torch.randn((6, 100), generator=g)\n",
    "b1 = torch.randn(100, generator=g)\n",
    "W2 = torch.randn((100, 27), generator=g)\n",
    "b2 = torch.randn(27, generator=g)\n",
    "parameters = [C, W1, b1, W2, b2]"
   ]
  },
  {
   "cell_type": "code",
   "execution_count": 91,
   "metadata": {},
   "outputs": [
    {
     "data": {
      "text/plain": [
       "3481"
      ]
     },
     "execution_count": 91,
     "metadata": {},
     "output_type": "execute_result"
    }
   ],
   "source": [
    "sum([p.nelement() for p in parameters])"
   ]
  },
  {
   "cell_type": "code",
   "execution_count": 92,
   "metadata": {},
   "outputs": [],
   "source": [
    "for p in parameters:\n",
    "    p.requires_grad = True"
   ]
  },
  {
   "cell_type": "code",
   "execution_count": 93,
   "metadata": {},
   "outputs": [
    {
     "name": "stdout",
     "output_type": "stream",
     "text": [
      "16.72646713256836\n",
      "14.942943572998047\n",
      "13.863018989562988\n",
      "13.003837585449219\n",
      "12.292214393615723\n",
      "11.732643127441406\n",
      "11.270574569702148\n",
      "10.859721183776855\n",
      "10.479723930358887\n",
      "10.136445045471191\n",
      "9.829903602600098\n",
      "9.552262306213379\n",
      "9.297037124633789\n",
      "9.060540199279785\n",
      "8.8405179977417\n",
      "8.635120391845703\n",
      "8.442394256591797\n",
      "8.260418891906738\n",
      "8.087592124938965\n",
      "7.922700881958008\n",
      "7.764862060546875\n",
      "7.613436698913574\n",
      "7.467946529388428\n",
      "7.3280229568481445\n",
      "7.193362236022949\n",
      "7.063704490661621\n",
      "6.938810348510742\n",
      "6.818456172943115\n",
      "6.702428340911865\n",
      "6.590520858764648\n",
      "6.482547283172607\n",
      "6.378341197967529\n",
      "6.277759075164795\n",
      "6.180685520172119\n",
      "6.087019920349121\n",
      "5.996680736541748\n",
      "5.909584999084473\n",
      "5.825646877288818\n",
      "5.7447710037231445\n",
      "5.666844844818115\n",
      "5.591747283935547\n",
      "5.519347190856934\n",
      "5.449517726898193\n",
      "5.382129669189453\n",
      "5.3170695304870605\n",
      "5.25422477722168\n",
      "5.193495750427246\n",
      "5.134785175323486\n",
      "5.078001022338867\n",
      "5.023053169250488\n",
      "4.969858169555664\n",
      "4.918334007263184\n",
      "4.868406772613525\n",
      "4.820007801055908\n",
      "4.773073673248291\n",
      "4.727549076080322\n",
      "4.683382987976074\n",
      "4.640531063079834\n",
      "4.598949432373047\n",
      "4.558603763580322\n",
      "4.51945686340332\n",
      "4.481476783752441\n",
      "4.444631099700928\n",
      "4.408888816833496\n",
      "4.374218940734863\n",
      "4.340590476989746\n",
      "4.3079729080200195\n",
      "4.276334285736084\n",
      "4.245644569396973\n",
      "4.2158732414245605\n",
      "4.186990737915039\n",
      "4.158966541290283\n",
      "4.131771564483643\n",
      "4.1053786277771\n",
      "4.07975959777832\n",
      "4.054888725280762\n",
      "4.0307393074035645\n",
      "4.00728702545166\n",
      "3.984506845474243\n",
      "3.9623754024505615\n",
      "3.9408693313598633\n",
      "3.919965982437134\n",
      "3.899644136428833\n",
      "3.8798811435699463\n",
      "3.860656499862671\n",
      "3.8419485092163086\n",
      "3.8237385749816895\n",
      "3.806006669998169\n",
      "3.7887332439422607\n",
      "3.7719013690948486\n",
      "3.7554917335510254\n",
      "3.7394890785217285\n",
      "3.7238757610321045\n",
      "3.708637237548828\n",
      "3.6937572956085205\n",
      "3.6792218685150146\n",
      "3.6650173664093018\n",
      "3.6511306762695312\n",
      "3.6375491619110107\n",
      "3.624260902404785\n"
     ]
    }
   ],
   "source": [
    "# NOTE: Running this on the entire dataset is really slow since we are always feeding ALL the data through our forward and backward passes\n",
    "for _ in range(100):\n",
    "    # forward pass\n",
    "    emb = C[X] # [228k, 3, 2]\n",
    "    h = torch.tanh(emb.view(-1, 6) @W1 + b1)\n",
    "    logits = h @ W2 + b2\n",
    "    loss = F.cross_entropy(logits, Y) # even better and more efficient than the above\n",
    "\n",
    "    # backward pass / backpropagation\n",
    "    for p in parameters:\n",
    "        p.grad = None # don't forget to .zero_grad() !!!\n",
    "    loss.backward()\n",
    "\n",
    "    # update\n",
    "    learning_rate = 0.1\n",
    "    for p in parameters:\n",
    "        p.data += -learning_rate * p.grad \n",
    "    \n",
    "    print(loss.item())"
   ]
  },
  {
   "cell_type": "markdown",
   "metadata": {},
   "source": [
    "## Implementing Batch Logic (Minibatches)"
   ]
  },
  {
   "cell_type": "code",
   "execution_count": 112,
   "metadata": {},
   "outputs": [],
   "source": [
    "g = torch.Generator().manual_seed(42)\n",
    "C = torch.randn((27, 2), generator=g)\n",
    "W1 = torch.randn((6, 100), generator=g)\n",
    "b1 = torch.randn(100, generator=g)\n",
    "W2 = torch.randn((100, 27), generator=g)\n",
    "b2 = torch.randn(27, generator=g)\n",
    "parameters = [C, W1, b1, W2, b2]"
   ]
  },
  {
   "cell_type": "code",
   "execution_count": 113,
   "metadata": {},
   "outputs": [],
   "source": [
    "for p in parameters:\n",
    "    p.requires_grad = True"
   ]
  },
  {
   "cell_type": "code",
   "execution_count": 114,
   "metadata": {},
   "outputs": [],
   "source": [
    "# Create random batches and only feed these batches forward and backward through the model\n",
    "for _ in range(10000):\n",
    "\n",
    "    # construct minibatch\n",
    "    ix = torch.randint(0, X.shape[0], (32,)) # Select 32 random indices from our dataset\n",
    "\n",
    "    X_batch = X[ix]\n",
    "    Y_batch = Y[ix]\n",
    "\n",
    "    # forward pass\n",
    "    emb = C[X_batch] # using minibatches, we are back to [32, 3, 2]\n",
    "    h = torch.tanh(emb.view(-1, 6) @W1 + b1)\n",
    "    logits = h @ W2 + b2\n",
    "    loss = F.cross_entropy(logits, Y_batch) # even better and more efficient than the above\n",
    "\n",
    "    # backward pass / backpropagation\n",
    "    for p in parameters:\n",
    "        p.grad = None # don't forget to .zero_grad() !!!\n",
    "    loss.backward()\n",
    "\n",
    "    # update\n",
    "    learning_rate = 0.1\n",
    "    for p in parameters:\n",
    "        p.data += -learning_rate * p.grad \n",
    "    \n",
    "    # print(loss.item()) # NOTE: In this case, this is only the loss for the current batch!!! Not the global loss"
   ]
  },
  {
   "cell_type": "code",
   "execution_count": 115,
   "metadata": {},
   "outputs": [
    {
     "data": {
      "text/plain": [
       "tensor(2.4678, grad_fn=<NllLossBackward0>)"
      ]
     },
     "execution_count": 115,
     "metadata": {},
     "output_type": "execute_result"
    }
   ],
   "source": [
    "# global loss\n",
    "emb = C[X] # using minibatches, we are back to [32, 3, 2]\n",
    "h = torch.tanh(emb.view(-1, 6) @W1 + b1)\n",
    "logits = h @ W2 + b2\n",
    "loss = F.cross_entropy(logits, Y) # even better and more efficient than the above\n",
    "loss"
   ]
  },
  {
   "cell_type": "markdown",
   "metadata": {},
   "source": [
    "## Implementing dynamic learning rate"
   ]
  },
  {
   "cell_type": "code",
   "execution_count": 159,
   "metadata": {},
   "outputs": [],
   "source": [
    "g = torch.Generator().manual_seed(42)\n",
    "C = torch.randn((27, 2), generator=g)\n",
    "W1 = torch.randn((6, 100), generator=g)\n",
    "b1 = torch.randn(100, generator=g)\n",
    "W2 = torch.randn((100, 27), generator=g)\n",
    "b2 = torch.randn(27, generator=g)\n",
    "parameters = [C, W1, b1, W2, b2]"
   ]
  },
  {
   "cell_type": "code",
   "execution_count": 160,
   "metadata": {},
   "outputs": [],
   "source": [
    "for p in parameters:\n",
    "    p.requires_grad = True"
   ]
  },
  {
   "cell_type": "code",
   "execution_count": 161,
   "metadata": {},
   "outputs": [],
   "source": [
    "# How do you choose a good learning rate?\n",
    "# You don't, you simply try it out, then plot it and find the best one\n",
    "lre = torch.linspace(-3, 0, 1000) # 1000 values evenly divided between -3 and 0 to pass into our exponent\n",
    "lrs = 10**lre"
   ]
  },
  {
   "cell_type": "code",
   "execution_count": 162,
   "metadata": {},
   "outputs": [
    {
     "data": {
      "text/plain": [
       "tensor([0.0010, 0.0010, 0.0010, 0.0010, 0.0010, 0.0010, 0.0010, 0.0010, 0.0011,\n",
       "        0.0011, 0.0011, 0.0011, 0.0011, 0.0011, 0.0011, 0.0011, 0.0011, 0.0011,\n",
       "        0.0011, 0.0011, 0.0011, 0.0012, 0.0012, 0.0012, 0.0012, 0.0012, 0.0012,\n",
       "        0.0012, 0.0012, 0.0012, 0.0012, 0.0012, 0.0012, 0.0013, 0.0013, 0.0013,\n",
       "        0.0013, 0.0013, 0.0013, 0.0013, 0.0013, 0.0013, 0.0013, 0.0013, 0.0014,\n",
       "        0.0014, 0.0014, 0.0014, 0.0014, 0.0014, 0.0014, 0.0014, 0.0014, 0.0014,\n",
       "        0.0015, 0.0015, 0.0015, 0.0015, 0.0015, 0.0015, 0.0015, 0.0015, 0.0015,\n",
       "        0.0015, 0.0016, 0.0016, 0.0016, 0.0016, 0.0016, 0.0016, 0.0016, 0.0016,\n",
       "        0.0016, 0.0017, 0.0017, 0.0017, 0.0017, 0.0017, 0.0017, 0.0017, 0.0017,\n",
       "        0.0018, 0.0018, 0.0018, 0.0018, 0.0018, 0.0018, 0.0018, 0.0018, 0.0019,\n",
       "        0.0019, 0.0019, 0.0019, 0.0019, 0.0019, 0.0019, 0.0019, 0.0020, 0.0020,\n",
       "        0.0020, 0.0020, 0.0020, 0.0020, 0.0020, 0.0021, 0.0021, 0.0021, 0.0021,\n",
       "        0.0021, 0.0021, 0.0021, 0.0022, 0.0022, 0.0022, 0.0022, 0.0022, 0.0022,\n",
       "        0.0022, 0.0023, 0.0023, 0.0023, 0.0023, 0.0023, 0.0023, 0.0024, 0.0024,\n",
       "        0.0024, 0.0024, 0.0024, 0.0024, 0.0025, 0.0025, 0.0025, 0.0025, 0.0025,\n",
       "        0.0025, 0.0026, 0.0026, 0.0026, 0.0026, 0.0026, 0.0027, 0.0027, 0.0027,\n",
       "        0.0027, 0.0027, 0.0027, 0.0028, 0.0028, 0.0028, 0.0028, 0.0028, 0.0029,\n",
       "        0.0029, 0.0029, 0.0029, 0.0029, 0.0030, 0.0030, 0.0030, 0.0030, 0.0030,\n",
       "        0.0031, 0.0031, 0.0031, 0.0031, 0.0032, 0.0032, 0.0032, 0.0032, 0.0032,\n",
       "        0.0033, 0.0033, 0.0033, 0.0033, 0.0034, 0.0034, 0.0034, 0.0034, 0.0034,\n",
       "        0.0035, 0.0035, 0.0035, 0.0035, 0.0036, 0.0036, 0.0036, 0.0036, 0.0037,\n",
       "        0.0037, 0.0037, 0.0037, 0.0038, 0.0038, 0.0038, 0.0039, 0.0039, 0.0039,\n",
       "        0.0039, 0.0040, 0.0040, 0.0040, 0.0040, 0.0041, 0.0041, 0.0041, 0.0042,\n",
       "        0.0042, 0.0042, 0.0042, 0.0043, 0.0043, 0.0043, 0.0044, 0.0044, 0.0044,\n",
       "        0.0045, 0.0045, 0.0045, 0.0045, 0.0046, 0.0046, 0.0046, 0.0047, 0.0047,\n",
       "        0.0047, 0.0048, 0.0048, 0.0048, 0.0049, 0.0049, 0.0049, 0.0050, 0.0050,\n",
       "        0.0050, 0.0051, 0.0051, 0.0051, 0.0052, 0.0052, 0.0053, 0.0053, 0.0053,\n",
       "        0.0054, 0.0054, 0.0054, 0.0055, 0.0055, 0.0056, 0.0056, 0.0056, 0.0057,\n",
       "        0.0057, 0.0058, 0.0058, 0.0058, 0.0059, 0.0059, 0.0060, 0.0060, 0.0060,\n",
       "        0.0061, 0.0061, 0.0062, 0.0062, 0.0062, 0.0063, 0.0063, 0.0064, 0.0064,\n",
       "        0.0065, 0.0065, 0.0066, 0.0066, 0.0067, 0.0067, 0.0067, 0.0068, 0.0068,\n",
       "        0.0069, 0.0069, 0.0070, 0.0070, 0.0071, 0.0071, 0.0072, 0.0072, 0.0073,\n",
       "        0.0073, 0.0074, 0.0074, 0.0075, 0.0075, 0.0076, 0.0076, 0.0077, 0.0077,\n",
       "        0.0078, 0.0079, 0.0079, 0.0080, 0.0080, 0.0081, 0.0081, 0.0082, 0.0082,\n",
       "        0.0083, 0.0084, 0.0084, 0.0085, 0.0085, 0.0086, 0.0086, 0.0087, 0.0088,\n",
       "        0.0088, 0.0089, 0.0090, 0.0090, 0.0091, 0.0091, 0.0092, 0.0093, 0.0093,\n",
       "        0.0094, 0.0095, 0.0095, 0.0096, 0.0097, 0.0097, 0.0098, 0.0099, 0.0099,\n",
       "        0.0100, 0.0101, 0.0101, 0.0102, 0.0103, 0.0104, 0.0104, 0.0105, 0.0106,\n",
       "        0.0106, 0.0107, 0.0108, 0.0109, 0.0109, 0.0110, 0.0111, 0.0112, 0.0112,\n",
       "        0.0113, 0.0114, 0.0115, 0.0116, 0.0116, 0.0117, 0.0118, 0.0119, 0.0120,\n",
       "        0.0121, 0.0121, 0.0122, 0.0123, 0.0124, 0.0125, 0.0126, 0.0127, 0.0127,\n",
       "        0.0128, 0.0129, 0.0130, 0.0131, 0.0132, 0.0133, 0.0134, 0.0135, 0.0136,\n",
       "        0.0137, 0.0137, 0.0138, 0.0139, 0.0140, 0.0141, 0.0142, 0.0143, 0.0144,\n",
       "        0.0145, 0.0146, 0.0147, 0.0148, 0.0149, 0.0150, 0.0151, 0.0152, 0.0154,\n",
       "        0.0155, 0.0156, 0.0157, 0.0158, 0.0159, 0.0160, 0.0161, 0.0162, 0.0163,\n",
       "        0.0165, 0.0166, 0.0167, 0.0168, 0.0169, 0.0170, 0.0171, 0.0173, 0.0174,\n",
       "        0.0175, 0.0176, 0.0178, 0.0179, 0.0180, 0.0181, 0.0182, 0.0184, 0.0185,\n",
       "        0.0186, 0.0188, 0.0189, 0.0190, 0.0192, 0.0193, 0.0194, 0.0196, 0.0197,\n",
       "        0.0198, 0.0200, 0.0201, 0.0202, 0.0204, 0.0205, 0.0207, 0.0208, 0.0210,\n",
       "        0.0211, 0.0212, 0.0214, 0.0215, 0.0217, 0.0218, 0.0220, 0.0221, 0.0223,\n",
       "        0.0225, 0.0226, 0.0228, 0.0229, 0.0231, 0.0232, 0.0234, 0.0236, 0.0237,\n",
       "        0.0239, 0.0241, 0.0242, 0.0244, 0.0246, 0.0247, 0.0249, 0.0251, 0.0253,\n",
       "        0.0254, 0.0256, 0.0258, 0.0260, 0.0261, 0.0263, 0.0265, 0.0267, 0.0269,\n",
       "        0.0271, 0.0273, 0.0274, 0.0276, 0.0278, 0.0280, 0.0282, 0.0284, 0.0286,\n",
       "        0.0288, 0.0290, 0.0292, 0.0294, 0.0296, 0.0298, 0.0300, 0.0302, 0.0304,\n",
       "        0.0307, 0.0309, 0.0311, 0.0313, 0.0315, 0.0317, 0.0320, 0.0322, 0.0324,\n",
       "        0.0326, 0.0328, 0.0331, 0.0333, 0.0335, 0.0338, 0.0340, 0.0342, 0.0345,\n",
       "        0.0347, 0.0350, 0.0352, 0.0354, 0.0357, 0.0359, 0.0362, 0.0364, 0.0367,\n",
       "        0.0369, 0.0372, 0.0375, 0.0377, 0.0380, 0.0382, 0.0385, 0.0388, 0.0390,\n",
       "        0.0393, 0.0396, 0.0399, 0.0401, 0.0404, 0.0407, 0.0410, 0.0413, 0.0416,\n",
       "        0.0418, 0.0421, 0.0424, 0.0427, 0.0430, 0.0433, 0.0436, 0.0439, 0.0442,\n",
       "        0.0445, 0.0448, 0.0451, 0.0455, 0.0458, 0.0461, 0.0464, 0.0467, 0.0471,\n",
       "        0.0474, 0.0477, 0.0480, 0.0484, 0.0487, 0.0491, 0.0494, 0.0497, 0.0501,\n",
       "        0.0504, 0.0508, 0.0511, 0.0515, 0.0518, 0.0522, 0.0526, 0.0529, 0.0533,\n",
       "        0.0537, 0.0540, 0.0544, 0.0548, 0.0552, 0.0556, 0.0559, 0.0563, 0.0567,\n",
       "        0.0571, 0.0575, 0.0579, 0.0583, 0.0587, 0.0591, 0.0595, 0.0599, 0.0604,\n",
       "        0.0608, 0.0612, 0.0616, 0.0621, 0.0625, 0.0629, 0.0634, 0.0638, 0.0642,\n",
       "        0.0647, 0.0651, 0.0656, 0.0660, 0.0665, 0.0670, 0.0674, 0.0679, 0.0684,\n",
       "        0.0688, 0.0693, 0.0698, 0.0703, 0.0708, 0.0713, 0.0718, 0.0723, 0.0728,\n",
       "        0.0733, 0.0738, 0.0743, 0.0748, 0.0753, 0.0758, 0.0764, 0.0769, 0.0774,\n",
       "        0.0780, 0.0785, 0.0790, 0.0796, 0.0802, 0.0807, 0.0813, 0.0818, 0.0824,\n",
       "        0.0830, 0.0835, 0.0841, 0.0847, 0.0853, 0.0859, 0.0865, 0.0871, 0.0877,\n",
       "        0.0883, 0.0889, 0.0895, 0.0901, 0.0908, 0.0914, 0.0920, 0.0927, 0.0933,\n",
       "        0.0940, 0.0946, 0.0953, 0.0959, 0.0966, 0.0973, 0.0979, 0.0986, 0.0993,\n",
       "        0.1000, 0.1007, 0.1014, 0.1021, 0.1028, 0.1035, 0.1042, 0.1050, 0.1057,\n",
       "        0.1064, 0.1072, 0.1079, 0.1087, 0.1094, 0.1102, 0.1109, 0.1117, 0.1125,\n",
       "        0.1133, 0.1140, 0.1148, 0.1156, 0.1164, 0.1172, 0.1181, 0.1189, 0.1197,\n",
       "        0.1205, 0.1214, 0.1222, 0.1231, 0.1239, 0.1248, 0.1256, 0.1265, 0.1274,\n",
       "        0.1283, 0.1292, 0.1301, 0.1310, 0.1319, 0.1328, 0.1337, 0.1346, 0.1356,\n",
       "        0.1365, 0.1374, 0.1384, 0.1394, 0.1403, 0.1413, 0.1423, 0.1433, 0.1443,\n",
       "        0.1453, 0.1463, 0.1473, 0.1483, 0.1493, 0.1504, 0.1514, 0.1525, 0.1535,\n",
       "        0.1546, 0.1557, 0.1567, 0.1578, 0.1589, 0.1600, 0.1611, 0.1623, 0.1634,\n",
       "        0.1645, 0.1657, 0.1668, 0.1680, 0.1691, 0.1703, 0.1715, 0.1727, 0.1739,\n",
       "        0.1751, 0.1763, 0.1775, 0.1788, 0.1800, 0.1812, 0.1825, 0.1838, 0.1850,\n",
       "        0.1863, 0.1876, 0.1889, 0.1902, 0.1916, 0.1929, 0.1942, 0.1956, 0.1969,\n",
       "        0.1983, 0.1997, 0.2010, 0.2024, 0.2038, 0.2053, 0.2067, 0.2081, 0.2096,\n",
       "        0.2110, 0.2125, 0.2140, 0.2154, 0.2169, 0.2184, 0.2200, 0.2215, 0.2230,\n",
       "        0.2246, 0.2261, 0.2277, 0.2293, 0.2309, 0.2325, 0.2341, 0.2357, 0.2373,\n",
       "        0.2390, 0.2406, 0.2423, 0.2440, 0.2457, 0.2474, 0.2491, 0.2508, 0.2526,\n",
       "        0.2543, 0.2561, 0.2579, 0.2597, 0.2615, 0.2633, 0.2651, 0.2669, 0.2688,\n",
       "        0.2707, 0.2725, 0.2744, 0.2763, 0.2783, 0.2802, 0.2821, 0.2841, 0.2861,\n",
       "        0.2880, 0.2900, 0.2921, 0.2941, 0.2961, 0.2982, 0.3002, 0.3023, 0.3044,\n",
       "        0.3065, 0.3087, 0.3108, 0.3130, 0.3151, 0.3173, 0.3195, 0.3217, 0.3240,\n",
       "        0.3262, 0.3285, 0.3308, 0.3331, 0.3354, 0.3377, 0.3400, 0.3424, 0.3448,\n",
       "        0.3472, 0.3496, 0.3520, 0.3544, 0.3569, 0.3594, 0.3619, 0.3644, 0.3669,\n",
       "        0.3695, 0.3720, 0.3746, 0.3772, 0.3798, 0.3825, 0.3851, 0.3878, 0.3905,\n",
       "        0.3932, 0.3959, 0.3987, 0.4014, 0.4042, 0.4070, 0.4098, 0.4127, 0.4155,\n",
       "        0.4184, 0.4213, 0.4243, 0.4272, 0.4302, 0.4331, 0.4362, 0.4392, 0.4422,\n",
       "        0.4453, 0.4484, 0.4515, 0.4546, 0.4578, 0.4610, 0.4642, 0.4674, 0.4706,\n",
       "        0.4739, 0.4772, 0.4805, 0.4838, 0.4872, 0.4906, 0.4940, 0.4974, 0.5008,\n",
       "        0.5043, 0.5078, 0.5113, 0.5149, 0.5185, 0.5221, 0.5257, 0.5293, 0.5330,\n",
       "        0.5367, 0.5404, 0.5442, 0.5479, 0.5517, 0.5556, 0.5594, 0.5633, 0.5672,\n",
       "        0.5712, 0.5751, 0.5791, 0.5831, 0.5872, 0.5913, 0.5954, 0.5995, 0.6036,\n",
       "        0.6078, 0.6120, 0.6163, 0.6206, 0.6249, 0.6292, 0.6336, 0.6380, 0.6424,\n",
       "        0.6469, 0.6513, 0.6559, 0.6604, 0.6650, 0.6696, 0.6743, 0.6789, 0.6837,\n",
       "        0.6884, 0.6932, 0.6980, 0.7028, 0.7077, 0.7126, 0.7176, 0.7225, 0.7275,\n",
       "        0.7326, 0.7377, 0.7428, 0.7480, 0.7531, 0.7584, 0.7636, 0.7689, 0.7743,\n",
       "        0.7796, 0.7850, 0.7905, 0.7960, 0.8015, 0.8071, 0.8127, 0.8183, 0.8240,\n",
       "        0.8297, 0.8355, 0.8412, 0.8471, 0.8530, 0.8589, 0.8648, 0.8708, 0.8769,\n",
       "        0.8830, 0.8891, 0.8953, 0.9015, 0.9077, 0.9140, 0.9204, 0.9268, 0.9332,\n",
       "        0.9397, 0.9462, 0.9528, 0.9594, 0.9660, 0.9727, 0.9795, 0.9863, 0.9931,\n",
       "        1.0000])"
      ]
     },
     "execution_count": 162,
     "metadata": {},
     "output_type": "execute_result"
    }
   ],
   "source": [
    "lrs"
   ]
  },
  {
   "cell_type": "code",
   "execution_count": 163,
   "metadata": {},
   "outputs": [],
   "source": [
    "# Create random batches and only feed these batches forward and backward through the model\n",
    "\n",
    "lr_i = [] # learning rate at iteration i\n",
    "loss_i = [] # loss at iteration i\n",
    "\n",
    "for i in range(1000):\n",
    "\n",
    "    # construct minibatch\n",
    "    ix = torch.randint(0, X.shape[0], (32,)) # Select 32 random indices from our dataset\n",
    "\n",
    "    X_batch = X[ix]\n",
    "    Y_batch = Y[ix]\n",
    "\n",
    "    # forward pass\n",
    "    emb = C[X_batch] # using minibatches, we are back to [32, 3, 2]\n",
    "    h = torch.tanh(emb.view(-1, 6) @W1 + b1)\n",
    "    logits = h @ W2 + b2\n",
    "    loss = F.cross_entropy(logits, Y_batch) # even better and more efficient than the above\n",
    "\n",
    "    # backward pass / backpropagation\n",
    "    for p in parameters:\n",
    "        p.grad = None # don't forget to .zero_grad() !!!\n",
    "    loss.backward()\n",
    "\n",
    "    # update\n",
    "    learning_rate = lrs[i]\n",
    "    for p in parameters:\n",
    "        p.data += -learning_rate * p.grad \n",
    "\n",
    "    # track stats\n",
    "    lr_i.append(lre[i])\n",
    "    loss_i.append(loss.item())\n",
    "    \n",
    "    # print(loss.item()) # NOTE: In this case, this is only the loss for the current batch!!! Not the global loss"
   ]
  },
  {
   "cell_type": "code",
   "execution_count": 164,
   "metadata": {},
   "outputs": [
    {
     "data": {
      "text/plain": [
       "[<matplotlib.lines.Line2D at 0x168012090>]"
      ]
     },
     "execution_count": 164,
     "metadata": {},
     "output_type": "execute_result"
    },
    {
     "data": {
      "image/png": "[encoded data removed]",
      "text/plain": [
       "<Figure size 640x480 with 1 Axes>"
      ]
     },
     "metadata": {},
     "output_type": "display_data"
    }
   ],
   "source": [
    "# Here, we determine visualls that the optimal learning rate is somewhere around the exponent of -1.0\n",
    "# i.e. 10**-1 = 0.1\n",
    "plt.plot(lr_i, loss_i)"
   ]
  },
  {
   "cell_type": "code",
   "execution_count": 165,
   "metadata": {},
   "outputs": [
    {
     "data": {
      "text/plain": [
       "tensor(8.3079, grad_fn=<NllLossBackward0>)"
      ]
     },
     "execution_count": 165,
     "metadata": {},
     "output_type": "execute_result"
    }
   ],
   "source": [
    "# global loss\n",
    "emb = C[X] # using minibatches, we are back to [32, 3, 2]\n",
    "h = torch.tanh(emb.view(-1, 6) @W1 + b1)\n",
    "logits = h @ W2 + b2\n",
    "loss = F.cross_entropy(logits, Y) # even better and more efficient than the above\n",
    "loss"
   ]
  },
  {
   "cell_type": "markdown",
   "metadata": {},
   "source": [
    "## Using the optimal learning rate"
   ]
  },
  {
   "cell_type": "code",
   "execution_count": 170,
   "metadata": {},
   "outputs": [],
   "source": [
    "g = torch.Generator().manual_seed(42)\n",
    "C = torch.randn((27, 2), generator=g)\n",
    "W1 = torch.randn((6, 100), generator=g)\n",
    "b1 = torch.randn(100, generator=g)\n",
    "W2 = torch.randn((100, 27), generator=g)\n",
    "b2 = torch.randn(27, generator=g)\n",
    "parameters = [C, W1, b1, W2, b2]"
   ]
  },
  {
   "cell_type": "code",
   "execution_count": 171,
   "metadata": {},
   "outputs": [],
   "source": [
    "for p in parameters:\n",
    "    p.requires_grad = True"
   ]
  },
  {
   "cell_type": "code",
   "execution_count": 172,
   "metadata": {},
   "outputs": [],
   "source": [
    "# Create random batches and only feed these batches forward and backward through the model\n",
    "\n",
    "for i in range(10000):\n",
    "\n",
    "    # construct minibatch\n",
    "    ix = torch.randint(0, X.shape[0], (32,)) # Select 32 random indices from our dataset\n",
    "\n",
    "    X_batch = X[ix]\n",
    "    Y_batch = Y[ix]\n",
    "\n",
    "    # forward pass\n",
    "    emb = C[X_batch] # using minibatches, we are back to [32, 3, 2]\n",
    "    h = torch.tanh(emb.view(-1, 6) @W1 + b1)\n",
    "    logits = h @ W2 + b2\n",
    "    loss = F.cross_entropy(logits, Y_batch) # even better and more efficient than the above\n",
    "\n",
    "    # backward pass / backpropagation\n",
    "    for p in parameters:\n",
    "        p.grad = None # don't forget to .zero_grad() !!!\n",
    "    loss.backward()\n",
    "\n",
    "    # update\n",
    "    learning_rate = 10**-1 # 0.1 as visually determined\n",
    "    for p in parameters:\n",
    "        p.data += -learning_rate * p.grad \n",
    "    \n",
    "    # print(loss.item()) # NOTE: In this case, this is only the loss for the current batch!!! Not the global loss"
   ]
  },
  {
   "cell_type": "code",
   "execution_count": 173,
   "metadata": {},
   "outputs": [
    {
     "data": {
      "text/plain": [
       "tensor(2.4732, grad_fn=<NllLossBackward0>)"
      ]
     },
     "execution_count": 173,
     "metadata": {},
     "output_type": "execute_result"
    }
   ],
   "source": [
    "# global loss\n",
    "emb = C[X] # using minibatches, we are back to [32, 3, 2]\n",
    "h = torch.tanh(emb.view(-1, 6) @W1 + b1)\n",
    "logits = h @ W2 + b2\n",
    "loss = F.cross_entropy(logits, Y) # even better and more efficient than the above\n",
    "loss"
   ]
  },
  {
   "cell_type": "code",
   "execution_count": 174,
   "metadata": {},
   "outputs": [],
   "source": [
    "# train split, dev/validation split, test split\n",
    "# 80%, 10%, 10%\n",
    "# train set is used to train the parameters\n",
    "# validation set is used to train the hyperparameters (test different configurations)\n",
    "# test set is used to evaluate the performance at the end"
   ]
  },
  {
   "cell_type": "markdown",
   "metadata": {},
   "source": [
    "# Implement Train, Val and Test set"
   ]
  },
  {
   "cell_type": "code",
   "execution_count": 175,
   "metadata": {},
   "outputs": [],
   "source": [
    "import random"
   ]
  },
  {
   "cell_type": "code",
   "execution_count": 178,
   "metadata": {},
   "outputs": [
    {
     "name": "stdout",
     "output_type": "stream",
     "text": [
      "torch.Size([182437, 3]) torch.Size([182437])\n",
      "torch.Size([22781, 3]) torch.Size([22781])\n",
      "torch.Size([22928, 3]) torch.Size([22928])\n"
     ]
    }
   ],
   "source": [
    "# build the dataset\n",
    "def buildDataset(words):\n",
    "    '''\n",
    "    Takes in a list of words and returns it's characters according to the block size as Tensors.\n",
    "    '''\n",
    "    block_size = 3 # context_length; how many characters do we use to support our prediction of the next character?\n",
    "    X, Y = [], []\n",
    "\n",
    "    for w in words:\n",
    "        context = [0] * block_size # padded context of 0-tokens (i.e. \".\")\n",
    "        for ch in w + \".\":\n",
    "            ix = stoi[ch]\n",
    "            X.append(context)\n",
    "            Y.append(ix)\n",
    "            context = context[1:] + [ix] # shift/move the context window one character to the right --> rolling window of context\n",
    "\n",
    "    X = torch.tensor(X)\n",
    "    Y = torch.tensor(Y)\n",
    "    print(X.shape, Y.shape)\n",
    "    return X, Y\n",
    "\n",
    "random.seed(42)\n",
    "random.shuffle(words)\n",
    "n1 = int(.8 * len(words))\n",
    "n2 = int(.9 * len(words))\n",
    "\n",
    "Xtr, Ytr = buildDataset(words[:n1])\n",
    "Xdev, Ydev = buildDataset(words[n1:n2])\n",
    "Xtest, Ytest = buildDataset(words[n2:])"
   ]
  },
  {
   "cell_type": "code",
   "execution_count": 179,
   "metadata": {},
   "outputs": [],
   "source": [
    "g = torch.Generator().manual_seed(42)\n",
    "C = torch.randn((27, 2), generator=g)\n",
    "W1 = torch.randn((6, 100), generator=g)\n",
    "b1 = torch.randn(100, generator=g)\n",
    "W2 = torch.randn((100, 27), generator=g)\n",
    "b2 = torch.randn(27, generator=g)\n",
    "parameters = [C, W1, b1, W2, b2]"
   ]
  },
  {
   "cell_type": "code",
   "execution_count": 180,
   "metadata": {},
   "outputs": [],
   "source": [
    "for p in parameters:\n",
    "    p.requires_grad = True"
   ]
  },
  {
   "cell_type": "code",
   "execution_count": 181,
   "metadata": {},
   "outputs": [],
   "source": [
    "# Create random batches and only feed these batches forward and backward through the model\n",
    "\n",
    "for i in range(50000):\n",
    "\n",
    "    # construct minibatch\n",
    "    ix = torch.randint(0, Xtr.shape[0], (32,)) # Select 32 random indices from our dataset\n",
    "\n",
    "    X_batch = Xtr[ix]\n",
    "    Y_batch = Ytr[ix]\n",
    "\n",
    "    # forward pass\n",
    "    emb = C[X_batch] # using minibatches, we are back to [32, 3, 2]\n",
    "    h = torch.tanh(emb.view(-1, 6) @W1 + b1)\n",
    "    logits = h @ W2 + b2\n",
    "    loss = F.cross_entropy(logits, Y_batch) # even better and more efficient than the above\n",
    "\n",
    "    # backward pass / backpropagation\n",
    "    for p in parameters:\n",
    "        p.grad = None # don't forget to .zero_grad() !!!\n",
    "    loss.backward()\n",
    "\n",
    "    # update\n",
    "    learning_rate = 10**-1 # 0.1 as visually determined\n",
    "    for p in parameters:\n",
    "        p.data += -learning_rate * p.grad \n",
    "    \n",
    "    # print(loss.item()) # NOTE: In this case, this is only the loss for the current batch!!! Not the global loss"
   ]
  },
  {
   "cell_type": "code",
   "execution_count": 183,
   "metadata": {},
   "outputs": [
    {
     "data": {
      "text/plain": [
       "tensor(2.3553, grad_fn=<NllLossBackward0>)"
      ]
     },
     "execution_count": 183,
     "metadata": {},
     "output_type": "execute_result"
    }
   ],
   "source": [
    "# global loss across the TRAIN Set\n",
    "emb = C[Xtr] # using minibatches, we are back to [32, 3, 2]\n",
    "h = torch.tanh(emb.view(-1, 6) @W1 + b1)\n",
    "logits = h @ W2 + b2\n",
    "loss = F.cross_entropy(logits, Ytr) # even better and more efficient than the above\n",
    "loss"
   ]
  },
  {
   "cell_type": "code",
   "execution_count": 182,
   "metadata": {},
   "outputs": [
    {
     "data": {
      "text/plain": [
       "tensor(2.3646, grad_fn=<NllLossBackward0>)"
      ]
     },
     "execution_count": 182,
     "metadata": {},
     "output_type": "execute_result"
    }
   ],
   "source": [
    "# global loss across the VALIDATION / DEV Set\n",
    "emb = C[Xdev] # using minibatches, we are back to [32, 3, 2]\n",
    "h = torch.tanh(emb.view(-1, 6) @W1 + b1)\n",
    "logits = h @ W2 + b2\n",
    "loss = F.cross_entropy(logits, Ydev) # even better and more efficient than the above\n",
    "loss"
   ]
  },
  {
   "cell_type": "code",
   "execution_count": 184,
   "metadata": {},
   "outputs": [],
   "source": [
    "# Interpretation:\n",
    "# Train loss and dev loss are roughly the same\n",
    "# this means our model is underfitting\n",
    "# our model is very tiny and not able to perfectly learn the complexity of the given problem\n",
    "# therefore we expect performance increases by scaling up the neural network!"
   ]
  },
  {
   "cell_type": "markdown",
   "metadata": {},
   "source": [
    "# Scaling up the Neural Network"
   ]
  },
  {
   "cell_type": "code",
   "execution_count": 185,
   "metadata": {},
   "outputs": [],
   "source": [
    "# As we scale up the network, it will take longer to converge"
   ]
  },
  {
   "cell_type": "code",
   "execution_count": 186,
   "metadata": {},
   "outputs": [],
   "source": [
    "g = torch.Generator().manual_seed(42)\n",
    "C = torch.randn((27, 2), generator=g) # lookup table for embeddings\n",
    "W1 = torch.randn((6, 300), generator=g)\n",
    "b1 = torch.randn(300, generator=g)\n",
    "W2 = torch.randn((300, 27), generator=g)\n",
    "b2 = torch.randn(27, generator=g)\n",
    "parameters = [C, W1, b1, W2, b2]"
   ]
  },
  {
   "cell_type": "code",
   "execution_count": 187,
   "metadata": {},
   "outputs": [],
   "source": [
    "for p in parameters:\n",
    "    p.requires_grad = True"
   ]
  },
  {
   "cell_type": "code",
   "execution_count": 188,
   "metadata": {},
   "outputs": [
    {
     "data": {
      "text/plain": [
       "10281"
      ]
     },
     "execution_count": 188,
     "metadata": {},
     "output_type": "execute_result"
    }
   ],
   "source": [
    "sum([p.numel() for p in parameters])"
   ]
  },
  {
   "cell_type": "code",
   "execution_count": 192,
   "metadata": {},
   "outputs": [],
   "source": [
    "# Create random batches and only feed these batches forward and backward through the model\n",
    "\n",
    "for i in range(150000):\n",
    "\n",
    "    # construct minibatch\n",
    "    ix = torch.randint(0, Xtr.shape[0], (32,)) # Select 32 random indices from our dataset\n",
    "\n",
    "    X_batch = Xtr[ix]\n",
    "    Y_batch = Ytr[ix]\n",
    "\n",
    "    # forward pass\n",
    "    emb = C[X_batch] # using minibatches, we are back to [32, 3, 2]\n",
    "    h = torch.tanh(emb.view(-1, 6) @W1 + b1)\n",
    "    logits = h @ W2 + b2\n",
    "    loss = F.cross_entropy(logits, Y_batch) # even better and more efficient than the above\n",
    "\n",
    "    # backward pass / backpropagation\n",
    "    for p in parameters:\n",
    "        p.grad = None # don't forget to .zero_grad() !!!\n",
    "    loss.backward()\n",
    "\n",
    "    # update\n",
    "    if i < 50000:\n",
    "        learning_rate = 10**-1 # 0.1 as visually determined\n",
    "    else:\n",
    "        learning_rate = 0.01\n",
    "\n",
    "    for p in parameters:\n",
    "        p.data += -learning_rate * p.grad \n",
    "    \n",
    "    # print(loss.item()) # NOTE: In this case, this is only the loss for the current batch!!! Not the global loss"
   ]
  },
  {
   "cell_type": "code",
   "execution_count": 193,
   "metadata": {},
   "outputs": [
    {
     "data": {
      "text/plain": [
       "tensor(2.2275, grad_fn=<NllLossBackward0>)"
      ]
     },
     "execution_count": 193,
     "metadata": {},
     "output_type": "execute_result"
    }
   ],
   "source": [
    "# global loss across the TRAIN Set\n",
    "emb = C[Xtr] # using minibatches, we are back to [32, 3, 2]\n",
    "h = torch.tanh(emb.view(-1, 6) @W1 + b1)\n",
    "logits = h @ W2 + b2\n",
    "loss = F.cross_entropy(logits, Ytr) # even better and more efficient than the above\n",
    "loss"
   ]
  },
  {
   "cell_type": "code",
   "execution_count": 194,
   "metadata": {},
   "outputs": [
    {
     "data": {
      "text/plain": [
       "tensor(2.2553, grad_fn=<NllLossBackward0>)"
      ]
     },
     "execution_count": 194,
     "metadata": {},
     "output_type": "execute_result"
    }
   ],
   "source": [
    "# global loss across the VALIDATION / DEV Set\n",
    "emb = C[Xdev] # using minibatches, we are back to [32, 3, 2]\n",
    "h = torch.tanh(emb.view(-1, 6) @W1 + b1)\n",
    "logits = h @ W2 + b2\n",
    "loss = F.cross_entropy(logits, Ydev) # even better and more efficient than the above\n",
    "loss"
   ]
  },
  {
   "cell_type": "code",
   "execution_count": 195,
   "metadata": {},
   "outputs": [],
   "source": [
    "# We are still underfitting.\n",
    "# Most likely, our 2D vector space for our embeddings is our bottleneck"
   ]
  },
  {
   "cell_type": "code",
   "execution_count": 199,
   "metadata": {},
   "outputs": [
    {
     "data": {
      "image/png": "[encoded data removed]",
      "text/plain": [
       "<Figure size 800x800 with 1 Axes>"
      ]
     },
     "metadata": {},
     "output_type": "display_data"
    }
   ],
   "source": [
    "plt. figure (figsize=(8,8)) \n",
    "plt.scatter(C[:,0].data, C[:,1].data, s=200)\n",
    "\n",
    "for i in range(C.shape[0]):\n",
    "    plt. text(C[i,0].item(), C[i,1].item(), itos[i], ha=\"center\", va=\"center\", color='white')\n",
    "plt.grid ( 'minor')"
   ]
  },
  {
   "cell_type": "code",
   "execution_count": null,
   "metadata": {},
   "outputs": [],
   "source": []
  }
 ],
 "metadata": {
  "kernelspec": {
   "display_name": "torch",
   "language": "python",
   "name": "python3"
  },
  "language_info": {
   "codemirror_mode": {
    "name": "ipython",
    "version": 3
   },
   "file_extension": ".py",
   "mimetype": "text/x-python",
   "name": "python",
   "nbconvert_exporter": "python",
   "pygments_lexer": "ipython3",
   "version": "3.11.8"
  }
 },
 "nbformat": 4,
 "nbformat_minor": 2
}
