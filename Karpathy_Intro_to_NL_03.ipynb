{
 "cells": [
  {
   "cell_type": "code",
   "execution_count": 1,
   "metadata": {},
   "outputs": [],
   "source": [
    "import torch\n",
    "import torch.nn.functional as F\n",
    "import matplotlib.pyplot as plt\n",
    "%matplotlib inline"
   ]
  },
  {
   "cell_type": "code",
   "execution_count": 2,
   "metadata": {},
   "outputs": [
    {
     "data": {
      "text/plain": [
       "['emma', 'olivia', 'ava', 'isabella', 'sophia', 'charlotte', 'mia', 'amelia']"
      ]
     },
     "execution_count": 2,
     "metadata": {},
     "output_type": "execute_result"
    }
   ],
   "source": [
    "# read in all words\n",
    "words = open(\"names.txt\").read().splitlines()\n",
    "words[:8]"
   ]
  },
  {
   "cell_type": "code",
   "execution_count": 3,
   "metadata": {},
   "outputs": [
    {
     "data": {
      "text/plain": [
       "32033"
      ]
     },
     "execution_count": 3,
     "metadata": {},
     "output_type": "execute_result"
    }
   ],
   "source": [
    "len(words)"
   ]
  },
  {
   "cell_type": "code",
   "execution_count": 4,
   "metadata": {},
   "outputs": [
    {
     "name": "stdout",
     "output_type": "stream",
     "text": [
      "{1: 'a', 2: 'b', 3: 'c', 4: 'd', 5: 'e', 6: 'f', 7: 'g', 8: 'h', 9: 'i', 10: 'j', 11: 'k', 12: 'l', 13: 'm', 14: 'n', 15: 'o', 16: 'p', 17: 'q', 18: 'r', 19: 's', 20: 't', 21: 'u', 22: 'v', 23: 'w', 24: 'x', 25: 'y', 26: 'z', 0: '.'}\n"
     ]
    }
   ],
   "source": [
    "# mapping from each letter to integer and vice versa\n",
    "chars = sorted(list(set(\"\".join(words))))\n",
    "stoi = {s:i+1 for i, s in enumerate(chars)}\n",
    "stoi[\".\"] = 0\n",
    "itos = {i:s for s,i in stoi.items()}\n",
    "print(itos)"
   ]
  },
  {
   "cell_type": "code",
   "execution_count": 5,
   "metadata": {},
   "outputs": [
    {
     "name": "stdout",
     "output_type": "stream",
     "text": [
      "emma\n",
      "... ---> e\n",
      "..e ---> m\n",
      ".em ---> m\n",
      "emm ---> a\n",
      "mma ---> .\n",
      "olivia\n",
      "... ---> o\n",
      "..o ---> l\n",
      ".ol ---> i\n",
      "oli ---> v\n",
      "liv ---> i\n",
      "ivi ---> a\n",
      "via ---> .\n",
      "ava\n",
      "... ---> a\n",
      "..a ---> v\n",
      ".av ---> a\n",
      "ava ---> .\n",
      "isabella\n",
      "... ---> i\n",
      "..i ---> s\n",
      ".is ---> a\n",
      "isa ---> b\n",
      "sab ---> e\n",
      "abe ---> l\n",
      "bel ---> l\n",
      "ell ---> a\n",
      "lla ---> .\n",
      "sophia\n",
      "... ---> s\n",
      "..s ---> o\n",
      ".so ---> p\n",
      "sop ---> h\n",
      "oph ---> i\n",
      "phi ---> a\n",
      "hia ---> .\n"
     ]
    }
   ],
   "source": [
    "# build the dataset\n",
    "\n",
    "block_size = 3 # context_length; how many characters do we use to support our prediction of the next character?\n",
    "X, Y = [], []\n",
    "\n",
    "for w in words[:5]:\n",
    "    print(w)\n",
    "    context = [0] * block_size # padded context of 0-tokens (i.e. \".\")\n",
    "    for ch in w + \".\":\n",
    "        ix = stoi[ch]\n",
    "        X.append(context)\n",
    "        Y.append(ix)\n",
    "        print(\"\".join(itos[i] for i in context), \"--->\", itos[ix])\n",
    "        context = context[1:] + [ix] # shift/move the context window one character to the right --> rolling window of context\n",
    "\n",
    "X = torch.tensor(X)\n",
    "Y = torch.tensor(Y)"
   ]
  },
  {
   "cell_type": "code",
   "execution_count": 6,
   "metadata": {},
   "outputs": [],
   "source": [
    "# We have 32 Input character sequences of block size 3 for these 5 Words\n",
    "# Each of these 32 sequences is represented by 3 integers (one index for each character)"
   ]
  },
  {
   "cell_type": "code",
   "execution_count": 7,
   "metadata": {},
   "outputs": [
    {
     "data": {
      "text/plain": [
       "tensor([[ 0,  0,  0],\n",
       "        [ 0,  0,  5],\n",
       "        [ 0,  5, 13],\n",
       "        [ 5, 13, 13],\n",
       "        [13, 13,  1],\n",
       "        [ 0,  0,  0],\n",
       "        [ 0,  0, 15],\n",
       "        [ 0, 15, 12],\n",
       "        [15, 12,  9],\n",
       "        [12,  9, 22],\n",
       "        [ 9, 22,  9],\n",
       "        [22,  9,  1],\n",
       "        [ 0,  0,  0],\n",
       "        [ 0,  0,  1],\n",
       "        [ 0,  1, 22],\n",
       "        [ 1, 22,  1],\n",
       "        [ 0,  0,  0],\n",
       "        [ 0,  0,  9],\n",
       "        [ 0,  9, 19],\n",
       "        [ 9, 19,  1],\n",
       "        [19,  1,  2],\n",
       "        [ 1,  2,  5],\n",
       "        [ 2,  5, 12],\n",
       "        [ 5, 12, 12],\n",
       "        [12, 12,  1],\n",
       "        [ 0,  0,  0],\n",
       "        [ 0,  0, 19],\n",
       "        [ 0, 19, 15],\n",
       "        [19, 15, 16],\n",
       "        [15, 16,  8],\n",
       "        [16,  8,  9],\n",
       "        [ 8,  9,  1]])"
      ]
     },
     "execution_count": 7,
     "metadata": {},
     "output_type": "execute_result"
    }
   ],
   "source": [
    "X"
   ]
  },
  {
   "cell_type": "code",
   "execution_count": 8,
   "metadata": {},
   "outputs": [
    {
     "data": {
      "text/plain": [
       "(torch.Size([32, 3]), torch.int64, torch.Size([32]), torch.int64)"
      ]
     },
     "execution_count": 8,
     "metadata": {},
     "output_type": "execute_result"
    }
   ],
   "source": [
    "X.shape, X.dtype, Y.shape, Y.dtype"
   ]
  },
  {
   "cell_type": "code",
   "execution_count": 9,
   "metadata": {},
   "outputs": [],
   "source": [
    "# Let's create the embedding space and initialize it randomly\n",
    "# Here, we start by embedding all 27 characters in as small as 2 dimensions, i.e. a 2-dimensional space\n",
    "C = torch.randn((27, 2))"
   ]
  },
  {
   "cell_type": "code",
   "execution_count": 10,
   "metadata": {},
   "outputs": [
    {
     "data": {
      "text/plain": [
       "tensor([-1.4504,  1.1562])"
      ]
     },
     "execution_count": 10,
     "metadata": {},
     "output_type": "execute_result"
    }
   ],
   "source": [
    "# Start by an individual example, i.e. character 5\n",
    "C[5]"
   ]
  },
  {
   "cell_type": "code",
   "execution_count": 11,
   "metadata": {},
   "outputs": [
    {
     "data": {
      "text/plain": [
       "tensor([[ 1.7639,  0.9999],\n",
       "        [-1.1805,  3.0290],\n",
       "        [ 1.2624, -0.5473],\n",
       "        [-1.1380, -0.7264],\n",
       "        [ 1.1917, -1.2868],\n",
       "        [-1.4504,  1.1562],\n",
       "        [-1.2848, -1.6547],\n",
       "        [ 0.1387, -0.8406],\n",
       "        [-0.1285,  1.7495],\n",
       "        [-0.9507,  0.7326],\n",
       "        [-0.8122, -1.0998],\n",
       "        [-1.2439, -0.9415],\n",
       "        [ 0.5838, -0.2524],\n",
       "        [ 1.9132, -0.7415],\n",
       "        [-0.0743, -0.6260],\n",
       "        [ 0.7299,  0.8824],\n",
       "        [ 0.8770, -0.0703],\n",
       "        [-1.4497,  0.6895],\n",
       "        [-0.3782,  0.7631],\n",
       "        [ 2.0436,  1.6715],\n",
       "        [-0.9068, -1.4856],\n",
       "        [-0.6661, -0.9408],\n",
       "        [-0.0141, -0.2999],\n",
       "        [ 0.6226,  1.8702],\n",
       "        [ 2.6188, -0.5288],\n",
       "        [ 0.2329,  1.0259],\n",
       "        [ 0.3726, -1.2159]])"
      ]
     },
     "execution_count": 11,
     "metadata": {},
     "output_type": "execute_result"
    }
   ],
   "source": [
    "# Each alphabetic character is represented by a 2D vector\n",
    "C"
   ]
  },
  {
   "cell_type": "code",
   "execution_count": 12,
   "metadata": {},
   "outputs": [
    {
     "data": {
      "text/plain": [
       "tensor([-1.4504,  1.1562])"
      ]
     },
     "execution_count": 12,
     "metadata": {},
     "output_type": "execute_result"
    }
   ],
   "source": [
    "# Using one-hot encoding --> the results are identical!!\n",
    "# i.e. we can index for the vecto representation of each character using its one-hot encoding\n",
    "# since all 0 values in the encoding will serve as masks and only the 1 active bit will be used in the dot product\n",
    "F.one_hot(torch.tensor(5), num_classes=27).float() @ C"
   ]
  },
  {
   "cell_type": "code",
   "execution_count": 13,
   "metadata": {},
   "outputs": [
    {
     "data": {
      "text/plain": [
       "tensor([[-1.4504,  1.1562],\n",
       "        [-1.2848, -1.6547],\n",
       "        [ 0.1387, -0.8406],\n",
       "        [ 0.1387, -0.8406],\n",
       "        [ 0.1387, -0.8406],\n",
       "        [ 0.1387, -0.8406]])"
      ]
     },
     "execution_count": 13,
     "metadata": {},
     "output_type": "execute_result"
    }
   ],
   "source": [
    "# We will continue by simply using the Index method C[5] instead of the One Hot Encoder because its faster to write\n",
    "# NOTE: Python Indexing is incredibly flexible\n",
    "# We can index using integers, lists and even tensors. We can even repeatedly index the same element\n",
    "C[torch.tensor([5,6,7, 7, 7, 7])]"
   ]
  },
  {
   "cell_type": "code",
   "execution_count": 14,
   "metadata": {},
   "outputs": [
    {
     "data": {
      "text/plain": [
       "tensor([[ 0,  0,  0],\n",
       "        [ 0,  0,  5],\n",
       "        [ 0,  5, 13],\n",
       "        [ 5, 13, 13],\n",
       "        [13, 13,  1],\n",
       "        [ 0,  0,  0],\n",
       "        [ 0,  0, 15],\n",
       "        [ 0, 15, 12],\n",
       "        [15, 12,  9],\n",
       "        [12,  9, 22],\n",
       "        [ 9, 22,  9],\n",
       "        [22,  9,  1],\n",
       "        [ 0,  0,  0],\n",
       "        [ 0,  0,  1],\n",
       "        [ 0,  1, 22],\n",
       "        [ 1, 22,  1],\n",
       "        [ 0,  0,  0],\n",
       "        [ 0,  0,  9],\n",
       "        [ 0,  9, 19],\n",
       "        [ 9, 19,  1],\n",
       "        [19,  1,  2],\n",
       "        [ 1,  2,  5],\n",
       "        [ 2,  5, 12],\n",
       "        [ 5, 12, 12],\n",
       "        [12, 12,  1],\n",
       "        [ 0,  0,  0],\n",
       "        [ 0,  0, 19],\n",
       "        [ 0, 19, 15],\n",
       "        [19, 15, 16],\n",
       "        [15, 16,  8],\n",
       "        [16,  8,  9],\n",
       "        [ 8,  9,  1]])"
      ]
     },
     "execution_count": 14,
     "metadata": {},
     "output_type": "execute_result"
    }
   ],
   "source": [
    "X"
   ]
  },
  {
   "cell_type": "code",
   "execution_count": 15,
   "metadata": {},
   "outputs": [
    {
     "data": {
      "text/plain": [
       "tensor([[[ 1.7639,  0.9999],\n",
       "         [ 1.7639,  0.9999],\n",
       "         [ 1.7639,  0.9999]],\n",
       "\n",
       "        [[ 1.7639,  0.9999],\n",
       "         [ 1.7639,  0.9999],\n",
       "         [-1.4504,  1.1562]],\n",
       "\n",
       "        [[ 1.7639,  0.9999],\n",
       "         [-1.4504,  1.1562],\n",
       "         [ 1.9132, -0.7415]],\n",
       "\n",
       "        [[-1.4504,  1.1562],\n",
       "         [ 1.9132, -0.7415],\n",
       "         [ 1.9132, -0.7415]],\n",
       "\n",
       "        [[ 1.9132, -0.7415],\n",
       "         [ 1.9132, -0.7415],\n",
       "         [-1.1805,  3.0290]],\n",
       "\n",
       "        [[ 1.7639,  0.9999],\n",
       "         [ 1.7639,  0.9999],\n",
       "         [ 1.7639,  0.9999]],\n",
       "\n",
       "        [[ 1.7639,  0.9999],\n",
       "         [ 1.7639,  0.9999],\n",
       "         [ 0.7299,  0.8824]],\n",
       "\n",
       "        [[ 1.7639,  0.9999],\n",
       "         [ 0.7299,  0.8824],\n",
       "         [ 0.5838, -0.2524]],\n",
       "\n",
       "        [[ 0.7299,  0.8824],\n",
       "         [ 0.5838, -0.2524],\n",
       "         [-0.9507,  0.7326]],\n",
       "\n",
       "        [[ 0.5838, -0.2524],\n",
       "         [-0.9507,  0.7326],\n",
       "         [-0.0141, -0.2999]],\n",
       "\n",
       "        [[-0.9507,  0.7326],\n",
       "         [-0.0141, -0.2999],\n",
       "         [-0.9507,  0.7326]],\n",
       "\n",
       "        [[-0.0141, -0.2999],\n",
       "         [-0.9507,  0.7326],\n",
       "         [-1.1805,  3.0290]],\n",
       "\n",
       "        [[ 1.7639,  0.9999],\n",
       "         [ 1.7639,  0.9999],\n",
       "         [ 1.7639,  0.9999]],\n",
       "\n",
       "        [[ 1.7639,  0.9999],\n",
       "         [ 1.7639,  0.9999],\n",
       "         [-1.1805,  3.0290]],\n",
       "\n",
       "        [[ 1.7639,  0.9999],\n",
       "         [-1.1805,  3.0290],\n",
       "         [-0.0141, -0.2999]],\n",
       "\n",
       "        [[-1.1805,  3.0290],\n",
       "         [-0.0141, -0.2999],\n",
       "         [-1.1805,  3.0290]],\n",
       "\n",
       "        [[ 1.7639,  0.9999],\n",
       "         [ 1.7639,  0.9999],\n",
       "         [ 1.7639,  0.9999]],\n",
       "\n",
       "        [[ 1.7639,  0.9999],\n",
       "         [ 1.7639,  0.9999],\n",
       "         [-0.9507,  0.7326]],\n",
       "\n",
       "        [[ 1.7639,  0.9999],\n",
       "         [-0.9507,  0.7326],\n",
       "         [ 2.0436,  1.6715]],\n",
       "\n",
       "        [[-0.9507,  0.7326],\n",
       "         [ 2.0436,  1.6715],\n",
       "         [-1.1805,  3.0290]],\n",
       "\n",
       "        [[ 2.0436,  1.6715],\n",
       "         [-1.1805,  3.0290],\n",
       "         [ 1.2624, -0.5473]],\n",
       "\n",
       "        [[-1.1805,  3.0290],\n",
       "         [ 1.2624, -0.5473],\n",
       "         [-1.4504,  1.1562]],\n",
       "\n",
       "        [[ 1.2624, -0.5473],\n",
       "         [-1.4504,  1.1562],\n",
       "         [ 0.5838, -0.2524]],\n",
       "\n",
       "        [[-1.4504,  1.1562],\n",
       "         [ 0.5838, -0.2524],\n",
       "         [ 0.5838, -0.2524]],\n",
       "\n",
       "        [[ 0.5838, -0.2524],\n",
       "         [ 0.5838, -0.2524],\n",
       "         [-1.1805,  3.0290]],\n",
       "\n",
       "        [[ 1.7639,  0.9999],\n",
       "         [ 1.7639,  0.9999],\n",
       "         [ 1.7639,  0.9999]],\n",
       "\n",
       "        [[ 1.7639,  0.9999],\n",
       "         [ 1.7639,  0.9999],\n",
       "         [ 2.0436,  1.6715]],\n",
       "\n",
       "        [[ 1.7639,  0.9999],\n",
       "         [ 2.0436,  1.6715],\n",
       "         [ 0.7299,  0.8824]],\n",
       "\n",
       "        [[ 2.0436,  1.6715],\n",
       "         [ 0.7299,  0.8824],\n",
       "         [ 0.8770, -0.0703]],\n",
       "\n",
       "        [[ 0.7299,  0.8824],\n",
       "         [ 0.8770, -0.0703],\n",
       "         [-0.1285,  1.7495]],\n",
       "\n",
       "        [[ 0.8770, -0.0703],\n",
       "         [-0.1285,  1.7495],\n",
       "         [-0.9507,  0.7326]],\n",
       "\n",
       "        [[-0.1285,  1.7495],\n",
       "         [-0.9507,  0.7326],\n",
       "         [-1.1805,  3.0290]]])"
      ]
     },
     "execution_count": 15,
     "metadata": {},
     "output_type": "execute_result"
    }
   ],
   "source": [
    "# We can even index using 2D tensors\n",
    "C[X]"
   ]
  },
  {
   "cell_type": "code",
   "execution_count": 16,
   "metadata": {},
   "outputs": [
    {
     "data": {
      "text/plain": [
       "torch.Size([32, 3, 2])"
      ]
     },
     "execution_count": 16,
     "metadata": {},
     "output_type": "execute_result"
    }
   ],
   "source": [
    "C[X].shape # for each of the original [32, 3] tensor entries, retrieve and add the 2D embedding vector as additional dimension"
   ]
  },
  {
   "cell_type": "code",
   "execution_count": 17,
   "metadata": {},
   "outputs": [
    {
     "data": {
      "text/plain": [
       "tensor(1)"
      ]
     },
     "execution_count": 17,
     "metadata": {},
     "output_type": "execute_result"
    }
   ],
   "source": [
    "X[13, 2] # give me the third character for the 13th sequence, which should be \"a\" or index 1"
   ]
  },
  {
   "cell_type": "code",
   "execution_count": 18,
   "metadata": {},
   "outputs": [
    {
     "data": {
      "text/plain": [
       "tensor([-1.1805,  3.0290])"
      ]
     },
     "execution_count": 18,
     "metadata": {},
     "output_type": "execute_result"
    }
   ],
   "source": [
    "C[X][13,2] # please give me the vector encoding of the character \"a\" found in the third character of the 13th sequence"
   ]
  },
  {
   "cell_type": "code",
   "execution_count": 19,
   "metadata": {},
   "outputs": [
    {
     "data": {
      "text/plain": [
       "tensor([-1.1805,  3.0290])"
      ]
     },
     "execution_count": 19,
     "metadata": {},
     "output_type": "execute_result"
    }
   ],
   "source": [
    "C[1] # which is identical to the value of our lookup table at position index = 1"
   ]
  },
  {
   "cell_type": "code",
   "execution_count": 20,
   "metadata": {},
   "outputs": [
    {
     "data": {
      "text/plain": [
       "torch.Size([32, 3, 2])"
      ]
     },
     "execution_count": 20,
     "metadata": {},
     "output_type": "execute_result"
    }
   ],
   "source": [
    "# EMBEDDING ------------->>>\n",
    "emb = C[X] # embed all input sequences simultaneously\n",
    "emb.shape"
   ]
  },
  {
   "cell_type": "code",
   "execution_count": 21,
   "metadata": {},
   "outputs": [],
   "source": [
    "# SETTING UP THE NEURAL NETWORK LAYER 1 ---------->>>\n",
    "# For each input, we have a sequence of three characters, where each character is embedded in a 2D Vector\n",
    "# Therefore, as input our network will receive 2 floats per character, for 3 characters = 3*2 = 6 Input values\n",
    "# In short: We have 2D embeddings and we have three of them\n",
    "W1 = torch.rand((6, 100)) # initialize weights for the first layer; 6 = 3 * 2 as Inputs and 100 neurons in hidden layer\n",
    "b1 = torch.rand(100)"
   ]
  },
  {
   "cell_type": "code",
   "execution_count": 22,
   "metadata": {},
   "outputs": [
    {
     "data": {
      "text/plain": [
       "torch.Size([32, 3, 2])"
      ]
     },
     "execution_count": 22,
     "metadata": {},
     "output_type": "execute_result"
    }
   ],
   "source": [
    "emb.shape # this does not work as we need [32, 6] as our input; see below"
   ]
  },
  {
   "cell_type": "code",
   "execution_count": 23,
   "metadata": {},
   "outputs": [],
   "source": [
    "# this will result in an error since the dimensions do not match up\n",
    "# emb @ W1 + b1"
   ]
  },
  {
   "cell_type": "code",
   "execution_count": 24,
   "metadata": {},
   "outputs": [],
   "source": [
    "# Short excourse on pyTorch Tensor Storage and the .view() operation\n",
    "# In order to reshape arrays efficiently\n",
    "# http://blog.ezyang.com/2019/05/pytorch-internals/"
   ]
  },
  {
   "cell_type": "code",
   "execution_count": 25,
   "metadata": {},
   "outputs": [
    {
     "data": {
      "text/plain": [
       "torch.Size([32, 6])"
      ]
     },
     "execution_count": 25,
     "metadata": {},
     "output_type": "execute_result"
    }
   ],
   "source": [
    "# we need to concatonate our dimensions\n",
    "# i.e. we need to pull out the individual embedding vectors for each of the three characters in a sequence\n",
    "# and do this for each of our 32 input samples\n",
    "# and then concatonate them together to receive a tensor [ch1_v1, ch1_v2, ch2_v1, ch2_v2, ch3_v1, ch3_v2]\n",
    "# which has the required input shape of [32, 6]\n",
    "# NOTE: This solution is ugly as it does not generalize!!! This only works for block_size = 3\n",
    "torch.concat([emb[:, 0, :], emb[:, 1, :], emb[:, 2, :]], dim=1).shape"
   ]
  },
  {
   "cell_type": "code",
   "execution_count": 26,
   "metadata": {},
   "outputs": [
    {
     "data": {
      "text/plain": [
       "torch.Size([32, 6])"
      ]
     },
     "execution_count": 26,
     "metadata": {},
     "output_type": "execute_result"
    }
   ],
   "source": [
    "# try the same thing in a general manner\n",
    "torch.cat(torch.unbind(emb, 1), 1).shape"
   ]
  },
  {
   "cell_type": "code",
   "execution_count": 27,
   "metadata": {},
   "outputs": [],
   "source": [
    "a = torch.arange(18)"
   ]
  },
  {
   "cell_type": "code",
   "execution_count": 28,
   "metadata": {},
   "outputs": [
    {
     "data": {
      "text/plain": [
       "tensor([[ 0,  1],\n",
       "        [ 2,  3],\n",
       "        [ 4,  5],\n",
       "        [ 6,  7],\n",
       "        [ 8,  9],\n",
       "        [10, 11],\n",
       "        [12, 13],\n",
       "        [14, 15],\n",
       "        [16, 17]])"
      ]
     },
     "execution_count": 28,
     "metadata": {},
     "output_type": "execute_result"
    }
   ],
   "source": [
    "a.view(9,2)"
   ]
  },
  {
   "cell_type": "code",
   "execution_count": 29,
   "metadata": {},
   "outputs": [
    {
     "data": {
      "text/plain": [
       "tensor([[[ 0,  1],\n",
       "         [ 2,  3],\n",
       "         [ 4,  5]],\n",
       "\n",
       "        [[ 6,  7],\n",
       "         [ 8,  9],\n",
       "         [10, 11]],\n",
       "\n",
       "        [[12, 13],\n",
       "         [14, 15],\n",
       "         [16, 17]]])"
      ]
     },
     "execution_count": 29,
     "metadata": {},
     "output_type": "execute_result"
    }
   ],
   "source": [
    "# as long as the total number of elements stays the same, i.e. 3*3*2 = 18 and 9*2 = 18 and 18*1 = 18 \n",
    "# we can arbitrarily decide the shape we want our tensor to have\n",
    "a.view(3,3,2)"
   ]
  },
  {
   "cell_type": "code",
   "execution_count": 30,
   "metadata": {},
   "outputs": [
    {
     "name": "stderr",
     "output_type": "stream",
     "text": [
      "C:\\Users\\Jan\\AppData\\Local\\Temp\\ipykernel_10832\\3687906448.py:4: UserWarning: TypedStorage is deprecated. It will be removed in the future and UntypedStorage will be the only storage class. This should only matter to you if you are using storages directly.  To access UntypedStorage directly, use tensor.untyped_storage() instead of tensor.storage()\n",
      "  a.storage()\n"
     ]
    },
    {
     "data": {
      "text/plain": [
       " 0\n",
       " 1\n",
       " 2\n",
       " 3\n",
       " 4\n",
       " 5\n",
       " 6\n",
       " 7\n",
       " 8\n",
       " 9\n",
       " 10\n",
       " 11\n",
       " 12\n",
       " 13\n",
       " 14\n",
       " 15\n",
       " 16\n",
       " 17\n",
       "[torch.storage.TypedStorage(dtype=torch.int64, device=cpu) of size 18]"
      ]
     },
     "execution_count": 30,
     "metadata": {},
     "output_type": "execute_result"
    }
   ],
   "source": [
    "# each tensor is always represented as a 1D array in the computer memory\n",
    "# therefore, the .view() operation is extremely efficient, as it does not change the memory\n",
    "# but only the representation that our values in memory will have\n",
    "a.storage()"
   ]
  },
  {
   "cell_type": "code",
   "execution_count": 31,
   "metadata": {},
   "outputs": [
    {
     "data": {
      "text/plain": [
       " 1.7638951539993286\n",
       " 0.9999324083328247\n",
       " 1.7638951539993286\n",
       " 0.9999324083328247\n",
       " 1.7638951539993286\n",
       " 0.9999324083328247\n",
       " 1.7638951539993286\n",
       " 0.9999324083328247\n",
       " 1.7638951539993286\n",
       " 0.9999324083328247\n",
       " -1.4504177570343018\n",
       " 1.1562364101409912\n",
       " 1.7638951539993286\n",
       " 0.9999324083328247\n",
       " -1.4504177570343018\n",
       " 1.1562364101409912\n",
       " 1.9131650924682617\n",
       " -0.741485059261322\n",
       " -1.4504177570343018\n",
       " 1.1562364101409912\n",
       " 1.9131650924682617\n",
       " -0.741485059261322\n",
       " 1.9131650924682617\n",
       " -0.741485059261322\n",
       " 1.9131650924682617\n",
       " -0.741485059261322\n",
       " 1.9131650924682617\n",
       " -0.741485059261322\n",
       " -1.180513620376587\n",
       " 3.029049873352051\n",
       " 1.7638951539993286\n",
       " 0.9999324083328247\n",
       " 1.7638951539993286\n",
       " 0.9999324083328247\n",
       " 1.7638951539993286\n",
       " 0.9999324083328247\n",
       " 1.7638951539993286\n",
       " 0.9999324083328247\n",
       " 1.7638951539993286\n",
       " 0.9999324083328247\n",
       " 0.7298665642738342\n",
       " 0.8823803067207336\n",
       " 1.7638951539993286\n",
       " 0.9999324083328247\n",
       " 0.7298665642738342\n",
       " 0.8823803067207336\n",
       " 0.5837897062301636\n",
       " -0.25236254930496216\n",
       " 0.7298665642738342\n",
       " 0.8823803067207336\n",
       " 0.5837897062301636\n",
       " -0.25236254930496216\n",
       " -0.950707197189331\n",
       " 0.7325721383094788\n",
       " 0.5837897062301636\n",
       " -0.25236254930496216\n",
       " -0.950707197189331\n",
       " 0.7325721383094788\n",
       " -0.014095134101808071\n",
       " -0.2998844385147095\n",
       " -0.950707197189331\n",
       " 0.7325721383094788\n",
       " -0.014095134101808071\n",
       " -0.2998844385147095\n",
       " -0.950707197189331\n",
       " 0.7325721383094788\n",
       " -0.014095134101808071\n",
       " -0.2998844385147095\n",
       " -0.950707197189331\n",
       " 0.7325721383094788\n",
       " -1.180513620376587\n",
       " 3.029049873352051\n",
       " 1.7638951539993286\n",
       " 0.9999324083328247\n",
       " 1.7638951539993286\n",
       " 0.9999324083328247\n",
       " 1.7638951539993286\n",
       " 0.9999324083328247\n",
       " 1.7638951539993286\n",
       " 0.9999324083328247\n",
       " 1.7638951539993286\n",
       " 0.9999324083328247\n",
       " -1.180513620376587\n",
       " 3.029049873352051\n",
       " 1.7638951539993286\n",
       " 0.9999324083328247\n",
       " -1.180513620376587\n",
       " 3.029049873352051\n",
       " -0.014095134101808071\n",
       " -0.2998844385147095\n",
       " -1.180513620376587\n",
       " 3.029049873352051\n",
       " -0.014095134101808071\n",
       " -0.2998844385147095\n",
       " -1.180513620376587\n",
       " 3.029049873352051\n",
       " 1.7638951539993286\n",
       " 0.9999324083328247\n",
       " 1.7638951539993286\n",
       " 0.9999324083328247\n",
       " 1.7638951539993286\n",
       " 0.9999324083328247\n",
       " 1.7638951539993286\n",
       " 0.9999324083328247\n",
       " 1.7638951539993286\n",
       " 0.9999324083328247\n",
       " -0.950707197189331\n",
       " 0.7325721383094788\n",
       " 1.7638951539993286\n",
       " 0.9999324083328247\n",
       " -0.950707197189331\n",
       " 0.7325721383094788\n",
       " 2.0435776710510254\n",
       " 1.6715093851089478\n",
       " -0.950707197189331\n",
       " 0.7325721383094788\n",
       " 2.0435776710510254\n",
       " 1.6715093851089478\n",
       " -1.180513620376587\n",
       " 3.029049873352051\n",
       " 2.0435776710510254\n",
       " 1.6715093851089478\n",
       " -1.180513620376587\n",
       " 3.029049873352051\n",
       " 1.2624499797821045\n",
       " -0.5472544431686401\n",
       " -1.180513620376587\n",
       " 3.029049873352051\n",
       " 1.2624499797821045\n",
       " -0.5472544431686401\n",
       " -1.4504177570343018\n",
       " 1.1562364101409912\n",
       " 1.2624499797821045\n",
       " -0.5472544431686401\n",
       " -1.4504177570343018\n",
       " 1.1562364101409912\n",
       " 0.5837897062301636\n",
       " -0.25236254930496216\n",
       " -1.4504177570343018\n",
       " 1.1562364101409912\n",
       " 0.5837897062301636\n",
       " -0.25236254930496216\n",
       " 0.5837897062301636\n",
       " -0.25236254930496216\n",
       " 0.5837897062301636\n",
       " -0.25236254930496216\n",
       " 0.5837897062301636\n",
       " -0.25236254930496216\n",
       " -1.180513620376587\n",
       " 3.029049873352051\n",
       " 1.7638951539993286\n",
       " 0.9999324083328247\n",
       " 1.7638951539993286\n",
       " 0.9999324083328247\n",
       " 1.7638951539993286\n",
       " 0.9999324083328247\n",
       " 1.7638951539993286\n",
       " 0.9999324083328247\n",
       " 1.7638951539993286\n",
       " 0.9999324083328247\n",
       " 2.0435776710510254\n",
       " 1.6715093851089478\n",
       " 1.7638951539993286\n",
       " 0.9999324083328247\n",
       " 2.0435776710510254\n",
       " 1.6715093851089478\n",
       " 0.7298665642738342\n",
       " 0.8823803067207336\n",
       " 2.0435776710510254\n",
       " 1.6715093851089478\n",
       " 0.7298665642738342\n",
       " 0.8823803067207336\n",
       " 0.8770051598548889\n",
       " -0.07025516033172607\n",
       " 0.7298665642738342\n",
       " 0.8823803067207336\n",
       " 0.8770051598548889\n",
       " -0.07025516033172607\n",
       " -0.1285262405872345\n",
       " 1.749528408050537\n",
       " 0.8770051598548889\n",
       " -0.07025516033172607\n",
       " -0.1285262405872345\n",
       " 1.749528408050537\n",
       " -0.950707197189331\n",
       " 0.7325721383094788\n",
       " -0.1285262405872345\n",
       " 1.749528408050537\n",
       " -0.950707197189331\n",
       " 0.7325721383094788\n",
       " -1.180513620376587\n",
       " 3.029049873352051\n",
       "[torch.storage.TypedStorage(dtype=torch.float32, device=cpu) of size 192]"
      ]
     },
     "execution_count": 31,
     "metadata": {},
     "output_type": "execute_result"
    }
   ],
   "source": [
    "# pyTorch Tensors are ALWAYS stored as 1D, single-dimension \"lists\" in memory!!!\n",
    "# every shape is therefore artificial\n",
    "emb.storage()"
   ]
  },
  {
   "cell_type": "code",
   "execution_count": 32,
   "metadata": {},
   "outputs": [],
   "source": [
    "# Long story short, we can do the following in order for our dot product to work:\n",
    "# We need [32, 6] * [6, 100] + [100]\n",
    "# and this will give us the hidden states for our 100 Neurons in our hidden layer that we are after\n",
    "\n",
    "# h = emb.view(32,6) @ W1 + b1 # hard-coded dimensions\n",
    "# h = emb.view(emb.shape[0], 6) @ W1 + b1 # dynamic dimensions\n",
    "h = emb.view(-1, 6) @ W1 + b1 # inferred dimensions, as the number of dimensions has to stay the same (see abobe)\n"
   ]
  },
  {
   "cell_type": "code",
   "execution_count": 33,
   "metadata": {},
   "outputs": [],
   "source": [
    "# When adding the bias vector, check the broadcasting logic!!\n",
    "\n",
    "# Rule One: Align on the right\n",
    "# [32, 100]\n",
    "# [  , 100]\n",
    "\n",
    "# Rule two: check that all dimensions are either equal, one of them is 1 or one of them is None\n",
    "# --> True\n",
    "\n",
    "# Rule three: Fill up open dimensions by 1\n",
    "# [32, 100]\n",
    "# [ 1, 100]\n",
    "\n",
    "# HERE, THE BIAS VECTOR WILL BROADCAST/COPY VERTICALLY AND ADD PERFORM ELEMENT-WISE ADDITION\n",
    "# THEREFORE ADDING THE SAME BIAS TO ALL OF OUR NEURONS \n",
    "# THIS IS CORRECT AND THE BEHAVIOR WE WATN!! Good."
   ]
  },
  {
   "cell_type": "code",
   "execution_count": 34,
   "metadata": {},
   "outputs": [
    {
     "data": {
      "text/plain": [
       "torch.Size([32, 100])"
      ]
     },
     "execution_count": 34,
     "metadata": {},
     "output_type": "execute_result"
    }
   ],
   "source": [
    "h.shape"
   ]
  },
  {
   "cell_type": "code",
   "execution_count": 35,
   "metadata": {},
   "outputs": [],
   "source": [
    "h = h.tanh() # apply hyperbolic tangent to transform each value to between -1 and 1"
   ]
  },
  {
   "cell_type": "code",
   "execution_count": 36,
   "metadata": {},
   "outputs": [],
   "source": [
    "W2 = torch.randn((100, 27))\n",
    "b2 = torch.randn(27)"
   ]
  },
  {
   "cell_type": "code",
   "execution_count": 37,
   "metadata": {},
   "outputs": [],
   "source": [
    "logits = h @ W2 + b2"
   ]
  },
  {
   "cell_type": "code",
   "execution_count": 38,
   "metadata": {},
   "outputs": [
    {
     "data": {
      "text/plain": [
       "torch.Size([32, 27])"
      ]
     },
     "execution_count": 38,
     "metadata": {},
     "output_type": "execute_result"
    }
   ],
   "source": [
    "logits.shape"
   ]
  },
  {
   "cell_type": "code",
   "execution_count": 39,
   "metadata": {},
   "outputs": [],
   "source": [
    "counts = logits.exp()\n",
    "prob = counts / counts.sum(1, keepdim=True)"
   ]
  },
  {
   "cell_type": "code",
   "execution_count": 40,
   "metadata": {},
   "outputs": [
    {
     "data": {
      "text/plain": [
       "tensor(1.)"
      ]
     },
     "execution_count": 40,
     "metadata": {},
     "output_type": "execute_result"
    }
   ],
   "source": [
    "prob[0].sum()"
   ]
  },
  {
   "cell_type": "code",
   "execution_count": 41,
   "metadata": {},
   "outputs": [
    {
     "data": {
      "text/plain": [
       "tensor([2.4025e-12, 4.9244e-07, 3.5810e-06, 6.9458e-12, 1.2081e-03, 4.9688e-10,\n",
       "        6.3558e-01, 4.3081e-06, 5.0323e-16, 3.4195e-04, 1.0957e-08, 4.1469e-09,\n",
       "        1.2808e-14, 1.7034e-17, 5.4119e-14, 4.1304e-08, 4.4830e-06, 1.2408e-08,\n",
       "        1.2528e-14, 2.7849e-05, 3.2961e-12, 3.1510e-02, 1.1797e-01, 3.3670e-10,\n",
       "        2.2112e-05, 1.3774e-08, 4.8950e-10, 2.0661e-07, 4.3777e-15, 3.0134e-06,\n",
       "        1.4418e-14, 1.0030e-07])"
      ]
     },
     "execution_count": 41,
     "metadata": {},
     "output_type": "execute_result"
    }
   ],
   "source": [
    "# Extract the prediction of the network for the ACTUAL character we saved in Y\n",
    "prob[torch.arange(X.shape[0]), Y] # for each row of inputs, extract the probability at the correct index of Y"
   ]
  },
  {
   "cell_type": "code",
   "execution_count": 42,
   "metadata": {},
   "outputs": [],
   "source": [
    "loss = -prob[torch.arange(X.shape[0]), Y].log().mean()"
   ]
  },
  {
   "cell_type": "code",
   "execution_count": 43,
   "metadata": {},
   "outputs": [
    {
     "data": {
      "text/plain": [
       "tensor(18.9288)"
      ]
     },
     "execution_count": 43,
     "metadata": {},
     "output_type": "execute_result"
    }
   ],
   "source": [
    "loss"
   ]
  },
  {
   "cell_type": "code",
   "execution_count": 44,
   "metadata": {},
   "outputs": [],
   "source": [
    "# now refactor our code :)"
   ]
  },
  {
   "cell_type": "code",
   "execution_count": 45,
   "metadata": {},
   "outputs": [
    {
     "data": {
      "text/plain": [
       "(torch.Size([32, 3]), torch.Size([32]))"
      ]
     },
     "execution_count": 45,
     "metadata": {},
     "output_type": "execute_result"
    }
   ],
   "source": [
    "# dataset\n",
    "X.shape, Y.shape"
   ]
  },
  {
   "cell_type": "code",
   "execution_count": 46,
   "metadata": {},
   "outputs": [],
   "source": [
    "g = torch.Generator().manual_seed(42)\n",
    "C = torch.randn((27, 2), generator=g)\n",
    "W1 = torch.randn((6, 100), generator=g)\n",
    "b1 = torch.randn(100, generator=g)\n",
    "W2 = torch.randn((100, 27), generator=g)\n",
    "b2 = torch.randn(27, generator=g)\n",
    "parameters = [C, W1, b1, W2, b2]"
   ]
  },
  {
   "cell_type": "code",
   "execution_count": 47,
   "metadata": {},
   "outputs": [
    {
     "data": {
      "text/plain": [
       "3481"
      ]
     },
     "execution_count": 47,
     "metadata": {},
     "output_type": "execute_result"
    }
   ],
   "source": [
    "sum([p.nelement() for p in parameters])"
   ]
  },
  {
   "cell_type": "code",
   "execution_count": 48,
   "metadata": {},
   "outputs": [],
   "source": [
    "emb = C[X] # [32, 3, 2]\n",
    "h = torch.tanh(emb.view(-1, 6) @W1 + b1)\n",
    "logits = h @ W2 + b2\n",
    "# counts = logits.exp()\n",
    "# prob = counts / counts.sum(1, keepdim=True)\n",
    "# loss = -prob[torch.arange(X.shape[0]), Y].log().mean() # Negative Log Likelihood\n",
    "loss = F.cross_entropy(logits, Y) # even better and more efficient than the above"
   ]
  },
  {
   "cell_type": "code",
   "execution_count": 49,
   "metadata": {},
   "outputs": [
    {
     "data": {
      "text/plain": [
       "tensor(17.7758)"
      ]
     },
     "execution_count": 49,
     "metadata": {},
     "output_type": "execute_result"
    }
   ],
   "source": [
    "loss"
   ]
  },
  {
   "cell_type": "code",
   "execution_count": 50,
   "metadata": {},
   "outputs": [
    {
     "data": {
      "text/plain": [
       "tensor([2.8298e-04, 4.1998e-02, 1.1416e-01, 8.4356e-01])"
      ]
     },
     "execution_count": 50,
     "metadata": {},
     "output_type": "execute_result"
    }
   ],
   "source": [
    "# Case in Point of why F.cross_entropy() is superior to manual implementation\n",
    "logits = torch.tensor([-5, 0, 1, 3])\n",
    "counts = logits.exp()\n",
    "prob = counts / counts.sum()\n",
    "prob"
   ]
  },
  {
   "cell_type": "code",
   "execution_count": 51,
   "metadata": {},
   "outputs": [
    {
     "data": {
      "text/plain": [
       "tensor([1.4013e-45, 4.2010e-02, 1.1420e-01, 8.4379e-01])"
      ]
     },
     "execution_count": 51,
     "metadata": {},
     "output_type": "execute_result"
    }
   ],
   "source": [
    "# Case in Point of why F.cross_entropy() is superior to manual implementation\n",
    "# Large negative numbers will be fine, since these will result in very small values converging to 0\n",
    "logits = torch.tensor([-100, 0, 1, 3])\n",
    "counts = logits.exp()\n",
    "prob = counts / counts.sum()\n",
    "prob"
   ]
  },
  {
   "cell_type": "code",
   "execution_count": 52,
   "metadata": {},
   "outputs": [
    {
     "data": {
      "text/plain": [
       "tensor([0., 0., 0., nan])"
      ]
     },
     "execution_count": 52,
     "metadata": {},
     "output_type": "execute_result"
    }
   ],
   "source": [
    "# Case in Point of why F.cross_entropy() is superior to manual implementation\n",
    "# but here lies the issue with large POSITIVE numbers since we will run out of memory on our floating point numbers\n",
    "# resulting in Not a Number issues\n",
    "logits = torch.tensor([-100, 0, 1, 100])\n",
    "counts = logits.exp()\n",
    "prob = counts / counts.sum()\n",
    "prob\n",
    "\n",
    "# LEARN: NEGATIVE NUMBERS ARE OKAY WHILE POSITIVE NUMBERS CAN POTENTIALLY OVERFLOW"
   ]
  },
  {
   "cell_type": "code",
   "execution_count": 53,
   "metadata": {},
   "outputs": [
    {
     "data": {
      "text/plain": [
       "tensor([0.0000e+00, 3.7835e-44, 1.0089e-43, 1.0000e+00])"
      ]
     },
     "execution_count": 53,
     "metadata": {},
     "output_type": "execute_result"
    }
   ],
   "source": [
    "# Case in Point of why F.cross_entropy() is superior to manual implementation\n",
    "# PyTorch solves this elegantly within the cross_entropy() function\n",
    "# because it turns out that we can arbitrarily add or subtract a constant to our logits and the result stays the same\n",
    "# what pyTorch does it it \"normalizes\" the largest value by subtracting it, i.e. subtracting 100\n",
    "# therefore, the largest number will become 0 and all othe values will become negative\n",
    "# but since negative values are fine, we will never run into overflow issues\n",
    "# therefore, the result will always be mathematically well-behaved\n",
    "logits = torch.tensor([-100, 0, 1, 100]) - 100\n",
    "counts = logits.exp()\n",
    "prob = counts / counts.sum()\n",
    "prob"
   ]
  },
  {
   "cell_type": "code",
   "execution_count": 54,
   "metadata": {},
   "outputs": [],
   "source": [
    "# Good reasons to call cross_entropy()\n",
    "# 1. It uses a fused kernel, therefore the forward pass will be much more efficient.\n",
    "# 2. It uses a fused kernel, therefore the backpropagation will be much more efficient.\n",
    "# 3. It will always create numerically well-behaved results"
   ]
  },
  {
   "cell_type": "code",
   "execution_count": 55,
   "metadata": {},
   "outputs": [],
   "source": [
    "for p in parameters:\n",
    "    p.requires_grad = True"
   ]
  },
  {
   "cell_type": "code",
   "execution_count": 56,
   "metadata": {},
   "outputs": [
    {
     "name": "stdout",
     "output_type": "stream",
     "text": [
      "17.775842666625977\n",
      "14.432573318481445\n",
      "12.249408721923828\n",
      "10.55549430847168\n",
      "9.166698455810547\n",
      "8.05921745300293\n",
      "7.099236488342285\n",
      "6.237092018127441\n",
      "5.497320175170898\n",
      "4.880398750305176\n",
      "4.345412731170654\n",
      "3.874847650527954\n",
      "3.4561681747436523\n",
      "3.079040050506592\n",
      "2.730929136276245\n",
      "2.4046101570129395\n",
      "2.101841926574707\n",
      "1.8323785066604614\n",
      "1.606415033340454\n",
      "1.4234539270401\n",
      "1.2727066278457642\n",
      "1.142891526222229\n",
      "1.029579520225525\n",
      "0.9257070422172546\n",
      "0.836018979549408\n",
      "0.7535535097122192\n",
      "0.6837916374206543\n",
      "0.6204786896705627\n",
      "0.5672286152839661\n",
      "0.5231938362121582\n",
      "0.48902127146720886\n",
      "0.46197348833084106\n",
      "0.44014185667037964\n",
      "0.42209091782569885\n",
      "0.40706974267959595\n",
      "0.39448726177215576\n",
      "0.383893758058548\n",
      "0.37490198016166687\n",
      "0.3671998977661133\n",
      "0.3605354428291321\n",
      "0.35471194982528687\n",
      "0.34957513213157654\n",
      "0.345005601644516\n",
      "0.3409089148044586\n",
      "0.337211012840271\n",
      "0.33385249972343445\n",
      "0.33078545331954956\n",
      "0.32797080278396606\n",
      "0.32537657022476196\n",
      "0.3229760229587555\n",
      "0.3207465708255768\n",
      "0.31866955757141113\n",
      "0.3167286515235901\n",
      "0.3149101138114929\n",
      "0.31320199370384216\n",
      "0.3115939795970917\n",
      "0.31007689237594604\n",
      "0.308642715215683\n",
      "0.30728471279144287\n",
      "0.30599644780158997\n",
      "0.30477234721183777\n",
      "0.303607702255249\n",
      "0.302497923374176\n",
      "0.3014390170574188\n",
      "0.3004273772239685\n",
      "0.29945990443229675\n",
      "0.29853349924087524\n",
      "0.29764553904533386\n",
      "0.29679346084594727\n",
      "0.29597529768943787\n",
      "0.2951887249946594\n",
      "0.2944319248199463\n",
      "0.2937033176422119\n",
      "0.29300105571746826\n",
      "0.29232391715049744\n",
      "0.2916703224182129\n",
      "0.29103919863700867\n",
      "0.29042911529541016\n",
      "0.2898392081260681\n",
      "0.2892684042453766\n",
      "0.28871574997901917\n",
      "0.28818032145500183\n",
      "0.2876613736152649\n",
      "0.2871580123901367\n",
      "0.2866695821285248\n",
      "0.28619542717933655\n",
      "0.2857349216938019\n",
      "0.28528738021850586\n",
      "0.2848523259162903\n",
      "0.284429132938385\n",
      "0.284017413854599\n",
      "0.2836166024208069\n",
      "0.28322634100914\n",
      "0.2828460931777954\n",
      "0.2824755311012268\n",
      "0.28211432695388794\n",
      "0.2817619740962982\n",
      "0.2814182639122009\n",
      "0.28108280897140503\n",
      "0.28075531125068665\n"
     ]
    }
   ],
   "source": [
    "# NOTE: We are fitting our model on only 32 examples\n",
    "# by using 3481 parameters\n",
    "# therefore, we are heavily overfitting our data\n",
    "for _ in range(100):\n",
    "    # forward pass\n",
    "    emb = C[X] # [32, 3, 2]\n",
    "    h = torch.tanh(emb.view(-1, 6) @W1 + b1)\n",
    "    logits = h @ W2 + b2\n",
    "    loss = F.cross_entropy(logits, Y) # even better and more efficient than the above\n",
    "\n",
    "    # backward pass / backpropagation\n",
    "    for p in parameters:\n",
    "        p.grad = None # don't forget to .zero_grad() !!!\n",
    "    loss.backward()\n",
    "\n",
    "    # update\n",
    "    learning_rate = 0.1\n",
    "    for p in parameters:\n",
    "        p.data += -learning_rate * p.grad \n",
    "    \n",
    "    print(loss.item())"
   ]
  },
  {
   "cell_type": "code",
   "execution_count": 57,
   "metadata": {},
   "outputs": [
    {
     "data": {
      "text/plain": [
       "torch.return_types.max(\n",
       "values=tensor([ 9.2997, 12.6163, 11.1765, 12.9125, 19.4942,  9.2997, 12.1543, 16.3219,\n",
       "         9.2903, 14.2173,  8.7547, 19.8823,  9.2997, 14.3695, 11.0733, 15.3284,\n",
       "         9.2997,  9.6371, 11.6317, 14.4879, 14.6994, 13.4668, 16.9434, 14.1086,\n",
       "        16.7859,  9.2997, 10.8483, 11.0770, 12.2615, 15.3991, 10.7188, 21.3367],\n",
       "       grad_fn=<MaxBackward0>),\n",
       "indices=tensor([19, 13, 13,  1,  0, 19, 12,  9, 22,  9,  1,  0, 19, 22,  1,  0, 19, 19,\n",
       "         1,  2,  5, 12, 12,  1,  0, 19, 15, 16,  8,  9,  1,  0]))"
      ]
     },
     "execution_count": 57,
     "metadata": {},
     "output_type": "execute_result"
    }
   ],
   "source": [
    "logits.max(1)"
   ]
  },
  {
   "cell_type": "code",
   "execution_count": 58,
   "metadata": {},
   "outputs": [
    {
     "data": {
      "text/plain": [
       "tensor([ 5, 13, 13,  1,  0, 15, 12,  9, 22,  9,  1,  0,  1, 22,  1,  0,  9, 19,\n",
       "         1,  2,  5, 12, 12,  1,  0, 19, 15, 16,  8,  9,  1,  0])"
      ]
     },
     "execution_count": 58,
     "metadata": {},
     "output_type": "execute_result"
    }
   ],
   "source": [
    "Y"
   ]
  },
  {
   "cell_type": "markdown",
   "metadata": {},
   "source": [
    "# Full Dataset"
   ]
  },
  {
   "cell_type": "code",
   "execution_count": 59,
   "metadata": {},
   "outputs": [],
   "source": [
    "# build the dataset\n",
    "\n",
    "block_size = 3 # context_length; how many characters do we use to support our prediction of the next character?\n",
    "X, Y = [], []\n",
    "\n",
    "for w in words:\n",
    "    context = [0] * block_size # padded context of 0-tokens (i.e. \".\")\n",
    "    for ch in w + \".\":\n",
    "        ix = stoi[ch]\n",
    "        X.append(context)\n",
    "        Y.append(ix)\n",
    "        context = context[1:] + [ix] # shift/move the context window one character to the right --> rolling window of context\n",
    "\n",
    "X = torch.tensor(X)\n",
    "Y = torch.tensor(Y)"
   ]
  },
  {
   "cell_type": "code",
   "execution_count": 60,
   "metadata": {},
   "outputs": [
    {
     "data": {
      "text/plain": [
       "(torch.Size([228146, 3]), torch.Size([228146]))"
      ]
     },
     "execution_count": 60,
     "metadata": {},
     "output_type": "execute_result"
    }
   ],
   "source": [
    "# dataset\n",
    "X.shape, Y.shape"
   ]
  },
  {
   "cell_type": "code",
   "execution_count": 61,
   "metadata": {},
   "outputs": [],
   "source": [
    "g = torch.Generator().manual_seed(42)\n",
    "C = torch.randn((27, 2), generator=g)\n",
    "W1 = torch.randn((6, 100), generator=g)\n",
    "b1 = torch.randn(100, generator=g)\n",
    "W2 = torch.randn((100, 27), generator=g)\n",
    "b2 = torch.randn(27, generator=g)\n",
    "parameters = [C, W1, b1, W2, b2]"
   ]
  },
  {
   "cell_type": "code",
   "execution_count": 62,
   "metadata": {},
   "outputs": [
    {
     "data": {
      "text/plain": [
       "3481"
      ]
     },
     "execution_count": 62,
     "metadata": {},
     "output_type": "execute_result"
    }
   ],
   "source": [
    "sum([p.nelement() for p in parameters])"
   ]
  },
  {
   "cell_type": "code",
   "execution_count": 63,
   "metadata": {},
   "outputs": [],
   "source": [
    "for p in parameters:\n",
    "    p.requires_grad = True"
   ]
  },
  {
   "cell_type": "code",
   "execution_count": 64,
   "metadata": {},
   "outputs": [
    {
     "name": "stdout",
     "output_type": "stream",
     "text": [
      "16.726470947265625\n"
     ]
    },
    {
     "name": "stdout",
     "output_type": "stream",
     "text": [
      "14.942936897277832\n",
      "13.863015174865723\n",
      "13.003832817077637\n",
      "12.292206764221191\n",
      "11.732643127441406\n",
      "11.270576477050781\n",
      "10.859724044799805\n",
      "10.47972583770752\n",
      "10.136445045471191\n",
      "9.829899787902832\n",
      "9.552257537841797\n",
      "9.297032356262207\n",
      "9.060535430908203\n",
      "8.8405122756958\n",
      "8.635114669799805\n",
      "8.442387580871582\n",
      "8.26041316986084\n",
      "8.08758544921875\n",
      "7.922695159912109\n",
      "7.764856338500977\n",
      "7.613430023193359\n",
      "7.467940807342529\n",
      "7.328017711639404\n",
      "7.193357944488525\n",
      "7.063698768615723\n",
      "6.938806056976318\n",
      "6.818453311920166\n",
      "6.702425003051758\n",
      "6.590518474578857\n",
      "6.4825439453125\n",
      "6.378338813781738\n",
      "6.277756214141846\n",
      "6.180682182312012\n",
      "6.087017059326172\n",
      "5.996676921844482\n",
      "5.909582138061523\n",
      "5.825644493103027\n",
      "5.7447686195373535\n",
      "5.666841983795166\n",
      "5.591744422912598\n",
      "5.519345283508301\n",
      "5.449515342712402\n",
      "5.38212776184082\n",
      "5.317066669464111\n",
      "5.254223346710205\n",
      "5.193493366241455\n",
      "5.134782791137695\n",
      "5.077998161315918\n",
      "5.0230512619018555\n",
      "4.969855308532715\n",
      "4.918332099914551\n",
      "4.868404388427734\n",
      "4.820005416870117\n",
      "4.773071765899658\n",
      "4.727546691894531\n",
      "4.683380603790283\n",
      "4.640527725219727\n",
      "4.598947048187256\n",
      "4.558601379394531\n",
      "4.519454479217529\n",
      "4.481473922729492\n",
      "4.4446282386779785\n",
      "4.408886432647705\n",
      "4.374216079711914\n",
      "4.340587615966797\n",
      "4.30797004699707\n",
      "4.276331424713135\n",
      "4.245642185211182\n",
      "4.215870380401611\n",
      "4.18698787689209\n",
      "4.158963680267334\n",
      "4.131769180297852\n",
      "4.105376243591309\n",
      "4.079757213592529\n",
      "4.054886341094971\n",
      "4.030736446380615\n",
      "4.007284164428711\n",
      "3.984503984451294\n",
      "3.9623727798461914\n",
      "3.940866708755493\n",
      "3.919963836669922\n",
      "3.899641752243042\n",
      "3.8798789978027344\n",
      "3.8606536388397217\n",
      "3.8419463634490967\n",
      "3.8237361907958984\n",
      "3.806004047393799\n",
      "3.788731575012207\n",
      "3.7718989849090576\n",
      "3.75549054145813\n",
      "3.739487648010254\n",
      "3.723874568939209\n",
      "3.7086355686187744\n",
      "3.693755865097046\n",
      "3.67922043800354\n",
      "3.665015697479248\n",
      "3.6511290073394775\n",
      "3.6375479698181152\n",
      "3.6242592334747314\n"
     ]
    }
   ],
   "source": [
    "# NOTE: Running this on the entire dataset is really slow since we are always feeding ALL the data through our forward and backward passes\n",
    "for _ in range(100):\n",
    "    # forward pass\n",
    "    emb = C[X] # [228k, 3, 2]\n",
    "    h = torch.tanh(emb.view(-1, 6) @W1 + b1)\n",
    "    logits = h @ W2 + b2\n",
    "    loss = F.cross_entropy(logits, Y) # even better and more efficient than the above\n",
    "\n",
    "    # backward pass / backpropagation\n",
    "    for p in parameters:\n",
    "        p.grad = None # don't forget to .zero_grad() !!!\n",
    "    loss.backward()\n",
    "\n",
    "    # update\n",
    "    learning_rate = 0.1\n",
    "    for p in parameters:\n",
    "        p.data += -learning_rate * p.grad \n",
    "    \n",
    "    print(loss.item())"
   ]
  },
  {
   "cell_type": "markdown",
   "metadata": {},
   "source": [
    "## Implementing Batch Logic (Minibatches)"
   ]
  },
  {
   "cell_type": "code",
   "execution_count": 65,
   "metadata": {},
   "outputs": [],
   "source": [
    "g = torch.Generator().manual_seed(42)\n",
    "C = torch.randn((27, 2), generator=g)\n",
    "W1 = torch.randn((6, 100), generator=g)\n",
    "b1 = torch.randn(100, generator=g)\n",
    "W2 = torch.randn((100, 27), generator=g)\n",
    "b2 = torch.randn(27, generator=g)\n",
    "parameters = [C, W1, b1, W2, b2]"
   ]
  },
  {
   "cell_type": "code",
   "execution_count": 66,
   "metadata": {},
   "outputs": [],
   "source": [
    "for p in parameters:\n",
    "    p.requires_grad = True"
   ]
  },
  {
   "cell_type": "code",
   "execution_count": 67,
   "metadata": {},
   "outputs": [],
   "source": [
    "# Create random batches and only feed these batches forward and backward through the model\n",
    "for _ in range(10000):\n",
    "\n",
    "    # construct minibatch\n",
    "    ix = torch.randint(0, X.shape[0], (32,)) # Select 32 random indices from our dataset\n",
    "\n",
    "    X_batch = X[ix]\n",
    "    Y_batch = Y[ix]\n",
    "\n",
    "    # forward pass\n",
    "    emb = C[X_batch] # using minibatches, we are back to [32, 3, 2]\n",
    "    h = torch.tanh(emb.view(-1, 6) @W1 + b1)\n",
    "    logits = h @ W2 + b2\n",
    "    loss = F.cross_entropy(logits, Y_batch) # even better and more efficient than the above\n",
    "\n",
    "    # backward pass / backpropagation\n",
    "    for p in parameters:\n",
    "        p.grad = None # don't forget to .zero_grad() !!!\n",
    "    loss.backward()\n",
    "\n",
    "    # update\n",
    "    learning_rate = 0.1\n",
    "    for p in parameters:\n",
    "        p.data += -learning_rate * p.grad \n",
    "    \n",
    "    # print(loss.item()) # NOTE: In this case, this is only the loss for the current batch!!! Not the global loss"
   ]
  },
  {
   "cell_type": "code",
   "execution_count": 68,
   "metadata": {},
   "outputs": [
    {
     "data": {
      "text/plain": [
       "tensor(2.4389, grad_fn=<NllLossBackward0>)"
      ]
     },
     "execution_count": 68,
     "metadata": {},
     "output_type": "execute_result"
    }
   ],
   "source": [
    "# global loss\n",
    "emb = C[X] # using minibatches, we are back to [32, 3, 2]\n",
    "h = torch.tanh(emb.view(-1, 6) @W1 + b1)\n",
    "logits = h @ W2 + b2\n",
    "loss = F.cross_entropy(logits, Y) # even better and more efficient than the above\n",
    "loss"
   ]
  },
  {
   "cell_type": "markdown",
   "metadata": {},
   "source": [
    "## Implementing dynamic learning rate"
   ]
  },
  {
   "cell_type": "code",
   "execution_count": 69,
   "metadata": {},
   "outputs": [],
   "source": [
    "g = torch.Generator().manual_seed(42)\n",
    "C = torch.randn((27, 2), generator=g)\n",
    "W1 = torch.randn((6, 100), generator=g)\n",
    "b1 = torch.randn(100, generator=g)\n",
    "W2 = torch.randn((100, 27), generator=g)\n",
    "b2 = torch.randn(27, generator=g)\n",
    "parameters = [C, W1, b1, W2, b2]"
   ]
  },
  {
   "cell_type": "code",
   "execution_count": 70,
   "metadata": {},
   "outputs": [],
   "source": [
    "for p in parameters:\n",
    "    p.requires_grad = True"
   ]
  },
  {
   "cell_type": "code",
   "execution_count": 71,
   "metadata": {},
   "outputs": [],
   "source": [
    "# How do you choose a good learning rate?\n",
    "# You don't, you simply try it out, then plot it and find the best one\n",
    "lre = torch.linspace(-3, 0, 1000) # 1000 values evenly divided between -3 and 0 to pass into our exponent\n",
    "lrs = 10**lre"
   ]
  },
  {
   "cell_type": "code",
   "execution_count": 72,
   "metadata": {},
   "outputs": [
    {
     "data": {
      "text/plain": [
       "tensor([0.0010, 0.0010, 0.0010, 0.0010, 0.0010, 0.0010, 0.0010, 0.0010, 0.0011,\n",
       "        0.0011, 0.0011, 0.0011, 0.0011, 0.0011, 0.0011, 0.0011, 0.0011, 0.0011,\n",
       "        0.0011, 0.0011, 0.0011, 0.0012, 0.0012, 0.0012, 0.0012, 0.0012, 0.0012,\n",
       "        0.0012, 0.0012, 0.0012, 0.0012, 0.0012, 0.0012, 0.0013, 0.0013, 0.0013,\n",
       "        0.0013, 0.0013, 0.0013, 0.0013, 0.0013, 0.0013, 0.0013, 0.0013, 0.0014,\n",
       "        0.0014, 0.0014, 0.0014, 0.0014, 0.0014, 0.0014, 0.0014, 0.0014, 0.0014,\n",
       "        0.0015, 0.0015, 0.0015, 0.0015, 0.0015, 0.0015, 0.0015, 0.0015, 0.0015,\n",
       "        0.0015, 0.0016, 0.0016, 0.0016, 0.0016, 0.0016, 0.0016, 0.0016, 0.0016,\n",
       "        0.0016, 0.0017, 0.0017, 0.0017, 0.0017, 0.0017, 0.0017, 0.0017, 0.0017,\n",
       "        0.0018, 0.0018, 0.0018, 0.0018, 0.0018, 0.0018, 0.0018, 0.0018, 0.0019,\n",
       "        0.0019, 0.0019, 0.0019, 0.0019, 0.0019, 0.0019, 0.0019, 0.0020, 0.0020,\n",
       "        0.0020, 0.0020, 0.0020, 0.0020, 0.0020, 0.0021, 0.0021, 0.0021, 0.0021,\n",
       "        0.0021, 0.0021, 0.0021, 0.0022, 0.0022, 0.0022, 0.0022, 0.0022, 0.0022,\n",
       "        0.0022, 0.0023, 0.0023, 0.0023, 0.0023, 0.0023, 0.0023, 0.0024, 0.0024,\n",
       "        0.0024, 0.0024, 0.0024, 0.0024, 0.0025, 0.0025, 0.0025, 0.0025, 0.0025,\n",
       "        0.0025, 0.0026, 0.0026, 0.0026, 0.0026, 0.0026, 0.0027, 0.0027, 0.0027,\n",
       "        0.0027, 0.0027, 0.0027, 0.0028, 0.0028, 0.0028, 0.0028, 0.0028, 0.0029,\n",
       "        0.0029, 0.0029, 0.0029, 0.0029, 0.0030, 0.0030, 0.0030, 0.0030, 0.0030,\n",
       "        0.0031, 0.0031, 0.0031, 0.0031, 0.0032, 0.0032, 0.0032, 0.0032, 0.0032,\n",
       "        0.0033, 0.0033, 0.0033, 0.0033, 0.0034, 0.0034, 0.0034, 0.0034, 0.0034,\n",
       "        0.0035, 0.0035, 0.0035, 0.0035, 0.0036, 0.0036, 0.0036, 0.0036, 0.0037,\n",
       "        0.0037, 0.0037, 0.0037, 0.0038, 0.0038, 0.0038, 0.0039, 0.0039, 0.0039,\n",
       "        0.0039, 0.0040, 0.0040, 0.0040, 0.0040, 0.0041, 0.0041, 0.0041, 0.0042,\n",
       "        0.0042, 0.0042, 0.0042, 0.0043, 0.0043, 0.0043, 0.0044, 0.0044, 0.0044,\n",
       "        0.0045, 0.0045, 0.0045, 0.0045, 0.0046, 0.0046, 0.0046, 0.0047, 0.0047,\n",
       "        0.0047, 0.0048, 0.0048, 0.0048, 0.0049, 0.0049, 0.0049, 0.0050, 0.0050,\n",
       "        0.0050, 0.0051, 0.0051, 0.0051, 0.0052, 0.0052, 0.0053, 0.0053, 0.0053,\n",
       "        0.0054, 0.0054, 0.0054, 0.0055, 0.0055, 0.0056, 0.0056, 0.0056, 0.0057,\n",
       "        0.0057, 0.0058, 0.0058, 0.0058, 0.0059, 0.0059, 0.0060, 0.0060, 0.0060,\n",
       "        0.0061, 0.0061, 0.0062, 0.0062, 0.0062, 0.0063, 0.0063, 0.0064, 0.0064,\n",
       "        0.0065, 0.0065, 0.0066, 0.0066, 0.0067, 0.0067, 0.0067, 0.0068, 0.0068,\n",
       "        0.0069, 0.0069, 0.0070, 0.0070, 0.0071, 0.0071, 0.0072, 0.0072, 0.0073,\n",
       "        0.0073, 0.0074, 0.0074, 0.0075, 0.0075, 0.0076, 0.0076, 0.0077, 0.0077,\n",
       "        0.0078, 0.0079, 0.0079, 0.0080, 0.0080, 0.0081, 0.0081, 0.0082, 0.0082,\n",
       "        0.0083, 0.0084, 0.0084, 0.0085, 0.0085, 0.0086, 0.0086, 0.0087, 0.0088,\n",
       "        0.0088, 0.0089, 0.0090, 0.0090, 0.0091, 0.0091, 0.0092, 0.0093, 0.0093,\n",
       "        0.0094, 0.0095, 0.0095, 0.0096, 0.0097, 0.0097, 0.0098, 0.0099, 0.0099,\n",
       "        0.0100, 0.0101, 0.0101, 0.0102, 0.0103, 0.0104, 0.0104, 0.0105, 0.0106,\n",
       "        0.0106, 0.0107, 0.0108, 0.0109, 0.0109, 0.0110, 0.0111, 0.0112, 0.0112,\n",
       "        0.0113, 0.0114, 0.0115, 0.0116, 0.0116, 0.0117, 0.0118, 0.0119, 0.0120,\n",
       "        0.0121, 0.0121, 0.0122, 0.0123, 0.0124, 0.0125, 0.0126, 0.0127, 0.0127,\n",
       "        0.0128, 0.0129, 0.0130, 0.0131, 0.0132, 0.0133, 0.0134, 0.0135, 0.0136,\n",
       "        0.0137, 0.0137, 0.0138, 0.0139, 0.0140, 0.0141, 0.0142, 0.0143, 0.0144,\n",
       "        0.0145, 0.0146, 0.0147, 0.0148, 0.0149, 0.0150, 0.0151, 0.0152, 0.0154,\n",
       "        0.0155, 0.0156, 0.0157, 0.0158, 0.0159, 0.0160, 0.0161, 0.0162, 0.0163,\n",
       "        0.0165, 0.0166, 0.0167, 0.0168, 0.0169, 0.0170, 0.0171, 0.0173, 0.0174,\n",
       "        0.0175, 0.0176, 0.0178, 0.0179, 0.0180, 0.0181, 0.0182, 0.0184, 0.0185,\n",
       "        0.0186, 0.0188, 0.0189, 0.0190, 0.0192, 0.0193, 0.0194, 0.0196, 0.0197,\n",
       "        0.0198, 0.0200, 0.0201, 0.0202, 0.0204, 0.0205, 0.0207, 0.0208, 0.0210,\n",
       "        0.0211, 0.0212, 0.0214, 0.0215, 0.0217, 0.0218, 0.0220, 0.0221, 0.0223,\n",
       "        0.0225, 0.0226, 0.0228, 0.0229, 0.0231, 0.0232, 0.0234, 0.0236, 0.0237,\n",
       "        0.0239, 0.0241, 0.0242, 0.0244, 0.0246, 0.0247, 0.0249, 0.0251, 0.0253,\n",
       "        0.0254, 0.0256, 0.0258, 0.0260, 0.0261, 0.0263, 0.0265, 0.0267, 0.0269,\n",
       "        0.0271, 0.0273, 0.0274, 0.0276, 0.0278, 0.0280, 0.0282, 0.0284, 0.0286,\n",
       "        0.0288, 0.0290, 0.0292, 0.0294, 0.0296, 0.0298, 0.0300, 0.0302, 0.0304,\n",
       "        0.0307, 0.0309, 0.0311, 0.0313, 0.0315, 0.0317, 0.0320, 0.0322, 0.0324,\n",
       "        0.0326, 0.0328, 0.0331, 0.0333, 0.0335, 0.0338, 0.0340, 0.0342, 0.0345,\n",
       "        0.0347, 0.0350, 0.0352, 0.0354, 0.0357, 0.0359, 0.0362, 0.0364, 0.0367,\n",
       "        0.0369, 0.0372, 0.0375, 0.0377, 0.0380, 0.0382, 0.0385, 0.0388, 0.0390,\n",
       "        0.0393, 0.0396, 0.0399, 0.0401, 0.0404, 0.0407, 0.0410, 0.0413, 0.0416,\n",
       "        0.0418, 0.0421, 0.0424, 0.0427, 0.0430, 0.0433, 0.0436, 0.0439, 0.0442,\n",
       "        0.0445, 0.0448, 0.0451, 0.0455, 0.0458, 0.0461, 0.0464, 0.0467, 0.0471,\n",
       "        0.0474, 0.0477, 0.0480, 0.0484, 0.0487, 0.0491, 0.0494, 0.0497, 0.0501,\n",
       "        0.0504, 0.0508, 0.0511, 0.0515, 0.0518, 0.0522, 0.0526, 0.0529, 0.0533,\n",
       "        0.0537, 0.0540, 0.0544, 0.0548, 0.0552, 0.0556, 0.0559, 0.0563, 0.0567,\n",
       "        0.0571, 0.0575, 0.0579, 0.0583, 0.0587, 0.0591, 0.0595, 0.0599, 0.0604,\n",
       "        0.0608, 0.0612, 0.0616, 0.0621, 0.0625, 0.0629, 0.0634, 0.0638, 0.0642,\n",
       "        0.0647, 0.0651, 0.0656, 0.0660, 0.0665, 0.0670, 0.0674, 0.0679, 0.0684,\n",
       "        0.0688, 0.0693, 0.0698, 0.0703, 0.0708, 0.0713, 0.0718, 0.0723, 0.0728,\n",
       "        0.0733, 0.0738, 0.0743, 0.0748, 0.0753, 0.0758, 0.0764, 0.0769, 0.0774,\n",
       "        0.0780, 0.0785, 0.0790, 0.0796, 0.0802, 0.0807, 0.0813, 0.0818, 0.0824,\n",
       "        0.0830, 0.0835, 0.0841, 0.0847, 0.0853, 0.0859, 0.0865, 0.0871, 0.0877,\n",
       "        0.0883, 0.0889, 0.0895, 0.0901, 0.0908, 0.0914, 0.0920, 0.0927, 0.0933,\n",
       "        0.0940, 0.0946, 0.0953, 0.0959, 0.0966, 0.0973, 0.0979, 0.0986, 0.0993,\n",
       "        0.1000, 0.1007, 0.1014, 0.1021, 0.1028, 0.1035, 0.1042, 0.1050, 0.1057,\n",
       "        0.1064, 0.1072, 0.1079, 0.1087, 0.1094, 0.1102, 0.1109, 0.1117, 0.1125,\n",
       "        0.1133, 0.1140, 0.1148, 0.1156, 0.1164, 0.1172, 0.1181, 0.1189, 0.1197,\n",
       "        0.1205, 0.1214, 0.1222, 0.1231, 0.1239, 0.1248, 0.1256, 0.1265, 0.1274,\n",
       "        0.1283, 0.1292, 0.1301, 0.1310, 0.1319, 0.1328, 0.1337, 0.1346, 0.1356,\n",
       "        0.1365, 0.1374, 0.1384, 0.1394, 0.1403, 0.1413, 0.1423, 0.1433, 0.1443,\n",
       "        0.1453, 0.1463, 0.1473, 0.1483, 0.1493, 0.1504, 0.1514, 0.1525, 0.1535,\n",
       "        0.1546, 0.1557, 0.1567, 0.1578, 0.1589, 0.1600, 0.1611, 0.1623, 0.1634,\n",
       "        0.1645, 0.1657, 0.1668, 0.1680, 0.1691, 0.1703, 0.1715, 0.1727, 0.1739,\n",
       "        0.1751, 0.1763, 0.1775, 0.1788, 0.1800, 0.1812, 0.1825, 0.1838, 0.1850,\n",
       "        0.1863, 0.1876, 0.1889, 0.1902, 0.1916, 0.1929, 0.1942, 0.1956, 0.1969,\n",
       "        0.1983, 0.1997, 0.2010, 0.2024, 0.2038, 0.2053, 0.2067, 0.2081, 0.2096,\n",
       "        0.2110, 0.2125, 0.2140, 0.2154, 0.2169, 0.2184, 0.2200, 0.2215, 0.2230,\n",
       "        0.2246, 0.2261, 0.2277, 0.2293, 0.2309, 0.2325, 0.2341, 0.2357, 0.2373,\n",
       "        0.2390, 0.2406, 0.2423, 0.2440, 0.2457, 0.2474, 0.2491, 0.2508, 0.2526,\n",
       "        0.2543, 0.2561, 0.2579, 0.2597, 0.2615, 0.2633, 0.2651, 0.2669, 0.2688,\n",
       "        0.2707, 0.2725, 0.2744, 0.2763, 0.2783, 0.2802, 0.2821, 0.2841, 0.2861,\n",
       "        0.2880, 0.2900, 0.2921, 0.2941, 0.2961, 0.2982, 0.3002, 0.3023, 0.3044,\n",
       "        0.3065, 0.3087, 0.3108, 0.3130, 0.3151, 0.3173, 0.3195, 0.3217, 0.3240,\n",
       "        0.3262, 0.3285, 0.3308, 0.3331, 0.3354, 0.3377, 0.3400, 0.3424, 0.3448,\n",
       "        0.3472, 0.3496, 0.3520, 0.3544, 0.3569, 0.3594, 0.3619, 0.3644, 0.3669,\n",
       "        0.3695, 0.3720, 0.3746, 0.3772, 0.3798, 0.3825, 0.3851, 0.3878, 0.3905,\n",
       "        0.3932, 0.3959, 0.3987, 0.4014, 0.4042, 0.4070, 0.4098, 0.4127, 0.4155,\n",
       "        0.4184, 0.4213, 0.4243, 0.4272, 0.4302, 0.4331, 0.4362, 0.4392, 0.4422,\n",
       "        0.4453, 0.4484, 0.4515, 0.4546, 0.4578, 0.4610, 0.4642, 0.4674, 0.4706,\n",
       "        0.4739, 0.4772, 0.4805, 0.4838, 0.4872, 0.4906, 0.4940, 0.4974, 0.5008,\n",
       "        0.5043, 0.5078, 0.5113, 0.5149, 0.5185, 0.5221, 0.5257, 0.5293, 0.5330,\n",
       "        0.5367, 0.5404, 0.5442, 0.5479, 0.5517, 0.5556, 0.5594, 0.5633, 0.5672,\n",
       "        0.5712, 0.5751, 0.5791, 0.5831, 0.5872, 0.5913, 0.5954, 0.5995, 0.6036,\n",
       "        0.6078, 0.6120, 0.6163, 0.6206, 0.6249, 0.6292, 0.6336, 0.6380, 0.6424,\n",
       "        0.6469, 0.6513, 0.6559, 0.6604, 0.6650, 0.6696, 0.6743, 0.6789, 0.6837,\n",
       "        0.6884, 0.6932, 0.6980, 0.7028, 0.7077, 0.7126, 0.7176, 0.7225, 0.7275,\n",
       "        0.7326, 0.7377, 0.7428, 0.7480, 0.7531, 0.7584, 0.7636, 0.7689, 0.7743,\n",
       "        0.7796, 0.7850, 0.7905, 0.7960, 0.8015, 0.8071, 0.8127, 0.8183, 0.8240,\n",
       "        0.8297, 0.8355, 0.8412, 0.8471, 0.8530, 0.8589, 0.8648, 0.8708, 0.8769,\n",
       "        0.8830, 0.8891, 0.8953, 0.9015, 0.9077, 0.9140, 0.9204, 0.9268, 0.9332,\n",
       "        0.9397, 0.9462, 0.9528, 0.9594, 0.9660, 0.9727, 0.9795, 0.9863, 0.9931,\n",
       "        1.0000])"
      ]
     },
     "execution_count": 72,
     "metadata": {},
     "output_type": "execute_result"
    }
   ],
   "source": [
    "lrs"
   ]
  },
  {
   "cell_type": "code",
   "execution_count": 73,
   "metadata": {},
   "outputs": [],
   "source": [
    "# Create random batches and only feed these batches forward and backward through the model\n",
    "\n",
    "lr_i = [] # learning rate at iteration i\n",
    "loss_i = [] # loss at iteration i\n",
    "\n",
    "for i in range(1000):\n",
    "\n",
    "    # construct minibatch\n",
    "    ix = torch.randint(0, X.shape[0], (32,)) # Select 32 random indices from our dataset\n",
    "\n",
    "    X_batch = X[ix]\n",
    "    Y_batch = Y[ix]\n",
    "\n",
    "    # forward pass\n",
    "    emb = C[X_batch] # using minibatches, we are back to [32, 3, 2]\n",
    "    h = torch.tanh(emb.view(-1, 6) @W1 + b1)\n",
    "    logits = h @ W2 + b2\n",
    "    loss = F.cross_entropy(logits, Y_batch) # even better and more efficient than the above\n",
    "\n",
    "    # backward pass / backpropagation\n",
    "    for p in parameters:\n",
    "        p.grad = None # don't forget to .zero_grad() !!!\n",
    "    loss.backward()\n",
    "\n",
    "    # update\n",
    "    learning_rate = lrs[i]\n",
    "    for p in parameters:\n",
    "        p.data += -learning_rate * p.grad \n",
    "\n",
    "    # track stats\n",
    "    lr_i.append(lre[i])\n",
    "    loss_i.append(loss.item())\n",
    "    \n",
    "    # print(loss.item()) # NOTE: In this case, this is only the loss for the current batch!!! Not the global loss"
   ]
  },
  {
   "cell_type": "code",
   "execution_count": 74,
   "metadata": {},
   "outputs": [
    {
     "data": {
      "text/plain": [
       "[<matplotlib.lines.Line2D at 0x214a5d70050>]"
      ]
     },
     "execution_count": 74,
     "metadata": {},
     "output_type": "execute_result"
    },
    {
     "data": {
      "image/png": "[encoded data removed]",
      "text/plain": [
       "<Figure size 640x480 with 1 Axes>"
      ]
     },
     "metadata": {},
     "output_type": "display_data"
    }
   ],
   "source": [
    "# Here, we determine visualls that the optimal learning rate is somewhere around the exponent of -1.0\n",
    "# i.e. 10**-1 = 0.1\n",
    "plt.plot(lr_i, loss_i)"
   ]
  },
  {
   "cell_type": "code",
   "execution_count": 75,
   "metadata": {},
   "outputs": [
    {
     "data": {
      "text/plain": [
       "tensor(7.4458, grad_fn=<NllLossBackward0>)"
      ]
     },
     "execution_count": 75,
     "metadata": {},
     "output_type": "execute_result"
    }
   ],
   "source": [
    "# global loss\n",
    "emb = C[X] # using minibatches, we are back to [32, 3, 2]\n",
    "h = torch.tanh(emb.view(-1, 6) @W1 + b1)\n",
    "logits = h @ W2 + b2\n",
    "loss = F.cross_entropy(logits, Y) # even better and more efficient than the above\n",
    "loss"
   ]
  },
  {
   "cell_type": "markdown",
   "metadata": {},
   "source": [
    "## Using the optimal learning rate"
   ]
  },
  {
   "cell_type": "code",
   "execution_count": 76,
   "metadata": {},
   "outputs": [],
   "source": [
    "g = torch.Generator().manual_seed(42)\n",
    "C = torch.randn((27, 2), generator=g)\n",
    "W1 = torch.randn((6, 100), generator=g)\n",
    "b1 = torch.randn(100, generator=g)\n",
    "W2 = torch.randn((100, 27), generator=g)\n",
    "b2 = torch.randn(27, generator=g)\n",
    "parameters = [C, W1, b1, W2, b2]"
   ]
  },
  {
   "cell_type": "code",
   "execution_count": 77,
   "metadata": {},
   "outputs": [],
   "source": [
    "for p in parameters:\n",
    "    p.requires_grad = True"
   ]
  },
  {
   "cell_type": "code",
   "execution_count": 78,
   "metadata": {},
   "outputs": [],
   "source": [
    "# Create random batches and only feed these batches forward and backward through the model\n",
    "\n",
    "for i in range(10000):\n",
    "\n",
    "    # construct minibatch\n",
    "    ix = torch.randint(0, X.shape[0], (32,)) # Select 32 random indices from our dataset\n",
    "\n",
    "    X_batch = X[ix]\n",
    "    Y_batch = Y[ix]\n",
    "\n",
    "    # forward pass\n",
    "    emb = C[X_batch] # using minibatches, we are back to [32, 3, 2]\n",
    "    h = torch.tanh(emb.view(-1, 6) @W1 + b1)\n",
    "    logits = h @ W2 + b2\n",
    "    loss = F.cross_entropy(logits, Y_batch) # even better and more efficient than the above\n",
    "\n",
    "    # backward pass / backpropagation\n",
    "    for p in parameters:\n",
    "        p.grad = None # don't forget to .zero_grad() !!!\n",
    "    loss.backward()\n",
    "\n",
    "    # update\n",
    "    learning_rate = 10**-1 # 0.1 as visually determined\n",
    "    for p in parameters:\n",
    "        p.data += -learning_rate * p.grad \n",
    "    \n",
    "    # print(loss.item()) # NOTE: In this case, this is only the loss for the current batch!!! Not the global loss"
   ]
  },
  {
   "cell_type": "code",
   "execution_count": 79,
   "metadata": {},
   "outputs": [
    {
     "data": {
      "text/plain": [
       "tensor(2.4790, grad_fn=<NllLossBackward0>)"
      ]
     },
     "execution_count": 79,
     "metadata": {},
     "output_type": "execute_result"
    }
   ],
   "source": [
    "# global loss\n",
    "emb = C[X] # using minibatches, we are back to [32, 3, 2]\n",
    "h = torch.tanh(emb.view(-1, 6) @W1 + b1)\n",
    "logits = h @ W2 + b2\n",
    "loss = F.cross_entropy(logits, Y) # even better and more efficient than the above\n",
    "loss"
   ]
  },
  {
   "cell_type": "code",
   "execution_count": 80,
   "metadata": {},
   "outputs": [],
   "source": [
    "# train split, dev/validation split, test split\n",
    "# 80%, 10%, 10%\n",
    "# train set is used to train the parameters\n",
    "# validation set is used to train the hyperparameters (test different configurations)\n",
    "# test set is used to evaluate the performance at the end"
   ]
  },
  {
   "cell_type": "markdown",
   "metadata": {},
   "source": [
    "# Implement Train, Val and Test set"
   ]
  },
  {
   "cell_type": "code",
   "execution_count": 81,
   "metadata": {},
   "outputs": [],
   "source": [
    "import random"
   ]
  },
  {
   "cell_type": "code",
   "execution_count": 82,
   "metadata": {},
   "outputs": [
    {
     "name": "stdout",
     "output_type": "stream",
     "text": [
      "torch.Size([182625, 3]) torch.Size([182625])\n",
      "torch.Size([22655, 3]) torch.Size([22655])\n",
      "torch.Size([22866, 3]) torch.Size([22866])\n"
     ]
    }
   ],
   "source": [
    "# build the dataset\n",
    "def buildDataset(words):\n",
    "    '''\n",
    "    Takes in a list of words and returns it's characters according to the block size as Tensors.\n",
    "    '''\n",
    "    block_size = 3 # context_length; how many characters do we use to support our prediction of the next character?\n",
    "    X, Y = [], []\n",
    "\n",
    "    for w in words:\n",
    "        context = [0] * block_size # padded context of 0-tokens (i.e. \".\")\n",
    "        for ch in w + \".\":\n",
    "            ix = stoi[ch]\n",
    "            X.append(context)\n",
    "            Y.append(ix)\n",
    "            context = context[1:] + [ix] # shift/move the context window one character to the right --> rolling window of context\n",
    "\n",
    "    X = torch.tensor(X)\n",
    "    Y = torch.tensor(Y)\n",
    "    print(X.shape, Y.shape)\n",
    "    return X, Y\n",
    "\n",
    "random.seed(42)\n",
    "random.shuffle(words)\n",
    "n1 = int(.8 * len(words))\n",
    "n2 = int(.9 * len(words))\n",
    "\n",
    "Xtr, Ytr = buildDataset(words[:n1])\n",
    "Xdev, Ydev = buildDataset(words[n1:n2])\n",
    "Xtest, Ytest = buildDataset(words[n2:])"
   ]
  },
  {
   "cell_type": "code",
   "execution_count": 83,
   "metadata": {},
   "outputs": [],
   "source": [
    "g = torch.Generator().manual_seed(42)\n",
    "C = torch.randn((27, 2), generator=g)\n",
    "W1 = torch.randn((6, 100), generator=g)\n",
    "b1 = torch.randn(100, generator=g)\n",
    "W2 = torch.randn((100, 27), generator=g)\n",
    "b2 = torch.randn(27, generator=g)\n",
    "parameters = [C, W1, b1, W2, b2]"
   ]
  },
  {
   "cell_type": "code",
   "execution_count": 84,
   "metadata": {},
   "outputs": [],
   "source": [
    "for p in parameters:\n",
    "    p.requires_grad = True"
   ]
  },
  {
   "cell_type": "code",
   "execution_count": 85,
   "metadata": {},
   "outputs": [],
   "source": [
    "# Create random batches and only feed these batches forward and backward through the model\n",
    "\n",
    "for i in range(50000):\n",
    "\n",
    "    # construct minibatch\n",
    "    ix = torch.randint(0, Xtr.shape[0], (32,)) # Select 32 random indices from our dataset\n",
    "\n",
    "    X_batch = Xtr[ix]\n",
    "    Y_batch = Ytr[ix]\n",
    "\n",
    "    # forward pass\n",
    "    emb = C[X_batch] # using minibatches, we are back to [32, 3, 2]\n",
    "    h = torch.tanh(emb.view(-1, 6) @W1 + b1)\n",
    "    logits = h @ W2 + b2\n",
    "    loss = F.cross_entropy(logits, Y_batch) # even better and more efficient than the above\n",
    "\n",
    "    # backward pass / backpropagation\n",
    "    for p in parameters:\n",
    "        p.grad = None # don't forget to .zero_grad() !!!\n",
    "    loss.backward()\n",
    "\n",
    "    # update\n",
    "    learning_rate = 10**-1 # 0.1 as visually determined\n",
    "    for p in parameters:\n",
    "        p.data += -learning_rate * p.grad \n",
    "    \n",
    "    # print(loss.item()) # NOTE: In this case, this is only the loss for the current batch!!! Not the global loss"
   ]
  },
  {
   "cell_type": "code",
   "execution_count": 86,
   "metadata": {},
   "outputs": [
    {
     "data": {
      "text/plain": [
       "tensor(2.3678, grad_fn=<NllLossBackward0>)"
      ]
     },
     "execution_count": 86,
     "metadata": {},
     "output_type": "execute_result"
    }
   ],
   "source": [
    "# global loss across the TRAIN Set\n",
    "emb = C[Xtr] # using minibatches, we are back to [32, 3, 2]\n",
    "h = torch.tanh(emb.view(-1, 6) @W1 + b1)\n",
    "logits = h @ W2 + b2\n",
    "loss = F.cross_entropy(logits, Ytr) # even better and more efficient than the above\n",
    "loss"
   ]
  },
  {
   "cell_type": "code",
   "execution_count": 87,
   "metadata": {},
   "outputs": [
    {
     "data": {
      "text/plain": [
       "tensor(2.3688, grad_fn=<NllLossBackward0>)"
      ]
     },
     "execution_count": 87,
     "metadata": {},
     "output_type": "execute_result"
    }
   ],
   "source": [
    "# global loss across the VALIDATION / DEV Set\n",
    "emb = C[Xdev] # using minibatches, we are back to [32, 3, 2]\n",
    "h = torch.tanh(emb.view(-1, 6) @W1 + b1)\n",
    "logits = h @ W2 + b2\n",
    "loss = F.cross_entropy(logits, Ydev) # even better and more efficient than the above\n",
    "loss"
   ]
  },
  {
   "cell_type": "code",
   "execution_count": 88,
   "metadata": {},
   "outputs": [],
   "source": [
    "# Interpretation:\n",
    "# Train loss and dev loss are roughly the same\n",
    "# this means our model is underfitting\n",
    "# our model is very tiny and not able to perfectly learn the complexity of the given problem\n",
    "# therefore we expect performance increases by scaling up the neural network!"
   ]
  },
  {
   "cell_type": "markdown",
   "metadata": {},
   "source": [
    "# Scaling up the Neural Network"
   ]
  },
  {
   "cell_type": "code",
   "execution_count": 89,
   "metadata": {},
   "outputs": [],
   "source": [
    "# As we scale up the network, it will take longer to converge"
   ]
  },
  {
   "cell_type": "code",
   "execution_count": 90,
   "metadata": {},
   "outputs": [],
   "source": [
    "g = torch.Generator().manual_seed(42)\n",
    "C = torch.randn((27, 2), generator=g) # lookup table for embeddings\n",
    "W1 = torch.randn((6, 300), generator=g)\n",
    "b1 = torch.randn(300, generator=g)\n",
    "W2 = torch.randn((300, 27), generator=g)\n",
    "b2 = torch.randn(27, generator=g)\n",
    "parameters = [C, W1, b1, W2, b2]"
   ]
  },
  {
   "cell_type": "code",
   "execution_count": 91,
   "metadata": {},
   "outputs": [],
   "source": [
    "for p in parameters:\n",
    "    p.requires_grad = True"
   ]
  },
  {
   "cell_type": "code",
   "execution_count": 92,
   "metadata": {},
   "outputs": [
    {
     "data": {
      "text/plain": [
       "10281"
      ]
     },
     "execution_count": 92,
     "metadata": {},
     "output_type": "execute_result"
    }
   ],
   "source": [
    "sum([p.numel() for p in parameters])"
   ]
  },
  {
   "cell_type": "code",
   "execution_count": 93,
   "metadata": {},
   "outputs": [],
   "source": [
    "# Create random batches and only feed these batches forward and backward through the model\n",
    "\n",
    "for i in range(150000):\n",
    "\n",
    "    # construct minibatch\n",
    "    ix = torch.randint(0, Xtr.shape[0], (32,)) # Select 32 random indices from our dataset\n",
    "\n",
    "    X_batch = Xtr[ix]\n",
    "    Y_batch = Ytr[ix]\n",
    "\n",
    "    # forward pass\n",
    "    emb = C[X_batch] # using minibatches, we are back to [32, 3, 2]\n",
    "    h = torch.tanh(emb.view(-1, 6) @W1 + b1)\n",
    "    logits = h @ W2 + b2\n",
    "    loss = F.cross_entropy(logits, Y_batch) # even better and more efficient than the above\n",
    "\n",
    "    # backward pass / backpropagation\n",
    "    for p in parameters:\n",
    "        p.grad = None # don't forget to .zero_grad() !!!\n",
    "    loss.backward()\n",
    "\n",
    "    # update\n",
    "    if i < 50000:\n",
    "        learning_rate = 10**-1 # 0.1 as visually determined\n",
    "    else:\n",
    "        learning_rate = 0.01\n",
    "\n",
    "    for p in parameters:\n",
    "        p.data += -learning_rate * p.grad \n",
    "    \n",
    "    # print(loss.item()) # NOTE: In this case, this is only the loss for the current batch!!! Not the global loss"
   ]
  },
  {
   "cell_type": "code",
   "execution_count": 94,
   "metadata": {},
   "outputs": [
    {
     "data": {
      "text/plain": [
       "tensor(2.2564, grad_fn=<NllLossBackward0>)"
      ]
     },
     "execution_count": 94,
     "metadata": {},
     "output_type": "execute_result"
    }
   ],
   "source": [
    "# global loss across the TRAIN Set\n",
    "emb = C[Xtr] # using minibatches, we are back to [32, 3, 2]\n",
    "h = torch.tanh(emb.view(-1, 6) @W1 + b1)\n",
    "logits = h @ W2 + b2\n",
    "loss = F.cross_entropy(logits, Ytr) # even better and more efficient than the above\n",
    "loss"
   ]
  },
  {
   "cell_type": "code",
   "execution_count": 95,
   "metadata": {},
   "outputs": [
    {
     "data": {
      "text/plain": [
       "tensor(2.2653, grad_fn=<NllLossBackward0>)"
      ]
     },
     "execution_count": 95,
     "metadata": {},
     "output_type": "execute_result"
    }
   ],
   "source": [
    "# global loss across the VALIDATION / DEV Set\n",
    "emb = C[Xdev] # using minibatches, we are back to [32, 3, 2]\n",
    "h = torch.tanh(emb.view(-1, 6) @W1 + b1)\n",
    "logits = h @ W2 + b2\n",
    "loss = F.cross_entropy(logits, Ydev) # even better and more efficient than the above\n",
    "loss"
   ]
  },
  {
   "cell_type": "code",
   "execution_count": 96,
   "metadata": {},
   "outputs": [],
   "source": [
    "# We are still underfitting.\n",
    "# Most likely, our 2D vector space for our embeddings is our bottleneck"
   ]
  },
  {
   "cell_type": "code",
   "execution_count": 97,
   "metadata": {},
   "outputs": [
    {
     "data": {
      "image/png": "[encoded data removed]",
      "text/plain": [
       "<Figure size 800x800 with 1 Axes>"
      ]
     },
     "metadata": {},
     "output_type": "display_data"
    }
   ],
   "source": [
    "plt. figure (figsize=(8,8)) \n",
    "plt.scatter(C[:,0].data, C[:,1].data, s=200)\n",
    "\n",
    "for i in range(C.shape[0]):\n",
    "    plt. text(C[i,0].item(), C[i,1].item(), itos[i], ha=\"center\", va=\"center\", color='white')\n",
    "plt.grid ( 'minor')\n",
    "\n",
    "# We can see that the Neural Net clustered vowels close together since they are kinda similar\n",
    "# q is treated as kinda special since it is really far away"
   ]
  },
  {
   "cell_type": "code",
   "execution_count": 98,
   "metadata": {},
   "outputs": [],
   "source": [
    "# let's try increasing our embedding space!! --------------->>>>>"
   ]
  },
  {
   "cell_type": "code",
   "execution_count": 173,
   "metadata": {},
   "outputs": [],
   "source": [
    "g = torch.Generator().manual_seed(42)\n",
    "C = torch.randn((27, 10), generator=g) # now we use 10 dimensions to embed our characters\n",
    "W1 = torch.randn((30, 500), generator=g) # the new input will be 3 characters * 10 dimensions = 30\n",
    "b1 = torch.randn(500, generator=g)\n",
    "W2 = torch.randn((500, 27), generator=g)\n",
    "b2 = torch.randn(27, generator=g)\n",
    "parameters = [C, W1, b1, W2, b2]"
   ]
  },
  {
   "cell_type": "code",
   "execution_count": 174,
   "metadata": {},
   "outputs": [],
   "source": [
    "for p in parameters:\n",
    "    p.requires_grad = True"
   ]
  },
  {
   "cell_type": "code",
   "execution_count": 175,
   "metadata": {},
   "outputs": [
    {
     "data": {
      "text/plain": [
       "29297"
      ]
     },
     "execution_count": 175,
     "metadata": {},
     "output_type": "execute_result"
    }
   ],
   "source": [
    "sum([p.numel() for p in parameters])"
   ]
  },
  {
   "cell_type": "code",
   "execution_count": 176,
   "metadata": {},
   "outputs": [],
   "source": [
    "lri = []\n",
    "lossi = []\n",
    "stepi = []"
   ]
  },
  {
   "cell_type": "code",
   "execution_count": 177,
   "metadata": {},
   "outputs": [],
   "source": [
    "# Create random batches and only feed these batches forward and backward through the model\n",
    "\n",
    "for i in range(500000):\n",
    "\n",
    "    # construct minibatch\n",
    "    ix = torch.randint(0, Xtr.shape[0], (32,)) # Select 32 random indices from our dataset\n",
    "\n",
    "    X_batch = Xtr[ix]\n",
    "    Y_batch = Ytr[ix]\n",
    "\n",
    "    # forward pass\n",
    "    emb = C[X_batch] # using minibatches, we are back to [32, 3, 2]\n",
    "    h = torch.tanh(emb.view(-1, C.shape[1] * block_size) @W1 + b1) # we need to change our view as well\n",
    "    logits = h @ W2 + b2  + 0.01*(W2**2).mean() # add regularization\n",
    "    loss = F.cross_entropy(logits, Y_batch) # even better and more efficient than the above\n",
    "\n",
    "    # backward pass / backpropagation\n",
    "    for p in parameters:\n",
    "        p.grad = None # don't forget to .zero_grad() !!!\n",
    "    loss.backward()\n",
    "\n",
    "    # update\n",
    "    learning_rate = 0.1 if i < 100000 else 0.01 # fixed\n",
    "    # learning_rate = 10**-3 / (1 + 10**-8 * i) # dynamic based on ierations; formula accoring to Bengio 2003; Note: this leads to worse results\n",
    "\n",
    "    for p in parameters:\n",
    "        p.data += -learning_rate * p.grad \n",
    "\n",
    "    # track stats\n",
    "    lri.append(learning_rate)\n",
    "    stepi.append(i)\n",
    "    lossi.append(loss.log10().item())\n",
    "    \n",
    "    # print(loss.item()) # NOTE: In this case, this is only the loss for the current batch!!! Not the global loss"
   ]
  },
  {
   "cell_type": "code",
   "execution_count": 178,
   "metadata": {},
   "outputs": [
    {
     "data": {
      "text/plain": [
       "[<matplotlib.lines.Line2D at 0x214b2f975f0>]"
      ]
     },
     "execution_count": 178,
     "metadata": {},
     "output_type": "execute_result"
    },
    {
     "data": {
      "image/png": "[encoded data removed]",
      "text/plain": [
       "<Figure size 640x480 with 1 Axes>"
      ]
     },
     "metadata": {},
     "output_type": "display_data"
    }
   ],
   "source": [
    "plt.plot(stepi, lossi)"
   ]
  },
  {
   "cell_type": "code",
   "execution_count": 179,
   "metadata": {},
   "outputs": [
    {
     "data": {
      "text/plain": [
       "tensor(2.0714, grad_fn=<NllLossBackward0>)"
      ]
     },
     "execution_count": 179,
     "metadata": {},
     "output_type": "execute_result"
    }
   ],
   "source": [
    "# global loss across the TRAIN Set\n",
    "emb = C[Xtr] # using minibatches, we are back to [32, 3, 2]\n",
    "h = torch.tanh(emb.view(-1, C.shape[1] * Xtr.shape[1]) @W1 + b1)\n",
    "logits = h @ W2 + b2\n",
    "loss = F.cross_entropy(logits, Ytr) # even better and more efficient than the above\n",
    "loss"
   ]
  },
  {
   "cell_type": "code",
   "execution_count": 180,
   "metadata": {},
   "outputs": [
    {
     "data": {
      "text/plain": [
       "tensor(2.1764, grad_fn=<NllLossBackward0>)"
      ]
     },
     "execution_count": 180,
     "metadata": {},
     "output_type": "execute_result"
    }
   ],
   "source": [
    "# global loss across the VALIDATION / DEV Set\n",
    "emb = C[Xdev] # using minibatches, we are back to [32, 3, 2]\n",
    "h = torch.tanh(emb.view(-1, C.shape[1] * Xtr.shape[1]) @W1 + b1)\n",
    "logits = h @ W2 + b2\n",
    "loss = F.cross_entropy(logits, Ydev) # even better and more efficient than the above\n",
    "loss"
   ]
  },
  {
   "cell_type": "code",
   "execution_count": 181,
   "metadata": {},
   "outputs": [
    {
     "ename": "IndexError",
     "evalue": "index 182 is out of bounds for dimension 0 with size 27",
     "output_type": "error",
     "traceback": [
      "\u001b[1;31m---------------------------------------------------------------------------\u001b[0m",
      "\u001b[1;31mIndexError\u001b[0m                                Traceback (most recent call last)",
      "Cell \u001b[1;32mIn[181], line 10\u001b[0m\n\u001b[0;32m      8\u001b[0m context \u001b[38;5;241m=\u001b[39m [\u001b[38;5;241m0\u001b[39m] \u001b[38;5;241m*\u001b[39m block_size \u001b[38;5;66;03m# initialize with all ...\u001b[39;00m\n\u001b[0;32m      9\u001b[0m \u001b[38;5;28;01mwhile\u001b[39;00m \u001b[38;5;28;01mTrue\u001b[39;00m:\n\u001b[1;32m---> 10\u001b[0m     emb \u001b[38;5;241m=\u001b[39m \u001b[43mC\u001b[49m\u001b[43m[\u001b[49m\u001b[43mtorch\u001b[49m\u001b[38;5;241;43m.\u001b[39;49m\u001b[43mtensor\u001b[49m\u001b[43m(\u001b[49m\u001b[43m[\u001b[49m\u001b[43mcontext\u001b[49m\u001b[43m]\u001b[49m\u001b[43m)\u001b[49m\u001b[43m]\u001b[49m\n\u001b[0;32m     11\u001b[0m     h \u001b[38;5;241m=\u001b[39m torch\u001b[38;5;241m.\u001b[39mtanh(emb\u001b[38;5;241m.\u001b[39mview(\u001b[38;5;241m-\u001b[39m\u001b[38;5;241m1\u001b[39m, C\u001b[38;5;241m.\u001b[39mshape[\u001b[38;5;241m1\u001b[39m] \u001b[38;5;241m*\u001b[39m block_size) \u001b[38;5;241m@\u001b[39m W1 \u001b[38;5;241m+\u001b[39m b1)\n\u001b[0;32m     12\u001b[0m     logits \u001b[38;5;241m=\u001b[39m h\u001b[38;5;241m.\u001b[39mexp()\n",
      "\u001b[1;31mIndexError\u001b[0m: index 182 is out of bounds for dimension 0 with size 27"
     ]
    }
   ],
   "source": [
    "# sample from the model\n",
    "\n",
    "g = torch.Generator().manual_seed(42)\n",
    "\n",
    "for _ in range(20):\n",
    "\n",
    "    out = []\n",
    "    context = [0] * block_size # initialize with all ...\n",
    "    while True:\n",
    "        emb = C[torch.tensor([context])]\n",
    "        h = torch.tanh(emb.view(-1, C.shape[1] * block_size) @ W1 + b1)\n",
    "        logits = h.exp()\n",
    "        probs = F.softmax(logits, dim=1)\n",
    "        ix = torch.multinomial(probs, num_samples=1, replacement=True, generator=g)\n",
    "        context = context[1:] + [ix]\n",
    "        out.append(ix)\n",
    "        if ix == 0:\n",
    "            break\n",
    "\n",
    "    print(out)"
   ]
  },
  {
   "cell_type": "code",
   "execution_count": null,
   "metadata": {},
   "outputs": [],
   "source": []
  }
 ],
 "metadata": {
  "kernelspec": {
   "display_name": "torch",
   "language": "python",
   "name": "python3"
  },
  "language_info": {
   "codemirror_mode": {
    "name": "ipython",
    "version": 3
   },
   "file_extension": ".py",
   "mimetype": "text/x-python",
   "name": "python",
   "nbconvert_exporter": "python",
   "pygments_lexer": "ipython3",
   "version": "3.12.2"
  }
 },
 "nbformat": 4,
 "nbformat_minor": 2
}
