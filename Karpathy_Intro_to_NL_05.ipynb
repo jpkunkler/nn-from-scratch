{
 "cells": [
  {
   "cell_type": "code",
   "execution_count": 1,
   "metadata": {},
   "outputs": [],
   "source": [
    "import torch\n",
    "import torch.nn.functional as F\n",
    "import matplotlib.pyplot as plt # for making figures\n",
    "%matplotlib inline"
   ]
  },
  {
   "cell_type": "code",
   "execution_count": 2,
   "metadata": {},
   "outputs": [
    {
     "name": "stdout",
     "output_type": "stream",
     "text": [
      "32033\n",
      "15\n",
      "['emma', 'olivia', 'ava', 'isabella', 'sophia', 'charlotte', 'mia', 'amelia']\n"
     ]
    }
   ],
   "source": [
    "# read in all the words\n",
    "words = open('names.txt', 'r').read().splitlines()\n",
    "print(len(words))\n",
    "print(max(len(w) for w in words))\n",
    "print(words[:8])"
   ]
  },
  {
   "cell_type": "code",
   "execution_count": 3,
   "metadata": {},
   "outputs": [
    {
     "name": "stdout",
     "output_type": "stream",
     "text": [
      "{1: 'a', 2: 'b', 3: 'c', 4: 'd', 5: 'e', 6: 'f', 7: 'g', 8: 'h', 9: 'i', 10: 'j', 11: 'k', 12: 'l', 13: 'm', 14: 'n', 15: 'o', 16: 'p', 17: 'q', 18: 'r', 19: 's', 20: 't', 21: 'u', 22: 'v', 23: 'w', 24: 'x', 25: 'y', 26: 'z', 0: '.'}\n",
      "27\n"
     ]
    }
   ],
   "source": [
    "# build the vocabulary of characters and mappings to/from integers\n",
    "chars = sorted(list(set(''.join(words))))\n",
    "stoi = {s:i+1 for i,s in enumerate(chars)}\n",
    "stoi['.'] = 0\n",
    "itos = {i:s for s,i in stoi.items()}\n",
    "vocab_size = len(itos)\n",
    "print(itos)\n",
    "print(vocab_size)"
   ]
  },
  {
   "cell_type": "code",
   "execution_count": 4,
   "metadata": {},
   "outputs": [
    {
     "name": "stdout",
     "output_type": "stream",
     "text": [
      "torch.Size([182625, 3]) torch.Size([182625])\n",
      "torch.Size([22655, 3]) torch.Size([22655])\n",
      "torch.Size([22866, 3]) torch.Size([22866])\n"
     ]
    }
   ],
   "source": [
    "# build the dataset\n",
    "block_size = 3 # context length: how many characters do we take to predict the next one?\n",
    "\n",
    "def build_dataset(words):  \n",
    "  X, Y = [], []\n",
    "  \n",
    "  for w in words:\n",
    "    context = [0] * block_size\n",
    "    for ch in w + '.':\n",
    "      ix = stoi[ch]\n",
    "      X.append(context)\n",
    "      Y.append(ix)\n",
    "      context = context[1:] + [ix] # crop and append\n",
    "\n",
    "  X = torch.tensor(X)\n",
    "  Y = torch.tensor(Y)\n",
    "  print(X.shape, Y.shape)\n",
    "  return X, Y\n",
    "\n",
    "import random\n",
    "random.seed(42)\n",
    "random.shuffle(words)\n",
    "n1 = int(0.8*len(words))\n",
    "n2 = int(0.9*len(words))\n",
    "\n",
    "Xtr,  Ytr  = build_dataset(words[:n1])     # 80%\n",
    "Xdev, Ydev = build_dataset(words[n1:n2])   # 10%\n",
    "Xte,  Yte  = build_dataset(words[n2:])     # 10%"
   ]
  },
  {
   "cell_type": "code",
   "execution_count": 5,
   "metadata": {},
   "outputs": [],
   "source": [
    "# all of the above was copied from the recent lectures"
   ]
  },
  {
   "cell_type": "code",
   "execution_count": 6,
   "metadata": {},
   "outputs": [],
   "source": [
    "# utility function we will use later when comparing manual gradients to PyTorch gradients\n",
    "def cmp(s, dt, t):\n",
    "  ex = torch.all(dt == t.grad).item() # compare if bit-perfect (exactly identical)\n",
    "  app = torch.allclose(dt, t.grad) # compare if approximately close enough; maybe slight differences to floating point variance\n",
    "  maxdiff = (dt - t.grad).abs().max().item()\n",
    "  print(f'{s:15s} | exact: {str(ex):5s} | approximate: {str(app):5s} | maxdiff: {maxdiff}')"
   ]
  },
  {
   "cell_type": "code",
   "execution_count": 7,
   "metadata": {},
   "outputs": [
    {
     "name": "stdout",
     "output_type": "stream",
     "text": [
      "4137\n"
     ]
    }
   ],
   "source": [
    "n_embd = 10 # the dimensionality of the character embedding vectors\n",
    "n_hidden = 64 # the number of neurons in the hidden layer of the MLP\n",
    "\n",
    "g = torch.Generator().manual_seed(2147483647) # for reproducibility\n",
    "C  = torch.randn((vocab_size, n_embd),            generator=g)\n",
    "# Layer 1\n",
    "W1 = torch.randn((n_embd * block_size, n_hidden), generator=g) * (5/3)/((n_embd * block_size)**0.5) # Kaiming Init\n",
    "b1 = torch.randn(n_hidden,                        generator=g) * 0.1 # using b1 just for fun, it's useless because of BN\n",
    "# Layer 2\n",
    "W2 = torch.randn((n_hidden, vocab_size),          generator=g) * 0.1\n",
    "b2 = torch.randn(vocab_size,                      generator=g) * 0.1\n",
    "# BatchNorm parameters\n",
    "bngain = torch.randn((1, n_hidden))*0.1 + 1.0\n",
    "bnbias = torch.randn((1, n_hidden))*0.1\n",
    "\n",
    "# Note: I am initializating many of these parameters in non-standard ways\n",
    "# because sometimes initializating with e.g. all zeros could mask an incorrect\n",
    "# implementation of the backward pass.\n",
    "\n",
    "parameters = [C, W1, b1, W2, b2, bngain, bnbias]\n",
    "print(sum(p.nelement() for p in parameters)) # number of parameters in total\n",
    "for p in parameters:\n",
    "  p.requires_grad = True"
   ]
  },
  {
   "cell_type": "code",
   "execution_count": 8,
   "metadata": {},
   "outputs": [],
   "source": [
    "batch_size = 32\n",
    "n = batch_size # a shorter variable also, for convenience\n",
    "# construct a minibatch\n",
    "ix = torch.randint(0, Xtr.shape[0], (n,), generator=g)\n",
    "Xb, Yb = Xtr[ix], Ytr[ix] # batch X,Y"
   ]
  },
  {
   "cell_type": "code",
   "execution_count": 9,
   "metadata": {},
   "outputs": [
    {
     "data": {
      "text/plain": [
       "tensor(3.3551, grad_fn=<NegBackward0>)"
      ]
     },
     "execution_count": 9,
     "metadata": {},
     "output_type": "execute_result"
    }
   ],
   "source": [
    "# forward pass, \"chunkated\" into smaller steps that are possible to backward one at a time\n",
    "\n",
    "emb = C[Xb] # embed the characters into vectors\n",
    "embcat = emb.view(emb.shape[0], -1) # concatenate the vectors\n",
    "# Linear layer 1\n",
    "hprebn = embcat @ W1 + b1 # hidden layer pre-activation\n",
    "# BatchNorm layer\n",
    "bnmeani = 1/n*hprebn.sum(0, keepdim=True)\n",
    "bndiff = hprebn - bnmeani\n",
    "bndiff2 = bndiff**2\n",
    "bnvar = 1/(n-1)*(bndiff2).sum(0, keepdim=True) # note: Bessel's correction (dividing by n-1, not n)\n",
    "bnvar_inv = (bnvar + 1e-5)**-0.5\n",
    "bnraw = bndiff * bnvar_inv\n",
    "hpreact = bngain * bnraw + bnbias\n",
    "# Non-linearity\n",
    "h = torch.tanh(hpreact) # hidden layer\n",
    "# Linear layer 2\n",
    "logits = h @ W2 + b2 # output layer\n",
    "# cross entropy loss (same as F.cross_entropy(logits, Yb))\n",
    "logit_maxes = logits.max(1, keepdim=True).values\n",
    "norm_logits = logits - logit_maxes # subtract max for numerical stability\n",
    "counts = norm_logits.exp()\n",
    "counts_sum = counts.sum(1, keepdims=True)\n",
    "counts_sum_inv = counts_sum**-1 # if I use (1.0 / counts_sum) instead then I can't get backprop to be bit exact...\n",
    "probs = counts * counts_sum_inv\n",
    "logprobs = probs.log()\n",
    "loss = -logprobs[range(n), Yb].mean()\n",
    "\n",
    "# PyTorch backward pass\n",
    "for p in parameters:\n",
    "  p.grad = None\n",
    "for t in [logprobs, probs, counts, counts_sum, counts_sum_inv, # afaik there is no cleaner way\n",
    "          norm_logits, logit_maxes, logits, h, hpreact, bnraw,\n",
    "         bnvar_inv, bnvar, bndiff2, bndiff, hprebn, bnmeani,\n",
    "         embcat, emb]:\n",
    "  t.retain_grad()\n",
    "loss.backward()\n",
    "loss"
   ]
  },
  {
   "cell_type": "code",
   "execution_count": 15,
   "metadata": {},
   "outputs": [
    {
     "data": {
      "text/plain": [
       "torch.Size([32])"
      ]
     },
     "execution_count": 15,
     "metadata": {},
     "output_type": "execute_result"
    }
   ],
   "source": [
    "# dL / dlogprobs \n",
    "logprobs.shape\n",
    "logprobs[range(n), Yb].shape # plug out the probability of each 32 inputs in the batch at the position of the ground truth index Yb\n",
    "\n",
    "# the loss function L is the negative mean of these probabilites, i.e. mean of 32 values\n",
    "# let's see how this would translate to a simpler example\n",
    "# loss = -(a + b + c) / 3\n",
    "# identical to: loss = -1/3a + -1/3b + -1/3c\n",
    "# dL / da = -1/3\n",
    "# or generalized: dL / da = -1/n\n",
    "# but NOTE: the shape of logprobs is [32, 27]! But we only plug out one value per row (instead of 27) --> what happens to the remaining 26 values?\n",
    "# Since we calculate our loss by comparing only the prediction for the ground truth index, the remaining 26 values do NOT impact the loss at all\n",
    "# therefore, intuitively, their gradients will be 0 (since the gradient determines the impact of a value on the loss function)"
   ]
  },
  {
   "cell_type": "code",
   "execution_count": null,
   "metadata": {},
   "outputs": [],
   "source": [
    "#  counts           --*->\n",
    "#                           probs --log-> logprobs --negative mean->loss\n",
    "# counts_sum_inv    --*->"
   ]
  },
  {
   "cell_type": "code",
   "execution_count": 29,
   "metadata": {},
   "outputs": [
    {
     "data": {
      "text/plain": [
       "(torch.Size([32, 27]), torch.Size([32, 1]))"
      ]
     },
     "execution_count": 29,
     "metadata": {},
     "output_type": "execute_result"
    }
   ],
   "source": [
    "counts.shape, counts_sum_inv.shape\n",
    "\n",
    "# c = a * b, but using tensors\n",
    "# a[3x3] * c[3x1]\n",
    "# a11*b1, a12*b1, a13*b1\n",
    "# a21*b2, a22*b2, a23*b2\n",
    "# a31*b3, a32*b3, a33*b3\n",
    "# c[3x3]"
   ]
  },
  {
   "cell_type": "code",
   "execution_count": 30,
   "metadata": {},
   "outputs": [
    {
     "data": {
      "text/plain": [
       "(torch.Size([32, 1]), torch.Size([32, 27]))"
      ]
     },
     "execution_count": 30,
     "metadata": {},
     "output_type": "execute_result"
    }
   ],
   "source": [
    "counts_sum_inv.shape, dprobs.shape"
   ]
  },
  {
   "cell_type": "code",
   "execution_count": 55,
   "metadata": {},
   "outputs": [
    {
     "data": {
      "text/plain": [
       "(torch.Size([32, 27]), torch.Size([32, 27]))"
      ]
     },
     "execution_count": 55,
     "metadata": {},
     "output_type": "execute_result"
    }
   ],
   "source": [
    "counts.shape, dl_by_dprobs.shape"
   ]
  },
  {
   "cell_type": "code",
   "execution_count": 61,
   "metadata": {},
   "outputs": [
    {
     "data": {
      "text/plain": [
       "torch.Size([32, 1])"
      ]
     },
     "execution_count": 61,
     "metadata": {},
     "output_type": "execute_result"
    }
   ],
   "source": [
    "counts_sum_inv.shape"
   ]
  },
  {
   "cell_type": "code",
   "execution_count": 68,
   "metadata": {},
   "outputs": [
    {
     "data": {
      "text/plain": [
       "(torch.Size([32, 27]), torch.Size([32, 1]))"
      ]
     },
     "execution_count": 68,
     "metadata": {},
     "output_type": "execute_result"
    }
   ],
   "source": [
    "counts.shape, counts_sum.shape"
   ]
  },
  {
   "cell_type": "code",
   "execution_count": 78,
   "metadata": {},
   "outputs": [
    {
     "data": {
      "text/plain": [
       "torch.Size([32, 1])"
      ]
     },
     "execution_count": 78,
     "metadata": {},
     "output_type": "execute_result"
    }
   ],
   "source": [
    "logit_maxes.shape"
   ]
  },
  {
   "cell_type": "code",
   "execution_count": 90,
   "metadata": {},
   "outputs": [
    {
     "data": {
      "text/plain": [
       "tensor([[-0.1187, -0.0641,  0.0388, -0.0245,  0.0351, -0.0196,  0.0452,  0.0103,\n",
       "         -0.0274, -0.0894,  0.0342,  0.0019,  0.0099,  0.0327, -0.0642,  0.0129,\n",
       "          0.0356,  0.0314, -0.0277,  0.0139,  0.0102,  0.0328,  0.0169,  0.0366,\n",
       "          0.0378,  0.0018, -0.0027]], grad_fn=<SumBackward1>)"
      ]
     },
     "execution_count": 90,
     "metadata": {},
     "output_type": "execute_result"
    }
   ],
   "source": [
    "(torch.ones_like(logit_maxes) * dl_by_dnorm_logits).sum(0, keepdim=True)"
   ]
  },
  {
   "cell_type": "code",
   "execution_count": 96,
   "metadata": {},
   "outputs": [
    {
     "data": {
      "text/plain": [
       "torch.Size([32, 1])"
      ]
     },
     "execution_count": 96,
     "metadata": {},
     "output_type": "execute_result"
    }
   ],
   "source": [
    "logit_maxes.shape"
   ]
  },
  {
   "cell_type": "code",
   "execution_count": 97,
   "metadata": {},
   "outputs": [
    {
     "data": {
      "text/plain": [
       "torch.Size([32, 1])"
      ]
     },
     "execution_count": 97,
     "metadata": {},
     "output_type": "execute_result"
    }
   ],
   "source": [
    "dl_by_dlogits_maxes.shape"
   ]
  },
  {
   "cell_type": "code",
   "execution_count": 99,
   "metadata": {},
   "outputs": [
    {
     "data": {
      "text/plain": [
       "(torch.Size([32, 27]), torch.Size([32, 27]))"
      ]
     },
     "execution_count": 99,
     "metadata": {},
     "output_type": "execute_result"
    }
   ],
   "source": [
    "logprobs.shape, dl_by_dlogprobs.shape"
   ]
  },
  {
   "cell_type": "code",
   "execution_count": 115,
   "metadata": {},
   "outputs": [],
   "source": [
    "torch.zeros_like(logits)[:, logits.max(1, keepdim=True).indices] = 1.0"
   ]
  },
  {
   "cell_type": "code",
   "execution_count": 129,
   "metadata": {},
   "outputs": [
    {
     "data": {
      "text/plain": [
       "(torch.Size([32, 27]),\n",
       " torch.Size([32, 64]),\n",
       " torch.Size([64, 27]),\n",
       " torch.Size([27]))"
      ]
     },
     "execution_count": 129,
     "metadata": {},
     "output_type": "execute_result"
    }
   ],
   "source": [
    "dl_by_dlogits.shape, h.shape, W2.shape, b2.shape"
   ]
  },
  {
   "cell_type": "code",
   "execution_count": 142,
   "metadata": {},
   "outputs": [
    {
     "data": {
      "text/plain": [
       "torch.Size([32, 64])"
      ]
     },
     "execution_count": 142,
     "metadata": {},
     "output_type": "execute_result"
    }
   ],
   "source": [
    "hpreact.shape"
   ]
  },
  {
   "cell_type": "code",
   "execution_count": 155,
   "metadata": {},
   "outputs": [
    {
     "data": {
      "text/plain": [
       "(torch.Size([32, 64]),\n",
       " torch.Size([1, 64]),\n",
       " torch.Size([32, 64]),\n",
       " torch.Size([1, 64]))"
      ]
     },
     "execution_count": 155,
     "metadata": {},
     "output_type": "execute_result"
    }
   ],
   "source": [
    "dl_by_dhpreact.shape, bngain.shape, bnraw.shape, bnbias.shape"
   ]
  },
  {
   "cell_type": "code",
   "execution_count": 185,
   "metadata": {},
   "outputs": [
    {
     "data": {
      "text/plain": [
       "(torch.Size([32, 64]), torch.Size([32, 64]), torch.Size([1, 64]))"
      ]
     },
     "execution_count": 185,
     "metadata": {},
     "output_type": "execute_result"
    }
   ],
   "source": [
    "# bndiff * bnvar_inv\n",
    "dl_by_dbnraw.shape, bndiff.shape, bnvar_inv.shape"
   ]
  },
  {
   "cell_type": "code",
   "execution_count": 194,
   "metadata": {},
   "outputs": [
    {
     "data": {
      "text/plain": [
       "torch.Size([1, 64])"
      ]
     },
     "execution_count": 194,
     "metadata": {},
     "output_type": "execute_result"
    }
   ],
   "source": [
    "bnvar.shape"
   ]
  },
  {
   "cell_type": "code",
   "execution_count": 204,
   "metadata": {},
   "outputs": [
    {
     "data": {
      "text/plain": [
       "(torch.Size([32, 64]), torch.Size([1, 64]))"
      ]
     },
     "execution_count": 204,
     "metadata": {},
     "output_type": "execute_result"
    }
   ],
   "source": [
    "# bndiff2 derivative\n",
    "# bnvar = 1/(n-1)*(bndiff2).sum(0, keepdim=True)\n",
    "# What happens here is we basically scale bndiff2 by a scalar (1/(n-1)), which is a vector of shape [32]\n",
    "# example\n",
    "# a11 a12\n",
    "# a21 a22\n",
    "# ------>\n",
    "# b1 b2 where\n",
    "# b1 = (1/(n-1)) * (a11 a21)\n",
    "# b2 = (1/(n-1)) * (a12 a22)\n",
    "bndiff2.shape, dl_by_dbnvar.shape\n",
    "dl_by_dbndiff2 = (1/(n-1)) * torch.ones_like(bndiff2) * dl_by_dbnvar"
   ]
  },
  {
   "cell_type": "code",
   "execution_count": 213,
   "metadata": {},
   "outputs": [
    {
     "data": {
      "text/plain": [
       "(torch.Size([32, 64]), torch.Size([32, 64]), torch.Size([1, 64]))"
      ]
     },
     "execution_count": 213,
     "metadata": {},
     "output_type": "execute_result"
    }
   ],
   "source": [
    "bndiff.shape, hprebn.shape, bnmeani.shape"
   ]
  },
  {
   "cell_type": "code",
   "execution_count": 227,
   "metadata": {},
   "outputs": [
    {
     "data": {
      "text/plain": [
       "(torch.Size([32, 64]),\n",
       " torch.Size([32, 30]),\n",
       " torch.Size([30, 64]),\n",
       " torch.Size([64]))"
      ]
     },
     "execution_count": 227,
     "metadata": {},
     "output_type": "execute_result"
    }
   ],
   "source": [
    "# hprebn = embcat @ W1 + b1\n",
    "dl_by_dhprebn.shape, embcat.shape, W1.shape, b1.shape"
   ]
  },
  {
   "cell_type": "code",
   "execution_count": 230,
   "metadata": {},
   "outputs": [
    {
     "data": {
      "text/plain": [
       "torch.Size([32, 30])"
      ]
     },
     "execution_count": 230,
     "metadata": {},
     "output_type": "execute_result"
    }
   ],
   "source": [
    "# embcat = emb.view(emb.shape[0], -1)\n",
    "dl_by_dembcat.shape, emb.shape\n",
    "dl_by_demb = dl_by_dembcat.view(-1, 3, 10)"
   ]
  },
  {
   "cell_type": "code",
   "execution_count": 246,
   "metadata": {},
   "outputs": [],
   "source": [
    "# emb = C[Xb]\n",
    "dl_by_demb.shape, C.shape, Xb.shape\n",
    "dl_by_dC = torch.zeros_like(C)\n",
    "for k in range (Xb.shape[0]):\n",
    "    for j in range(Xb.shape[1]):\n",
    "        ix = Xb[k,j]\n",
    "        dl_by_dC[ix] += dl_by_demb[k, j]"
   ]
  },
  {
   "cell_type": "code",
   "execution_count": 247,
   "metadata": {},
   "outputs": [
    {
     "name": "stdout",
     "output_type": "stream",
     "text": [
      "logprobs        | exact: True  | approximate: True  | maxdiff: 0.0\n",
      "probs           | exact: True  | approximate: True  | maxdiff: 0.0\n",
      "counts_sum_inv  | exact: True  | approximate: True  | maxdiff: 0.0\n",
      "counts_sum      | exact: True  | approximate: True  | maxdiff: 0.0\n",
      "counts          | exact: True  | approximate: True  | maxdiff: 0.0\n",
      "norm_logits     | exact: True  | approximate: True  | maxdiff: 0.0\n",
      "logit_maxes     | exact: True  | approximate: True  | maxdiff: 0.0\n",
      "logits          | exact: True  | approximate: True  | maxdiff: 0.0\n",
      "h               | exact: True  | approximate: True  | maxdiff: 0.0\n",
      "W2              | exact: True  | approximate: True  | maxdiff: 0.0\n",
      "b2              | exact: True  | approximate: True  | maxdiff: 0.0\n",
      "hpreact         | exact: True  | approximate: True  | maxdiff: 0.0\n",
      "bngain          | exact: True  | approximate: True  | maxdiff: 0.0\n",
      "bnbias          | exact: True  | approximate: True  | maxdiff: 0.0\n",
      "bnraw           | exact: True  | approximate: True  | maxdiff: 0.0\n",
      "bnvar_inv       | exact: True  | approximate: True  | maxdiff: 0.0\n",
      "bnvar           | exact: True  | approximate: True  | maxdiff: 0.0\n",
      "bndiff2         | exact: True  | approximate: True  | maxdiff: 0.0\n",
      "bndiff          | exact: True  | approximate: True  | maxdiff: 0.0\n",
      "bnmeani         | exact: True  | approximate: True  | maxdiff: 0.0\n",
      "hprebn          | exact: True  | approximate: True  | maxdiff: 0.0\n",
      "embcat          | exact: True  | approximate: True  | maxdiff: 0.0\n",
      "W1              | exact: True  | approximate: True  | maxdiff: 0.0\n",
      "b1              | exact: True  | approximate: True  | maxdiff: 0.0\n",
      "emb             | exact: True  | approximate: True  | maxdiff: 0.0\n",
      "C               | exact: True  | approximate: True  | maxdiff: 0.0\n"
     ]
    }
   ],
   "source": [
    "# Exercise 1: backprop through the whole thing manually, \n",
    "# backpropagating through exactly all of the variables \n",
    "# as they are defined in the forward pass above, one by one\n",
    "\n",
    "\n",
    "# IMPORTANT NOTE: The gradient HAS TO HAVE THE SAME SHAPE as the input value/vector/matrix\n",
    "dl_by_dl = -1 \n",
    "\n",
    "dl_by_dlogprobs = torch.zeros_like(logprobs) # we need the exact same shape as logprobs, but fill it with 0\n",
    "dl_by_dlogprobs[range(n), Yb] = -1/n # set only the relevant values impacting the loss to the derivative as outlined above\n",
    "assert(dl_by_dlogprobs.shape == logprobs.shape)\n",
    "\n",
    "dl_by_dprobs = (1 / probs) * dl_by_dlogprobs\n",
    "assert(dl_by_dprobs.shape == probs.shape)\n",
    "\n",
    "dl_by_dcounts_sum_inv = (counts * dl_by_dprobs).sum(1, keepdim=True) # sum because we need one gradient per input value\n",
    "assert(dl_by_dcounts_sum_inv.shape == counts_sum_inv.shape)\n",
    "\n",
    "dl_by_dcounts = counts_sum_inv * dl_by_dprobs # this is only the first local gradient for counts, as counts goes into multiple steps\n",
    "assert(dl_by_dcounts.shape == counts.shape)\n",
    "\n",
    "dl_by_dcounts_sum = -(1 / counts_sum **2) * dl_by_dcounts_sum_inv\n",
    "assert(dl_by_dcounts_sum.shape == counts_sum.shape)\n",
    "\n",
    "# counts_sum = counts.sum(1, keepdim=True) ### What is happening here? Let's break it down\n",
    "# counts is a [32, 27] matrix and we sum up all column values (sum(1) = row-wise sum)\n",
    "# therefore, we receive a [32, 1] matrix in counts_sum\n",
    "# this can be generalized as follows\n",
    "# a11 a12 a13 ---> b1 = (a11 + a12 + a13)\n",
    "# a21 a22 a21 ---> b2 = (a21 + a22 + a23)\n",
    "# a31 a32 a33 ---> b3 = (a31 + a32 + a33)\n",
    "# as we can see, all we do is addition\n",
    "# and what did we learn about gradients during addition operations? The gradient simply gets passed along / routed to the previous parts\n",
    "# therefore, the gradient of each matrix value aXY is 1.0 multiplied by the incoming gradient\n",
    "# what do we need? We need a matrix in the shape of [32, 27] that is all 1.0\n",
    "# and then multiply these values by the incoming gradient according to the chain rule\n",
    "dl_by_dcounts += torch.ones_like(counts) * dl_by_dcounts_sum # NOTE: += since gradients need to be aggregated when the value serves as input for multiple operations\n",
    "assert(dl_by_dcounts.shape == counts.shape)\n",
    "\n",
    "dl_by_dnorm_logits = norm_logits.exp() * dl_by_dcounts\n",
    "assert(dl_by_dnorm_logits.shape == norm_logits.shape)\n",
    "\n",
    "dl_by_dlogit_maxes = -1.0 * (torch.ones_like(logit_maxes) * dl_by_dnorm_logits).sum(1, keepdim=True)\n",
    "assert(dl_by_dlogit_maxes.shape == logit_maxes.shape)\n",
    "\n",
    "dl_by_dlogits = torch.ones_like(logits) * dl_by_dnorm_logits\n",
    "assert(dl_by_dlogits.shape == logits.shape)\n",
    "\n",
    "# NOTE: This is a special case since we use tha max values for normalization to allow for numeric stability of our logits\n",
    "# SPECIAL NOTE: You could also do this as a clever one-liner using one-hot:\n",
    "# dl_by_dlogits += F.one_hot(logits.max(1).indices, num_classes=logits.shape[1]) * dl_by_dlogit_maxes\n",
    "tmp = torch.zeros_like(logits) # set all logit gradients to zero\n",
    "# IMPORTANT: We need to use range(n) instead of : !!!\n",
    "tmp[range(n), logits.max(1).indices] = 1.0 # only set the logit gradients for the MAX logits, since those are used for normalization\n",
    "dl_by_dlogits += tmp * dl_by_dlogit_maxes # chain rule\n",
    "assert(dl_by_dlogits.shape == logits.shape)\n",
    "\n",
    "# How would we go about differentiating logits = h @ W2 + b2?\n",
    "# Let's do this with a simplified example\n",
    "# Assume d = a @b + c where d.shape = [2x2]; a.shape = [2x2]; b.shape = [2x2] and c.shape = [2x1]\n",
    "# Step 1: Matrix Multiplication\n",
    "# Step 2: Derivatives dL / da_ij; Simplify etc.\n",
    "# OR ...\n",
    "# We can simply make the shapes match: \n",
    "# dl_by_dlogits.shape, h.shape, W2.shape, b2.shape\n",
    "# (torch.Size([32, 27]),\n",
    "#  torch.Size([32, 64]),\n",
    "#  torch.Size([64, 27]),\n",
    "#  torch.Size([27]))\n",
    "dl_by_dh = dl_by_dlogits @ W2.T\n",
    "assert(dl_by_dh.shape == h.shape)\n",
    "dl_by_dW2 = h.T @ dl_by_dlogits\n",
    "assert(dl_by_dW2.shape == W2.shape)\n",
    "dl_by_db2 = dl_by_dlogits.sum(0)\n",
    "assert(dl_by_db2.shape == b2.shape)\n",
    "\n",
    "dl_by_dhpreact = (1 - h**2) * dl_by_dh\n",
    "assert(dl_by_dhpreact.shape == hpreact.shape)\n",
    "\n",
    "dl_by_dbngain = (bnraw * dl_by_dhpreact).sum(0, keepdim=True)\n",
    "assert(dl_by_dbngain.shape == bngain.shape)\n",
    "dl_by_dbnraw = dl_by_dhpreact * bngain\n",
    "assert(dl_by_dbnraw.shape == bnraw.shape)\n",
    "dl_by_dbnbias = (dl_by_dhpreact * 1.0).sum(0, keepdim=True) # in addition, we simply pass along the gradient; * 1.0 is not necessary\n",
    "assert(dl_by_dbnbias.shape == bnbias.shape)\n",
    "\n",
    "dl_by_dbndiff =  bnvar_inv * dl_by_dbnraw\n",
    "assert(dl_by_dbndiff.shape == bndiff.shape)\n",
    "dl_by_dbnvar_inv = (bndiff * dl_by_dbnraw).sum(0, keepdim=True)\n",
    "assert(dl_by_dbnvar_inv.shape == bnvar_inv.shape)\n",
    "\n",
    "dl_by_dbnvar = (-0.5 * (bnvar + 1e-5)**-1.5) * dl_by_dbnvar_inv # according to Power Rule\n",
    "assert(dl_by_dbnvar.shape == bnvar.shape)\n",
    "\n",
    "dl_by_dbndiff2 = (1/(n-1)) * torch.ones_like(bndiff2) * dl_by_dbnvar\n",
    "assert(dl_by_dbndiff2.shape == bndiff2.shape)\n",
    "\n",
    "dl_by_dbndiff += (2 * bndiff) * dl_by_dbndiff2 # Power Rule\n",
    "assert(dl_by_dbndiff.shape == bndiff.shape)\n",
    "\n",
    "dl_by_dbnmeani = (-1.0 * dl_by_dbndiff).sum(0, keepdim=True)\n",
    "assert(dl_by_dbnmeani.shape == bnmeani.shape)\n",
    "\n",
    "dl_by_dhprebn = dl_by_dbndiff.clone()\n",
    "assert(dl_by_dhprebn.shape == hprebn.shape)\n",
    "\n",
    "dl_by_dhprebn += 1.0/n * (torch.ones_like(hprebn) * dl_by_dbnmeani)\n",
    "\n",
    "\n",
    "dl_by_dembcat = dl_by_dhprebn @ W1.T\n",
    "dl_by_dW1 = embcat.T @ dl_by_dhprebn\n",
    "dl_by_db1 = dl_by_dhprebn.sum(0)\n",
    "\n",
    "dl_by_demb = dl_by_dembcat.view(emb.shape)\n",
    "\n",
    "dl_by_demb.shape, C.shape, Xb.shape\n",
    "dl_by_dC = torch.zeros_like(C)\n",
    "for k in range (Xb.shape[0]):\n",
    "    for j in range(Xb.shape[1]):\n",
    "        ix = Xb[k,j]\n",
    "        dl_by_dC[ix] += dl_by_demb[k, j]\n",
    "\n",
    "# CROSS CHECK OUR CALCULATIONS TO PYTORCH AUTOGRAD FOR VALIDATION\n",
    "cmp('logprobs', dl_by_dlogprobs, logprobs)\n",
    "cmp('probs', dl_by_dprobs, probs)\n",
    "cmp('counts_sum_inv', dl_by_dcounts_sum_inv, counts_sum_inv)\n",
    "cmp('counts_sum', dl_by_dcounts_sum, counts_sum)\n",
    "cmp('counts', dl_by_dcounts, counts)\n",
    "cmp('norm_logits', dl_by_dnorm_logits, norm_logits)\n",
    "cmp('logit_maxes', dl_by_dlogit_maxes, logit_maxes)\n",
    "cmp('logits', dl_by_dlogits, logits)\n",
    "cmp('h', dl_by_dh, h)\n",
    "cmp('W2', dl_by_dW2, W2)\n",
    "cmp('b2', dl_by_db2, b2)\n",
    "cmp('hpreact', dl_by_dhpreact, hpreact)\n",
    "cmp('bngain', dl_by_dbngain, bngain)\n",
    "cmp('bnbias', dl_by_dbnbias, bnbias)\n",
    "cmp('bnraw', dl_by_dbnraw, bnraw)\n",
    "cmp('bnvar_inv', dl_by_dbnvar_inv, bnvar_inv)\n",
    "cmp('bnvar', dl_by_dbnvar, bnvar)\n",
    "cmp('bndiff2', dl_by_dbndiff2, bndiff2)\n",
    "cmp('bndiff', dl_by_dbndiff, bndiff)\n",
    "cmp('bnmeani', dl_by_dbnmeani, bnmeani)\n",
    "cmp('hprebn', dl_by_dhprebn, hprebn)\n",
    "cmp('embcat', dl_by_dembcat, embcat)\n",
    "cmp('W1', dl_by_dW1, W1)\n",
    "cmp('b1', dl_by_db1, b1)\n",
    "cmp('emb', dl_by_demb, emb)\n",
    "cmp('C', dl_by_dC, C)"
   ]
  },
  {
   "cell_type": "code",
   "execution_count": 180,
   "metadata": {},
   "outputs": [
    {
     "data": {
      "text/plain": [
       "torch.Size([1, 64])"
      ]
     },
     "execution_count": 180,
     "metadata": {},
     "output_type": "execute_result"
    }
   ],
   "source": [
    "bnbias.shape"
   ]
  },
  {
   "cell_type": "code",
   "execution_count": 181,
   "metadata": {},
   "outputs": [
    {
     "data": {
      "text/plain": [
       "torch.Size([32, 64])"
      ]
     },
     "execution_count": 181,
     "metadata": {},
     "output_type": "execute_result"
    }
   ],
   "source": [
    "dl_by_dhpreact.shape"
   ]
  },
  {
   "cell_type": "code",
   "execution_count": 248,
   "metadata": {},
   "outputs": [
    {
     "name": "stdout",
     "output_type": "stream",
     "text": [
      "3.3551290035247803 diff: -2.384185791015625e-07\n"
     ]
    }
   ],
   "source": [
    "# Exercise 2: backprop through cross_entropy but all in one go\n",
    "# to complete this challenge look at the mathematical expression of the loss,\n",
    "# take the derivative, simplify the expression, and just write it out\n",
    "\n",
    "# forward pass\n",
    "\n",
    "# before:\n",
    "# logit_maxes = logits.max(1, keepdim=True).values\n",
    "# norm_logits = logits - logit_maxes # subtract max for numerical stability\n",
    "# counts = norm_logits.exp()\n",
    "# counts_sum = counts.sum(1, keepdims=True)\n",
    "# counts_sum_inv = counts_sum**-1 # if I use (1.0 / counts_sum) instead then I can't get backprop to be bit exact...\n",
    "# probs = counts * counts_sum_inv\n",
    "# logprobs = probs.log()\n",
    "# loss = -logprobs[range(n), Yb].mean()\n",
    "\n",
    "# now:\n",
    "loss_fast = F.cross_entropy(logits, Yb)\n",
    "print(loss_fast.item(), 'diff:', (loss_fast - loss).item())"
   ]
  },
  {
   "cell_type": "code",
   "execution_count": 250,
   "metadata": {},
   "outputs": [
    {
     "name": "stdout",
     "output_type": "stream",
     "text": [
      "logits          | exact: False | approximate: True  | maxdiff: 6.28642737865448e-09\n"
     ]
    }
   ],
   "source": [
    "dlogits = F.softmax(logits, 1) # calculate the probabilities for each character across all 32 examples in mini batch\n",
    "dlogits[range(n), Yb] -= 1 # subtract 1.0 from the CORRECT character / ground truth Y\n",
    "dlogits /= n # scale the gradient down by n to arrive at the mean\n",
    "\n",
    "cmp(\"logits\", dlogits, logits)"
   ]
  },
  {
   "cell_type": "code",
   "execution_count": 254,
   "metadata": {},
   "outputs": [
    {
     "data": {
      "text/plain": [
       "tensor([0.0703, 0.0848, 0.0186, 0.0502, 0.0211, 0.0810, 0.0250, 0.0363, 0.0176,\n",
       "        0.0315, 0.0402, 0.0379, 0.0381, 0.0272, 0.0354, 0.0139, 0.0091, 0.0197,\n",
       "        0.0153, 0.0508, 0.0513, 0.0223, 0.0265, 0.0721, 0.0565, 0.0258, 0.0214],\n",
       "       grad_fn=<SelectBackward0>)"
      ]
     },
     "execution_count": 254,
     "metadata": {},
     "output_type": "execute_result"
    }
   ],
   "source": [
    "F.softmax(logits, 1)[0] # only for the first element/example in our mini batch of 32 elements\n",
    "# as we can see, the values are almost all equally likely at this state of the network"
   ]
  },
  {
   "cell_type": "code",
   "execution_count": 261,
   "metadata": {},
   "outputs": [
    {
     "data": {
      "text/plain": [
       "tensor(-1.2666e-07, grad_fn=<SumBackward0>)"
      ]
     },
     "execution_count": 261,
     "metadata": {},
     "output_type": "execute_result"
    }
   ],
   "source": [
    "# to find out where we need to fine-tune our model, we identify the\n",
    "dlogits[0] * n # pre-scaling, this is exactly equal to the probabilities of the Softmax, except for the position of the correct element, where we subtracted -1\n",
    "\n",
    "# LET'S CHECK OUT THE MAGIC OF THE CROSS ENTROPY LOSS AND WHAT IT IS DOING IN THE BACKWARD PASS\n",
    "\n",
    "# Why do we do this?\n",
    "# Remember, dlogits are the GRADIENTS and GRADIENTS REPRESENT FORCES\n",
    "# The gradients tell us the direction in which we want to pull or push (\"nudge\") our values\n",
    "# And the direction is simple: We want to push UP on the probabilities of the correct values\n",
    "# And we want to pull DOWN on the probabilities of the incorrect values\n",
    "# And also remember: These sum up to 0.0. Therefore, if we have a high probability on a misprediction AND we have a low probability on the correct prediction, the remaining probabilities will be near 0. Therefore, we can automatically pull down on the incorrect probability by simultaneously pushing up on the correct probability.\n",
    "# Think of this as a pulley-system (\"Kabelzug\") --> When you pull down on on end, the other end will be pushed up and vice versa.\n",
    "# So by pulling down on one logit, we will push up other logits.\n",
    "# Therefore, the more we pull in the direction of the correct probability, the less force we will apply to the remaining incorrect logits.\n",
    "# This is happening in each row\n",
    "# and the amount of push and pull is exactly equalized since the sum of each row is 0.0\n",
    "# The more wrong a prediction, the larger will be the force pulling in the opposite direction. (i.e. the amount to which you mispredict is proportionate to the strength of the pull)\n",
    "\n",
    "# Important fact:\n",
    "# If the predictions came out perfectly correct, we would have 0 probabilities on all but one position, and this position would be the correct one.\n",
    "# Therefore, F.softmax(logits, 1) would look something like [0, 0, 0, 1, 0, 0]\n",
    "# If we now subtract 1.0 from the correct prediction, we would end up with all 0.0s in dlogits [0, 0, 0, 0, 0, 0]--> Therefore, we will NOT apply ANY force, since the prediction is already correct\n",
    "# Counter Example: Let's say that our model is 100% predicting the wrong value.\n",
    "# We would arrive at something akin to F.softmax(logits, 1) = [1, 0, 0, 0, 0, 0]\n",
    "# and our dlogits would be [1, 0, 0, -1, 0, 0] <-- REMEMBER: THEY SUM TO 0.0 !!!\n",
    "# What would happen now? In order arrive at the perfect state of all 0s in dlogits, we would heavily pull down on the first index (since the UPDATE step is -learning_rate * gradient) and we would heavily push up on the correct index (-learning_rate * -gradient). Therefore, our neural net will adjust itself by nudging its values in the direction of the gradient.\n",
    "# After one nudge, what will happen?\n",
    "# The probabilities will be updated. F.softmax(logits, 1) after the next iteration might result in [0.8, 0, 0, 0.2, 0, 0]. By subtracting -1 from the correct index to arrive at dlogits = [0.8, 0, 0, -0.8, 0, 0], we will once again pull down on the incorrect prediction and push up on the correct.\n",
    "# After the next iteration, we might end up at F.softmax(logits, 1) = [0.4, 0, 0, 0.6, 0, 0]; dlogits = [0.4, 0, 0, -0.4, 0, 0] and so on until we arrive at a correct prediction, where we will no longer update the gradients since their forces will be all 0s.\n",
    "\n",
    "# Why is this even more amazing?\n",
    "# Due to the backward pass or backpropagation, these gradients are distributed and interconnected throughout the network. Therefore, each push and pull has effects across the entire network, fine-tuning and nudging each parameter in order to arrive at the correct solution as indicated by the ground truth"
   ]
  },
  {
   "cell_type": "code",
   "execution_count": 251,
   "metadata": {},
   "outputs": [
    {
     "data": {
      "text/plain": [
       "<matplotlib.image.AxesImage at 0x1474c5a10>"
      ]
     },
     "execution_count": 251,
     "metadata": {},
     "output_type": "execute_result"
    },
    {
     "data": {
      "image/png": "[encoded data removed]",
      "text/plain": [
       "<Figure size 800x800 with 1 Axes>"
      ]
     },
     "metadata": {},
     "output_type": "display_data"
    }
   ],
   "source": [
    "plt.figure(figsize=(8,8))\n",
    "plt.imshow(dlogits.detach(), cmap=\"gray\")"
   ]
  },
  {
   "cell_type": "code",
   "execution_count": null,
   "metadata": {},
   "outputs": [],
   "source": []
  }
 ],
 "metadata": {
  "kernelspec": {
   "display_name": "torch",
   "language": "python",
   "name": "python3"
  },
  "language_info": {
   "codemirror_mode": {
    "name": "ipython",
    "version": 3
   },
   "file_extension": ".py",
   "mimetype": "text/x-python",
   "name": "python",
   "nbconvert_exporter": "python",
   "pygments_lexer": "ipython3",
   "version": "3.11.8"
  }
 },
 "nbformat": 4,
 "nbformat_minor": 2
}
